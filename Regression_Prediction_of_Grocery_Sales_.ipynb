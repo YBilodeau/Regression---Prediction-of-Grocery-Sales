{
 "cells": [
  {
   "cell_type": "markdown",
   "metadata": {
    "id": "33gY2xXj29gD"
   },
   "source": [
    "# **Regression – Prediction of Grocery Sales**\n",
    "- **Author:** Yvon Bilodeau\n",
    "- **Last updated:** August 2022\n",
    "---"
   ]
  },
  {
   "cell_type": "markdown",
   "metadata": {
    "id": "op2FdDmF3tkN"
   },
   "source": [
    "## **Project Desciption**"
   ]
  },
  {
   "cell_type": "markdown",
   "metadata": {
    "id": "3u80yf2b33dk"
   },
   "source": [
    "### **Overview**"
   ]
  },
  {
   "cell_type": "markdown",
   "metadata": {
    "id": "fFi-3nlB39QN"
   },
   "source": [
    "The data scientists at BigMart have collected 2013 sales data for 1559 products across 10 stores in different cities. Also, certain attributes of each product and store have been defined. The aim is to build a predictive model and predict the sales of each product at a particular outlet.\n",
    "\n",
    "Using this model, BigMart will try to understand the properties of products and outlets which play a key role in increasing sales."
   ]
  },
  {
   "cell_type": "markdown",
   "metadata": {
    "id": "QwlzFMohQp_l"
   },
   "source": [
    "### **Data Source**\n",
    "\n"
   ]
  },
  {
   "cell_type": "markdown",
   "metadata": {
    "id": "JOUAIYIJO29y"
   },
   "source": [
    "The data was sourced from [analyticsvidhya.com](https://datahack.analyticsvidhya.com/contest/practice-problem-big-mart-sales-iii/)\n",
    "\n",
    "There are 8523 rows, and 12 columns.\n",
    "The rows represent 8523 observations, and the columns represent 11 features and 1 target variable."
   ]
  },
  {
   "cell_type": "markdown",
   "metadata": {
    "id": "phtxGrI4LxQO"
   },
   "source": [
    "### **Data Dictionary**\n"
   ]
  },
  {
   "cell_type": "markdown",
   "metadata": {
    "id": "huwpa1H169bS"
   },
   "source": [
    "- **Item_Identifier:** Unique product ID\n",
    "- **Item_Weight:** Weight of product\n",
    "- **Item_Fat_Content:** Whether the product is low fat or regular\n",
    "- **Item_Visibility:** The percentage of total display area of all products in store allocated to the particular product\n",
    "- **Item_Type:** The category to which the product belongs\n",
    "- **Item_MRP:** Maximum Retail Price (list price) of the product\n",
    "- **Outlet_Identifier:** Unique store ID\n",
    "- **Outlet_Establishment_Year:** The year in which store was established\n",
    "- **Outlet_Size:** The size of the store in terms of ground area covered\n",
    "- **Outlet_Location_Type:** The type of area in which the store is located\n",
    "- **Outlet_Type:** Whether the outlet is a grocery store or some sort of supermarket\n",
    "- **Item_Outlet_Sales:** Sales of the product in the particular store. This is the target variable to be predicted."
   ]
  },
  {
   "cell_type": "markdown",
   "metadata": {
    "id": "Z9vyP80nOg9d"
   },
   "source": [
    "## **Import Libraries | Load the Dataset**"
   ]
  },
  {
   "cell_type": "markdown",
   "metadata": {
    "id": "COXUILam_mGO"
   },
   "source": [
    "### **Import Libraries**"
   ]
  },
  {
   "cell_type": "code",
   "execution_count": null,
   "metadata": {
    "colab": {
     "base_uri": "https://localhost:8080/"
    },
    "id": "aUYz6fIbFWBJ",
    "outputId": "5dece796-05b5-42ab-8c3c-2dcb95c5bfc2"
   },
   "outputs": [],
   "source": [
    "import numpy as np\n",
    "import pandas as pd\n",
    "\n",
    "from scipy import stats\n",
    "# StatsModels\n",
    "import statsmodels.api as sm\n",
    "\n",
    "import matplotlib.pyplot as plt\n",
    "from matplotlib.ticker import StrMethodFormatter\n",
    "price_0_fmt = StrMethodFormatter(\"${x:,.0f}\")\n",
    "price_2_fmt = StrMethodFormatter(\"${x:,.2f}\")\n",
    "perc_0_fmt = StrMethodFormatter('{x:.0%}')\n",
    "perc_2_fmt = StrMethodFormatter('{x:.2%}') \n",
    "weight_fmt= StrMethodFormatter(\"{x:.6}\")\n",
    "density_fmt= StrMethodFormatter(\"{x:.7}\")\n",
    "decimal_2_fmt = StrMethodFormatter('{x:,.2}') \n",
    "decimal_0_fmt = StrMethodFormatter('{x:,.0}') \n",
    "\n",
    "import seaborn as sns\n",
    "\n",
    "import missingno as msno\n",
    "\n",
    "# Preprocessing\n",
    "from sklearn.preprocessing import StandardScaler, OneHotEncoder, LabelEncoder\n",
    "from sklearn.impute import SimpleImputer\n",
    "from sklearn.compose import make_column_transformer, make_column_selector\n",
    "from sklearn.pipeline import make_pipeline\n",
    "from sklearn.model_selection import train_test_split\n",
    "\n",
    "# Dummy Regression\n",
    "from sklearn.dummy import DummyRegressor\n",
    "# Linear Regression\n",
    "from sklearn.linear_model import LinearRegression\n",
    "# Lasso Regression\n",
    "from sklearn.linear_model import Lasso\n",
    "# Ridge Regression\n",
    "from sklearn.linear_model import Ridge\n",
    "# Elastic Net Regression\n",
    "from sklearn.linear_model import ElasticNet\n",
    "# Decision Trees\n",
    "from sklearn.tree import DecisionTreeRegressor\n",
    "from sklearn import tree\n",
    "# Bagged Trees\n",
    "from sklearn.ensemble import BaggingRegressor\n",
    "# Suport Vector Regression\n",
    "from sklearn.svm import LinearSVR\n",
    "from sklearn.svm import SVR\n",
    "# K Neighbors Regression\n",
    "from sklearn.neighbors import KNeighborsRegressor\n",
    "# Random Forests\n",
    "from sklearn.ensemble import RandomForestRegressor\n",
    "# Gradient Boost\n",
    "from sklearn.ensemble import GradientBoostingRegressor\n",
    "# Light Gradient Boost\n",
    "from lightgbm import LGBMRegressor\n",
    "# XGBoost - eXtreme Gradient Boost\n",
    "from xgboost import XGBRegressor\n",
    "\n",
    "# Import GridSearch for Model Hypertuning\n",
    "from sklearn.model_selection import GridSearchCV\n",
    "\n",
    "# Regression Metrics\n",
    "from sklearn.metrics import r2_score\n",
    "from sklearn.metrics import mean_absolute_error\n",
    "from sklearn.metrics import mean_squared_error\n",
    "\n",
    "# Set global scikit-learn configuration \n",
    "from sklearn import set_config\n",
    "# Display estimators as a diagram in a Jupyter lab or notebook context\n",
    "set_config(display=None) # {‘text’, ‘diagram’}, default=None\n",
    "\n",
    "# Calculate the correlation/strength-of-association of features\n",
    "# in a data-set with dython\n",
    "from dython.nominal import associations"
   ]
  },
  {
   "cell_type": "code",
   "execution_count": null,
   "metadata": {},
   "outputs": [],
   "source": [
    "# Set display options\n",
    "# Display all columns\n",
    "pd.set_option('display.max_column', None)\n",
    "# Display full width of field\n",
    "pd.set_option('display.max_colwidth', None)\n",
    "# Display table across entire available view\n",
    "pd.set_option('display.width', -1)\n",
    "# Display all rows\n",
    "pd.set_option('display.max_rows', None)"
   ]
  },
  {
   "cell_type": "code",
   "execution_count": null,
   "metadata": {},
   "outputs": [],
   "source": [
    "image_folder_path = \"C:/Users/DELL/Documents/GitHub/Regression---Prediction-of-Grocery-Sales/Images/\""
   ]
  },
  {
   "cell_type": "markdown",
   "metadata": {},
   "source": [
    "### **Load the Dataset**"
   ]
  },
  {
   "cell_type": "code",
   "execution_count": null,
   "metadata": {
    "id": "TrjtMPiZPPWL",
    "scrolled": false
   },
   "outputs": [],
   "source": [
    "# Load the dataset\n",
    "url = 'https://raw.githubusercontent.com/YBilodeau/Regression---Prediction-of-Grocery-Sales/main/Data/Grocery_Sales.csv'\n",
    "df = pd.read_csv(url)"
   ]
  },
  {
   "cell_type": "code",
   "execution_count": null,
   "metadata": {
    "id": "HDf3pDZOTEbf"
   },
   "outputs": [],
   "source": [
    "# Create copies of the dataset for editing \n",
    "eda_df = df.copy()\n",
    "ml_df = df.copy()"
   ]
  },
  {
   "cell_type": "markdown",
   "metadata": {
    "id": "MytoZVznPWPd"
   },
   "source": [
    "## **Inspect the Data**"
   ]
  },
  {
   "cell_type": "markdown",
   "metadata": {
    "id": "JVXIY3Sj_QN8"
   },
   "source": [
    "### **Display the Row and Column Count**"
   ]
  },
  {
   "cell_type": "code",
   "execution_count": null,
   "metadata": {
    "colab": {
     "base_uri": "https://localhost:8080/"
    },
    "id": "fkts3k-KPm5a",
    "outputId": "70fede20-1b2e-4477-9702-d85bd2da4a64"
   },
   "outputs": [],
   "source": [
    "# Display the number of rows and columns for the dataframe\n",
    "df.shape\n",
    "print(f'There are {df.shape[0]} rows, and {df.shape[1]} columns.')\n",
    "print(f'The rows represent {df.shape[0]} observations, and the columns represent {df.shape[1]-1} features and 1 target variable.')"
   ]
  },
  {
   "cell_type": "markdown",
   "metadata": {
    "id": "Npez_DLB_cH7"
   },
   "source": [
    "### **Display Data Types**"
   ]
  },
  {
   "cell_type": "code",
   "execution_count": null,
   "metadata": {
    "colab": {
     "base_uri": "https://localhost:8080/"
    },
    "id": "DaLyMnan_LyF",
    "outputId": "68fe0cc7-5b2a-4677-9a75-1eaca1b14494"
   },
   "outputs": [],
   "source": [
    "# Display the column names and datatypes for each column\n",
    "# Columns with mixed datatypes are identified as an object datatype\n",
    "df.dtypes"
   ]
  },
  {
   "cell_type": "markdown",
   "metadata": {
    "id": "-ddijDWr_uq-"
   },
   "source": [
    "### **Display Column Names, Count of Non-Null Values, and Data Types**"
   ]
  },
  {
   "cell_type": "code",
   "execution_count": null,
   "metadata": {
    "colab": {
     "base_uri": "https://localhost:8080/"
    },
    "id": "Fj8u4kjlGL8Z",
    "outputId": "5f2da8ee-6de2-454b-f622-02a5bc8a8e18"
   },
   "outputs": [],
   "source": [
    "# Display the column names, count of non-null values, and their datatypes\n",
    "df.info()"
   ]
  },
  {
   "cell_type": "markdown",
   "metadata": {
    "id": "YHb4d4c9nPyz"
   },
   "source": [
    "## **Clean the Data**"
   ]
  },
  {
   "cell_type": "markdown",
   "metadata": {
    "id": "s3T6QYAOzGHl"
   },
   "source": [
    "### **Display First (5) Rows**"
   ]
  },
  {
   "cell_type": "code",
   "execution_count": null,
   "metadata": {
    "colab": {
     "base_uri": "https://localhost:8080/",
     "height": 600
    },
    "id": "o2OINffGGKRh",
    "outputId": "799d1e6e-ab5d-4c54-b884-668828852457",
    "scrolled": false
   },
   "outputs": [],
   "source": [
    "# Display the first (5) rows of the dataframe\n",
    "df.head().style.format({ \"Item_MRP\":          price_2_fmt,\n",
    "                         \"Item_Outlet_Sales\": price_2_fmt,\n",
    "                         \"Item_Visibility\":   perc_2_fmt, \n",
    "                         \"Item_Weight\":       weight_fmt})"
   ]
  },
  {
   "cell_type": "markdown",
   "metadata": {
    "id": "PR7F91WVziI0"
   },
   "source": [
    "- The data appears to have loaded correctly."
   ]
  },
  {
   "cell_type": "markdown",
   "metadata": {
    "id": "xY66oGDUzZGU"
   },
   "source": [
    "### **Display the Descriptive Statistics**"
   ]
  },
  {
   "cell_type": "code",
   "execution_count": null,
   "metadata": {
    "colab": {
     "base_uri": "https://localhost:8080/",
     "height": 300
    },
    "id": "U13vsVNZbFok",
    "outputId": "0376736d-99b8-49ec-c11c-56fa0d1ffcf7"
   },
   "outputs": [],
   "source": [
    "# Display the descriptive statistics for the numeric columns\n",
    "df.describe()"
   ]
  },
  {
   "cell_type": "code",
   "execution_count": null,
   "metadata": {
    "colab": {
     "base_uri": "https://localhost:8080/",
     "height": 175
    },
    "id": "9O9E5DDGxC4j",
    "outputId": "4b518df0-f296-4bbc-b503-433996bdfc93"
   },
   "outputs": [],
   "source": [
    "# Display the descriptive statistics for the non-numeric columns\n",
    "df.describe(exclude=\"number\")"
   ]
  },
  {
   "cell_type": "markdown",
   "metadata": {
    "id": "JB_TojXL5hhm"
   },
   "source": [
    "### **Remove Unnecessary Columns**"
   ]
  },
  {
   "cell_type": "markdown",
   "metadata": {
    "id": "7TBv7r9f_G5l"
   },
   "source": [
    "#### **'Item_Identifier' column**"
   ]
  },
  {
   "cell_type": "code",
   "execution_count": null,
   "metadata": {
    "colab": {
     "base_uri": "https://localhost:8080/"
    },
    "id": "lLKINgfh-xFC",
    "outputId": "49e1e9f0-9277-4213-9ce0-878324c2b174"
   },
   "outputs": [],
   "source": [
    "# Calculate the count of unique values for this column\n",
    "unique_values = df.Item_Identifier.nunique()\n",
    "# Display the count of unique values for this column\n",
    "print(f'This column has {unique_values} unique values.')"
   ]
  },
  {
   "cell_type": "markdown",
   "metadata": {
    "id": "VjcpRlf5nR7q"
   },
   "source": [
    "- The high cardinality of this object column feature may adversely impact machine learning model prediction performance and processing times, as well as  exaggerate it's feature importance.\n",
    "- Dropping it for machine learning will be reconsidered during Preprocessing."
   ]
  },
  {
   "cell_type": "markdown",
   "metadata": {
    "id": "vv_rktD5nYuP"
   },
   "source": [
    "### **Remove Unecessary Rows**"
   ]
  },
  {
   "cell_type": "code",
   "execution_count": null,
   "metadata": {
    "colab": {
     "base_uri": "https://localhost:8080/"
    },
    "id": "1LE-ina0VEsw",
    "outputId": "5b0b302d-0977-43e3-978e-1b1c92368252"
   },
   "outputs": [],
   "source": [
    "# Display the number of duplicate rows in the dataset\n",
    "print(f'There are {df.duplicated().sum()} duplicate rows.')"
   ]
  },
  {
   "cell_type": "markdown",
   "metadata": {
    "id": "3Obw09ip0C_q"
   },
   "source": [
    "- No duplicates were found or dropped."
   ]
  },
  {
   "cell_type": "markdown",
   "metadata": {
    "id": "d-728pLSPPRf"
   },
   "source": [
    "### **Missing Values**"
   ]
  },
  {
   "cell_type": "code",
   "execution_count": null,
   "metadata": {
    "colab": {
     "base_uri": "https://localhost:8080/",
     "height": 333
    },
    "id": "PDDJB1iTGSi5",
    "outputId": "a85aad40-2b56-4fa9-d4a5-244f3fbd28ba"
   },
   "outputs": [],
   "source": [
    "# Display missing values by column\n",
    "msno.matrix(df, figsize=(16,3), labels=True, \n",
    "            fontsize=12, sort=\"descending\", color=(0,0,0));"
   ]
  },
  {
   "cell_type": "code",
   "execution_count": null,
   "metadata": {
    "colab": {
     "base_uri": "https://localhost:8080/"
    },
    "id": "KaEA3qPZVdMw",
    "outputId": "2525428c-c736-45a5-c877-99e65e9ba77e"
   },
   "outputs": [],
   "source": [
    "# Display the count of missing values by column\n",
    "print(df.isna().sum())"
   ]
  },
  {
   "cell_type": "code",
   "execution_count": null,
   "metadata": {
    "colab": {
     "base_uri": "https://localhost:8080/"
    },
    "id": "I891T_RFfuhZ",
    "outputId": "61fe0c27-086a-49a4-bffa-c17de226df67"
   },
   "outputs": [],
   "source": [
    "# Display the percentage of missing values by column\n",
    "print(df.isna().sum()/len(df)*100)"
   ]
  },
  {
   "cell_type": "markdown",
   "metadata": {
    "id": "SmTEIXGjaLLq"
   },
   "source": [
    "#### **'Item Weight' column**\n"
   ]
  },
  {
   "cell_type": "markdown",
   "metadata": {
    "id": "CNELunudZe4a"
   },
   "source": [
    "- 'Item_Weight' has 1463 (17.16%) missing values.\n",
    "- All identical 'Item_Identifier's should have the same 'Item_Weight'. The missing values can be imputed from other 'Item_Identifier's that have the same value.\n",
    "- For EDA, this step can be applied now.\n",
    "- For Machine Learning, this step will be applied after the train_test_splt utilizing 'Item_Identifier's from the Train dataset only to prevent data leakage."
   ]
  },
  {
   "cell_type": "code",
   "execution_count": null,
   "metadata": {
    "id": "lAX0YR6Pcdcm"
   },
   "outputs": [],
   "source": [
    "# Loop through index values of the dataframe\n",
    "for ind in eda_df.index:\n",
    "    # Create a filter to select the Item_Identifier corresponding to the index\n",
    "    item_filter = eda_df['Item_Identifier'] == eda_df.loc[ind,'Item_Identifier']\n",
    "\n",
    "    # Calculate the rounded value of the mean 'Item_Weight' of this rows 'Item_Identifier' \n",
    "    mean_item_weight = round(eda_df.loc[item_filter,'Item_Weight'].mean(), 3)\n",
    "\n",
    "    # Assign mean_item_weight to the 'Item_Weight' column of this row\n",
    "    eda_df.loc[ind,'Item_Weight'] = mean_item_weight"
   ]
  },
  {
   "cell_type": "code",
   "execution_count": null,
   "metadata": {
    "colab": {
     "base_uri": "https://localhost:8080/",
     "height": 327
    },
    "id": "AuJlgC44w2WH",
    "outputId": "abae263a-6403-40ab-f8ad-f211a38b39da"
   },
   "outputs": [],
   "source": [
    "# Identify any remaining 'Item_Identifier's without 'Item_Weight' for the eda_df\n",
    "print(eda_df.Item_Weight.isnull().sum())\n",
    "eda_df[eda_df.Item_Weight.isnull()]"
   ]
  },
  {
   "cell_type": "markdown",
   "metadata": {
    "id": "cYno-0BPsdBP"
   },
   "source": [
    "- For EDA, the remaining (4) values can be imputed from the median value of the column.\n"
   ]
  },
  {
   "cell_type": "code",
   "execution_count": null,
   "metadata": {
    "id": "OcT36S0UkEfY"
   },
   "outputs": [],
   "source": [
    "# Calculate the median value for the column\n",
    "median_item_weight = eda_df['Item_Weight'].median()\n",
    "\n",
    "# Fill the column's missing values with the median value for the column\n",
    "eda_df['Item_Weight'].fillna(median_item_weight, inplace=True)"
   ]
  },
  {
   "cell_type": "code",
   "execution_count": null,
   "metadata": {
    "colab": {
     "base_uri": "https://localhost:8080/"
    },
    "id": "s3F7IgkyYqIg",
    "outputId": "3e369f4d-00a0-444b-f9cd-d7b1ed8c9252"
   },
   "outputs": [],
   "source": [
    "# Confirm there are no remaining missing values for this column\n",
    "print(eda_df.Item_Weight.isnull().sum())"
   ]
  },
  {
   "cell_type": "markdown",
   "metadata": {
    "id": "fDMFy6yQNv83"
   },
   "source": [
    "#### **'Outlet_Size' column**\n",
    "- 'Outlet_Size' has 2410 (28%) missing values out of 8523 rows, which is significant."
   ]
  },
  {
   "cell_type": "code",
   "execution_count": null,
   "metadata": {
    "colab": {
     "base_uri": "https://localhost:8080/"
    },
    "id": "loMuvs7uOFy-",
    "outputId": "c2a6c25f-cac7-43e5-b865-1046d4454441"
   },
   "outputs": [],
   "source": [
    "# Display the unique values for the column\n",
    "print(df['Outlet_Size'].unique())"
   ]
  },
  {
   "cell_type": "code",
   "execution_count": null,
   "metadata": {
    "colab": {
     "base_uri": "https://localhost:8080/"
    },
    "id": "prJJq0blRXpF",
    "outputId": "03ea0dda-9b8a-47a1-d578-3b5716f4eb6d"
   },
   "outputs": [],
   "source": [
    "# Group the unique values by 'Outlet_Type' and 'Outlet_Location_Type'\n",
    "df.groupby(['Outlet_Type','Outlet_Location_Type'])['Outlet_Size'].unique()"
   ]
  },
  {
   "cell_type": "markdown",
   "metadata": {
    "id": "CcaPLyka_4S3"
   },
   "source": [
    "- It does not appear that we can impute 'Outlet_Size' based on 'Outlet_Type' and/or 'Outlet_Location_Type'.\n",
    "- Missing values will be replaced with 'Unknown' for this Object Data Type."
   ]
  },
  {
   "cell_type": "code",
   "execution_count": null,
   "metadata": {
    "id": "I6UiGx3zSOtb"
   },
   "outputs": [],
   "source": [
    "# Replace missing values with 'Unknown'\n",
    "df.Outlet_Size.fillna('Unknown',inplace=True)\n",
    "eda_df.Outlet_Size.fillna('Unknown',inplace=True)\n",
    "ml_df.Outlet_Size.fillna('Unknown',inplace=True)"
   ]
  },
  {
   "cell_type": "code",
   "execution_count": null,
   "metadata": {
    "colab": {
     "base_uri": "https://localhost:8080/"
    },
    "id": "2OibdsMkUCT3",
    "outputId": "6f727c5f-8d51-492b-e834-24f0ed51932a"
   },
   "outputs": [],
   "source": [
    "# Confirm missing values have been replaced\n",
    "print(df['Outlet_Size'].unique())\n",
    "print(eda_df['Outlet_Size'].unique())\n",
    "print(ml_df['Outlet_Size'].unique())"
   ]
  },
  {
   "cell_type": "markdown",
   "metadata": {
    "id": "beYr7ZdUsr62"
   },
   "source": [
    "### **Inspect Column Datatypes for Errors**"
   ]
  },
  {
   "cell_type": "markdown",
   "metadata": {
    "id": "aqlS_RZ3tAc3"
   },
   "source": [
    "- Ensure all columns match the data types listed in the data dictionary."
   ]
  },
  {
   "cell_type": "code",
   "execution_count": null,
   "metadata": {
    "colab": {
     "base_uri": "https://localhost:8080/"
    },
    "id": "_S_WS97RtGV1",
    "outputId": "9d253611-08c6-4b36-cbd9-8b788df3cf84"
   },
   "outputs": [],
   "source": [
    " # Display column names and datatypes\n",
    "df.dtypes"
   ]
  },
  {
   "cell_type": "code",
   "execution_count": null,
   "metadata": {
    "colab": {
     "base_uri": "https://localhost:8080/",
     "height": 357
    },
    "id": "a0y8MgMXtXaU",
    "outputId": "9c8a134b-724d-48ad-fc78-dc0a424a6427"
   },
   "outputs": [],
   "source": [
    "# Display first (5) rows\n",
    "df.head()"
   ]
  },
  {
   "cell_type": "markdown",
   "metadata": {
    "id": "WVPSQQU49EBm"
   },
   "source": [
    "- All columns match their datatypes."
   ]
  },
  {
   "cell_type": "markdown",
   "metadata": {
    "id": "vrX847SqU8en"
   },
   "source": [
    "### **Inspect Column Names for Errors**"
   ]
  },
  {
   "cell_type": "markdown",
   "metadata": {
    "id": "e6WqbzSg_odt"
   },
   "source": [
    "- Check for common syntax errors which may include extra white spaces at the beginning or end of strings or column names.\n",
    "\n",
    "- Check for typos or inconsistencies in strings that need to be fixed.(example: cat, Cat, cats)"
   ]
  },
  {
   "cell_type": "code",
   "execution_count": null,
   "metadata": {
    "colab": {
     "base_uri": "https://localhost:8080/"
    },
    "id": "rh8sCZOG3M7u",
    "outputId": "a3c37e80-f8b6-4fb3-e9d6-ea44161a4d19"
   },
   "outputs": [],
   "source": [
    "# Display column names\n",
    "df.columns"
   ]
  },
  {
   "cell_type": "markdown",
   "metadata": {
    "id": "vSIBNHsM3jPD"
   },
   "source": [
    "- No issues with column names noted."
   ]
  },
  {
   "cell_type": "markdown",
   "metadata": {
    "id": "hE1XF-SoFZ-N"
   },
   "source": [
    "### **Inspect Column Values for Errors**"
   ]
  },
  {
   "cell_type": "markdown",
   "metadata": {
    "id": "IlXi6yavTB57"
   },
   "source": [
    "#### **Object Datatypes**"
   ]
  },
  {
   "cell_type": "markdown",
   "metadata": {
    "id": "D0IwaQTV0Y20"
   },
   "source": [
    "- Check for common syntax errors which may include extra white spaces at the beginning or end of strings or column names.\n",
    "\n",
    "- Check for typos or inconsistencies in strings that need to be fixed."
   ]
  },
  {
   "cell_type": "code",
   "execution_count": null,
   "metadata": {
    "colab": {
     "base_uri": "https://localhost:8080/",
     "height": 175
    },
    "id": "ul-UP4cG76oP",
    "outputId": "4b542661-d7c9-453f-f439-2dd4221134e8"
   },
   "outputs": [],
   "source": [
    "# Display the descriptive statistics for the non-numeric columns\n",
    "df.describe(exclude=\"number\")"
   ]
  },
  {
   "cell_type": "code",
   "execution_count": null,
   "metadata": {
    "colab": {
     "base_uri": "https://localhost:8080/"
    },
    "id": "H_MT5maJp2oe",
    "outputId": "08a40f3d-a208-4308-c452-4f684bfc79ae"
   },
   "outputs": [],
   "source": [
    "# Create a series of the datatypes\n",
    "data_types = df.dtypes\n",
    "# Create a filter to select only the object datatypes\n",
    "object_data_types = data_types[(data_types == \"object\")]\n",
    "# Display the series of object datatypes\n",
    "object_data_types"
   ]
  },
  {
   "cell_type": "markdown",
   "metadata": {
    "id": "U55AYBLDFyv2"
   },
   "source": [
    "##### **'Item_Identifier' column**"
   ]
  },
  {
   "cell_type": "code",
   "execution_count": null,
   "metadata": {
    "colab": {
     "base_uri": "https://localhost:8080/"
    },
    "id": "yIBEP8qBF7Sf",
    "outputId": "d2518703-e310-4c63-c7d1-ca1f0cda20ef"
   },
   "outputs": [],
   "source": [
    "# Display the unique values from the column\n",
    "print(df['Item_Identifier'].unique())"
   ]
  },
  {
   "cell_type": "markdown",
   "metadata": {
    "id": "HaZT-uScGDMg"
   },
   "source": [
    "- This column has 1559 unique values, which is too many to \n",
    "inspect visually."
   ]
  },
  {
   "cell_type": "markdown",
   "metadata": {
    "id": "V9Sw2CpSTm1H"
   },
   "source": [
    "##### **'Item_Fat_Content' column**"
   ]
  },
  {
   "cell_type": "code",
   "execution_count": null,
   "metadata": {
    "colab": {
     "base_uri": "https://localhost:8080/"
    },
    "id": "fZMWhETqbuUc",
    "outputId": "5eee4186-2878-494b-f765-e0470299096a"
   },
   "outputs": [],
   "source": [
    "# Display the unique values from the column\n",
    "print(df['Item_Fat_Content'].unique())"
   ]
  },
  {
   "cell_type": "code",
   "execution_count": null,
   "metadata": {
    "colab": {
     "base_uri": "https://localhost:8080/"
    },
    "id": "9yleaSuuTO6E",
    "outputId": "592c2aa7-4e3e-4610-f11c-27443b0c33df"
   },
   "outputs": [],
   "source": [
    "df.groupby(['Item_Fat_Content'])['Item_Fat_Content'].count()"
   ]
  },
  {
   "cell_type": "markdown",
   "metadata": {
    "id": "JI9qvQZohBe8"
   },
   "source": [
    "- Replace 'low fat' and 'LF' with 'Low Fat'.\n",
    "- Replace 'reg' with 'Regular'."
   ]
  },
  {
   "cell_type": "code",
   "execution_count": null,
   "metadata": {
    "id": "sIeGei0m9Ozf"
   },
   "outputs": [],
   "source": [
    "# Define a dictionary with key/value pairs\n",
    "dict = {\"low fat\": 'Low Fat', \"reg\": 'Regular', \"LF\": 'Low Fat'}"
   ]
  },
  {
   "cell_type": "code",
   "execution_count": null,
   "metadata": {
    "id": "XGxMcB4xr-YI"
   },
   "outputs": [],
   "source": [
    "# Replace values using dictionary\n",
    "eda_df.replace({'Item_Fat_Content': dict}, inplace = True)\n",
    "ml_df.replace({'Item_Fat_Content': dict}, inplace = True)"
   ]
  },
  {
   "cell_type": "code",
   "execution_count": null,
   "metadata": {
    "colab": {
     "base_uri": "https://localhost:8080/"
    },
    "id": "MbiHaQHHC56l",
    "outputId": "3cfb4b94-d10c-4782-bcb7-97ac960f067f"
   },
   "outputs": [],
   "source": [
    "# Display unique values to confirm they have been updated\n",
    "print(eda_df['Item_Fat_Content'].unique())\n",
    "print(ml_df['Item_Fat_Content'].unique())"
   ]
  },
  {
   "cell_type": "markdown",
   "metadata": {
    "id": "5j11rzeM0vSc"
   },
   "source": [
    "- Replacement values confirmed."
   ]
  },
  {
   "cell_type": "markdown",
   "metadata": {
    "id": "_elJOwRnWG5I"
   },
   "source": [
    "##### **'Item_Type' column**"
   ]
  },
  {
   "cell_type": "code",
   "execution_count": null,
   "metadata": {
    "colab": {
     "base_uri": "https://localhost:8080/"
    },
    "id": "mz9Yv-aLTfhQ",
    "outputId": "02bc8858-9216-4a10-e69c-1e9ccde7d65b"
   },
   "outputs": [],
   "source": [
    "# Display the unique values from the column\n",
    "print(df['Item_Type'].unique())"
   ]
  },
  {
   "cell_type": "code",
   "execution_count": null,
   "metadata": {
    "colab": {
     "base_uri": "https://localhost:8080/"
    },
    "id": "ZiFbbhhQWWCT",
    "outputId": "360910ab-71f4-4ec6-e1ab-46c473b8a80c"
   },
   "outputs": [],
   "source": [
    "df.groupby(['Item_Type'])['Item_Type'].count()"
   ]
  },
  {
   "cell_type": "markdown",
   "metadata": {
    "id": "IDSZB6lS05fM"
   },
   "source": [
    "- No issues noted."
   ]
  },
  {
   "cell_type": "markdown",
   "metadata": {
    "id": "Dg7lSZ8oZjn3"
   },
   "source": [
    "##### **'Outlet_Identifier' column**"
   ]
  },
  {
   "cell_type": "code",
   "execution_count": null,
   "metadata": {
    "colab": {
     "base_uri": "https://localhost:8080/"
    },
    "id": "U8_UY1BsazPC",
    "outputId": "fcb3c21a-a76c-4e20-f3fe-df6d0e0cab2b"
   },
   "outputs": [],
   "source": [
    "# Display the unique values from the column\n",
    "print(df['Outlet_Identifier'].unique())"
   ]
  },
  {
   "cell_type": "code",
   "execution_count": null,
   "metadata": {
    "colab": {
     "base_uri": "https://localhost:8080/"
    },
    "id": "trR9t2vcToIC",
    "outputId": "1a4436b9-3e38-477b-b4ce-883f3e601a02"
   },
   "outputs": [],
   "source": [
    "df.groupby(['Outlet_Identifier'])['Outlet_Identifier'].count()"
   ]
  },
  {
   "cell_type": "markdown",
   "metadata": {
    "id": "RRlNm9171AgP"
   },
   "source": [
    "- No issues noted."
   ]
  },
  {
   "cell_type": "markdown",
   "metadata": {
    "id": "jSFyY3U8cVun"
   },
   "source": [
    "##### **'Outlet_Size' column**"
   ]
  },
  {
   "cell_type": "code",
   "execution_count": null,
   "metadata": {
    "colab": {
     "base_uri": "https://localhost:8080/"
    },
    "id": "qAR0oYiKdDbQ",
    "outputId": "2270fde7-8f79-4979-a111-05e7d9d156b2",
    "scrolled": true
   },
   "outputs": [],
   "source": [
    "# Display the unique values from the column\n",
    "print(df['Outlet_Size'].unique())"
   ]
  },
  {
   "cell_type": "code",
   "execution_count": null,
   "metadata": {
    "colab": {
     "base_uri": "https://localhost:8080/"
    },
    "id": "7S_ydb7xgWEk",
    "outputId": "46964fc7-0ce6-46a4-f612-f36189bb50e8"
   },
   "outputs": [],
   "source": [
    "df.groupby(['Outlet_Size'])['Outlet_Size'].count()"
   ]
  },
  {
   "cell_type": "markdown",
   "metadata": {
    "id": "8wh1oWYK1Ix4"
   },
   "source": [
    "- No issues noted."
   ]
  },
  {
   "cell_type": "markdown",
   "metadata": {
    "id": "Teqfot3acWA2"
   },
   "source": [
    "##### **'Outlet_Location_Type' column**"
   ]
  },
  {
   "cell_type": "code",
   "execution_count": null,
   "metadata": {
    "colab": {
     "base_uri": "https://localhost:8080/"
    },
    "id": "mFiMVpKjdH5E",
    "outputId": "756e513d-e424-4237-fbba-d3a2dda59b8d"
   },
   "outputs": [],
   "source": [
    "# Display the unique values from the column\n",
    "print(df['Outlet_Location_Type'].unique())"
   ]
  },
  {
   "cell_type": "code",
   "execution_count": null,
   "metadata": {
    "colab": {
     "base_uri": "https://localhost:8080/"
    },
    "id": "Cb1dj9aDUHEk",
    "outputId": "af09b5ab-62e4-407c-b9b4-3589639beece"
   },
   "outputs": [],
   "source": [
    "df.groupby(['Outlet_Location_Type'])['Outlet_Location_Type'].count()"
   ]
  },
  {
   "cell_type": "markdown",
   "metadata": {
    "id": "H03lIQp31KuX"
   },
   "source": [
    "- No issues noted."
   ]
  },
  {
   "cell_type": "markdown",
   "metadata": {
    "id": "A4k4caWlc5_3"
   },
   "source": [
    "##### **'Outlet_Type' column**"
   ]
  },
  {
   "cell_type": "code",
   "execution_count": null,
   "metadata": {
    "colab": {
     "base_uri": "https://localhost:8080/"
    },
    "id": "AiCZYdC3dSnK",
    "outputId": "53272e14-1a35-4b23-f131-1f3e599cf77f"
   },
   "outputs": [],
   "source": [
    "# Display the unique values from the column\n",
    "print(df['Outlet_Type'].unique())"
   ]
  },
  {
   "cell_type": "code",
   "execution_count": null,
   "metadata": {
    "colab": {
     "base_uri": "https://localhost:8080/"
    },
    "id": "xykou3cuUNNK",
    "outputId": "6dc70722-12a7-4d13-c678-3f1522160b4a"
   },
   "outputs": [],
   "source": [
    "df.groupby(['Outlet_Type'])['Outlet_Type'].count()"
   ]
  },
  {
   "cell_type": "markdown",
   "metadata": {
    "id": "T2Ptexv01M3A"
   },
   "source": [
    "- No issues noted."
   ]
  },
  {
   "cell_type": "markdown",
   "metadata": {
    "id": "MJShs6IT7Yo3"
   },
   "source": [
    "#### **Numerical Datatypes**"
   ]
  },
  {
   "cell_type": "code",
   "execution_count": null,
   "metadata": {
    "colab": {
     "base_uri": "https://localhost:8080/",
     "height": 300
    },
    "id": "MQS3aHqW7wzE",
    "outputId": "422500e1-bb06-42ac-b535-3b99d6605f79"
   },
   "outputs": [],
   "source": [
    "# Display the descriptive statistics for the numeric columns\n",
    "df.describe().round(3)"
   ]
  },
  {
   "cell_type": "markdown",
   "metadata": {
    "id": "DkXlRgCluuJP"
   },
   "source": [
    "- **'Item_Weight'** -\n",
    "No unusual statistics were noted.\n",
    "- **'Item_Visibility'** - \n",
    "The percentage of total display area of all products in a store allocated to the particular product appears to have an extreme range. (Minimum value of 0.000 and a Maximum value of 0.328)\n",
    "- **'Item_MRP'** -\n",
    "No unusual statistics were noted.\n",
    "- **'Outlet_Establishment_Year'** -\n",
    "No unusual statistics were noted.\n",
    "- **'Item_Outlet_Sales'** -\n",
    "No unusual statistics were noted.\n"
   ]
  },
  {
   "cell_type": "markdown",
   "metadata": {
    "id": "NqfnRAP-jWdZ"
   },
   "source": [
    "## **Exploratory Data Analysis**"
   ]
  },
  {
   "cell_type": "markdown",
   "metadata": {
    "id": "F6_RIzH4_6WV"
   },
   "source": [
    "#### **Functions**"
   ]
  },
  {
   "cell_type": "markdown",
   "metadata": {
    "id": "WaD_LRBJ51sT"
   },
   "source": [
    "##### **Statistics Function**"
   ]
  },
  {
   "cell_type": "code",
   "execution_count": null,
   "metadata": {
    "id": "5vg7rxeHLiXa"
   },
   "outputs": [],
   "source": [
    "# Create a function to display supplemental statistics \n",
    "def column_statistics(df, column_name, max_unique_values_to_disply=20):\n",
    "    # Display the count of missing values for this column\n",
    "    print(f'Missing Values: {df[column_name].isna().sum()} ({round((df[column_name].isna().sum())/(df.shape[0])*100,1)})%')\n",
    "\n",
    "    # Determine Outliers - Only if this is a numeric column\n",
    "    if (df[column_name].dtype == 'int64') | (df[column_name].dtype == 'float64'):\n",
    "        # Create outlier filters\n",
    "        q1 = df[column_name].quantile(0.25) # 25th percentile\n",
    "        q3 = df[column_name].quantile(0.75) # 75th percentile\n",
    "        iqr = q3 - q1 # Interquartile range\n",
    "        low_limit = q1 - (1.5 * iqr) # low limit\n",
    "        high_limit = q3 + (1.5 * iqr) # high limit\n",
    "        # Create outlier dataframes\n",
    "        low_df = df[(df[column_name] < low_limit)]\n",
    "        high_df = df[(df[column_name] > high_limit)]\n",
    "        # Calculate the outlier counts and percentages\n",
    "        low_oulier_count = low_df.shape[0]\n",
    "        low_outlier_percentge = round(((low_oulier_count)/(df.shape[0])*100),1)\n",
    "        high_oulier_count = high_df.shape[0]\n",
    "        high_outlier_percentge = round(((high_oulier_count)/(df.shape[0])*100),1)\n",
    "        # Display the outlier counts.\n",
    "        print(f'Outliers: {low_oulier_count} ({low_outlier_percentge})% low, {high_oulier_count} ({high_outlier_percentge})% high')\n",
    "        \n",
    "    # Display the count of unique values for this column\n",
    "    print(f'Unique values: {df[column_name].nunique()}')\n",
    "\n",
    "    # Display the unique values including Nan and their counts for this column,\n",
    "    # if the number of unique values is below the function parameter\n",
    "    if df[column_name].nunique() < max_unique_values_to_disply:\n",
    "        print(df[column_name].value_counts(dropna=False))"
   ]
  },
  {
   "cell_type": "markdown",
   "metadata": {
    "id": "IomTGD3exGD4"
   },
   "source": [
    "##### **Function to Display Histogram**"
   ]
  },
  {
   "cell_type": "code",
   "execution_count": null,
   "metadata": {},
   "outputs": [],
   "source": [
    "# Create a function to create a Histogram\n",
    "def hist_plot(df, column_name, bin_count='auto',\n",
    "              fs=(8,4), file_name='',\n",
    "              tit_lab='', x_lab='', y_lab='', \n",
    "              fmt='',\n",
    "              hza='center', rot=0):\n",
    "    # Variables\n",
    "    feature = df[column_name]\n",
    "    mean = feature.mean()\n",
    "    median = feature.median()\n",
    "    # Plot\n",
    "    fig, ax = plt.subplots(nrows=1, figsize=fs, facecolor='w')\n",
    "    sns.histplot(data=df, x=column_name, \n",
    "                 color='#069AF3', linewidth=2, bins=bin_count)\n",
    "    # Title and labels\n",
    "    plt.title(tit_lab, fontsize = 18, weight='bold')\n",
    "    plt.xlabel(x_lab, fontsize = 14, weight='bold')\n",
    "    plt.ylabel('Instances', fontsize = 14, weight='bold')\n",
    "    # String format\n",
    "    if fmt != '':\n",
    "        ax.xaxis.set_major_formatter(fmt)\n",
    "    # Ticks\n",
    "    plt.xticks(fontsize=10, weight='bold')\n",
    "    plt.yticks(fontsize=10, weight='bold')\n",
    "    # Face \n",
    "    ax.set_facecolor('lightblue')\n",
    "    # Spines\n",
    "    for axis in ['top','bottom','left','right']:\n",
    "        ax.spines[axis].set_linewidth(3)\n",
    "    # Vertical lines\n",
    "    ax.axvline(mean, color = 'magenta', linewidth=2, \n",
    "               label=f'Mean = {mean:,.2f}')\n",
    "    ax.axvline(median, ls='dotted', color = 'darkmagenta',  linewidth=2, \n",
    "               label=f'Median = {median:,.2f}')\n",
    "    # Display\n",
    "    ax.legend();\n",
    "    plt.tight_layout()\n",
    "    plt.show;\n",
    "    # Save an image of the plot\n",
    "    if file_name != '':\n",
    "        folder_file_name = image_folder_path + file_name\n",
    "        plt.savefig(folder_file_name, format='png', \n",
    "                    facecolor='w', edgecolor='w')"
   ]
  },
  {
   "cell_type": "markdown",
   "metadata": {
    "id": "Fu9l2RFQqXTX"
   },
   "source": [
    "##### **Function to Display a KDE Plot**"
   ]
  },
  {
   "cell_type": "code",
   "execution_count": null,
   "metadata": {
    "id": "S-NqfJkqpWZ0"
   },
   "outputs": [],
   "source": [
    "# Create a function to create a KDE Plot\n",
    "def kde_plot(df, column_name,\n",
    "             fs=(8,4), file_name='',\n",
    "             tit_lab='', x_lab='', y_lab='',\n",
    "             fmt='',\n",
    "             hza='center', rot=0):    \n",
    "    # Variables\n",
    "    feature = df[column_name]\n",
    "    mean = feature.mean()\n",
    "    median = feature.median()\n",
    "    # PLot\n",
    "    fig, ax = plt.subplots(nrows=1, figsize=fs, facecolor='w')\n",
    "    sns.kdeplot(data=df, x=column_name, \n",
    "                color='#069AF3', linewidth=2, fill=True)\n",
    "    # Title and labels\n",
    "    plt.title(tit_lab, fontsize = 18, weight='bold')\n",
    "    plt.xlabel(x_lab, fontsize = 14, weight='bold')\n",
    "    plt.ylabel('Density', fontsize = 14, weight='bold')\n",
    "    # String format\n",
    "    if fmt != '':\n",
    "        ax.xaxis.set_major_formatter(fmt)\n",
    "    # Ticks\n",
    "    plt.xticks(fontsize=10, weight='bold')\n",
    "    plt.yticks(fontsize=10, weight='bold')\n",
    "    # Face \n",
    "    ax.set_facecolor('lightblue')\n",
    "    # Spines\n",
    "    for axis in ['top','bottom','left','right']:\n",
    "        ax.spines[axis].set_linewidth(3)\n",
    "    # Vertical lines\n",
    "    ax.axvline(mean, color = 'magenta', linewidth=2, \n",
    "               label=f'Mean = {mean:,.2f}')\n",
    "    ax.axvline(median, ls='dotted', color = 'darkmagenta',  linewidth=2, \n",
    "               label=f'Median = {median:,.2f}')\n",
    "    # Display\n",
    "    ax.legend();\n",
    "    plt.tight_layout()\n",
    "    plt.show;\n",
    "    # Save an image of the plot\n",
    "    if file_name != '':\n",
    "        folder_file_name = image_folder_path + file_name\n",
    "        plt.savefig(folder_file_name, format='png', \n",
    "                    facecolor='w', edgecolor='w')"
   ]
  },
  {
   "cell_type": "markdown",
   "metadata": {
    "id": "pajoqOLCGbPz"
   },
   "source": [
    "##### **Function to Display a Boxplot**"
   ]
  },
  {
   "cell_type": "code",
   "execution_count": null,
   "metadata": {},
   "outputs": [],
   "source": [
    "# Create a function to create a KDE Plot\n",
    "def box_plot(df, column_name,\n",
    "             fs=(8,4), file_name='',\n",
    "             tit_lab='', x_lab='', y_lab='', \n",
    "             fmt='',\n",
    "             hza='center', rot=0):    \n",
    "    # Variables\n",
    "    feature = df[column_name]\n",
    "    mean = feature.mean()\n",
    "    median = feature.median()\n",
    "    # Plot\n",
    "    fig, ax = plt.subplots(nrows=1, figsize=fs, facecolor='w')\n",
    "    sns.boxplot(data=df, x=column_name, width=.5, color='#069AF3', ax=ax,\n",
    "                medianprops={'color':'k', 'linewidth':2},\n",
    "                whiskerprops={'color':'k', 'linewidth':2},\n",
    "                boxprops={'facecolor':'#069AF3', \n",
    "                          'edgecolor':'k', 'linewidth':2},\n",
    "                capprops={'color':'k', 'linewidth':3},\n",
    "                flierprops={'marker':'o', 'markersize':8, \n",
    "                            'markerfacecolor':'#069AF3', \n",
    "                            'markeredgecolor':'k'}); \n",
    "    # Title and labels\n",
    "    plt.title(tit_lab, fontsize = 18, weight='bold')\n",
    "    plt.xlabel(x_lab, fontsize = 14, weight='bold')\n",
    "    plt.ylabel('', fontsize = 14, weight='bold')\n",
    "    # String format\n",
    "    if fmt != '':\n",
    "        ax.xaxis.set_major_formatter(fmt)\n",
    "    # Ticks\n",
    "    plt.xticks(fontsize=10, weight='bold')\n",
    "    plt.yticks(fontsize=10, weight='bold')\n",
    "    # Face \n",
    "    ax.set_facecolor('lightblue')\n",
    "    # Spines\n",
    "    for axis in ['top','bottom','left','right']:\n",
    "        ax.spines[axis].set_linewidth(3)\n",
    "    # Vertical lines\n",
    "    ax.axvline(mean, color = 'magenta', linewidth=2, \n",
    "               label=f'Mean = {mean:,.2f}')\n",
    "    ax.axvline(median, ls='dotted', color = 'darkmagenta',  linewidth=2, \n",
    "               label=f'Median = {median:,.2f}')\n",
    "\n",
    "    # ax.yaxis.set_major_formatter({x:.5f});\n",
    "    ax.legend();\n",
    "    plt.tight_layout()\n",
    "    plt.show;"
   ]
  },
  {
   "cell_type": "markdown",
   "metadata": {
    "id": "HPWx8JOd7Tfe"
   },
   "source": [
    "##### **Function to Display Countplot**"
   ]
  },
  {
   "cell_type": "code",
   "execution_count": null,
   "metadata": {
    "id": "1akfcKfa7PLI"
   },
   "outputs": [],
   "source": [
    "# Create a function to create a Count Plot\n",
    "def count_plot(df, column_name, label_order, \n",
    "               fs=(8,4), file_name='',\n",
    "               tit_lab='', x_lab='', y_lab='', \n",
    "               hza='center', rot=0):       \n",
    "    # Plot    \n",
    "    fig, ax = plt.subplots(nrows=1, figsize=fs, facecolor='w')\n",
    "    sns.countplot(data=df, x=column_name, lw=3, ec='k', \n",
    "                  color='#069AF3', order=label_order)\n",
    "#     plt.xticks(weight='bold', rotation=rot, ha=hza)\n",
    "    # Title and labels\n",
    "    plt.title(tit_lab, fontsize = 18, weight='bold')\n",
    "    plt.xlabel(x_lab, fontsize = 14, weight='bold')\n",
    "    plt.ylabel('Instances', fontsize = 14, weight='bold')\n",
    "    # Ticks\n",
    "    plt.xticks(fontsize=12, weight='bold', ha=hza, rotation=rot,)\n",
    "    plt.yticks(fontsize=10, weight='bold')\n",
    "    # Face \n",
    "    ax.set_facecolor('lightblue')\n",
    "    # Spines\n",
    "    for axis in ['top','bottom','left','right']:\n",
    "        ax.spines[axis].set_linewidth(3)\n",
    "    # Display\n",
    "    plt.tight_layout()\n",
    "    plt.show;\n",
    "    # Save an image of the plot\n",
    "    if file_name != '':\n",
    "        folder_file_name = image_folder_path + file_name\n",
    "        plt.savefig(folder_file_name, format='png', \n",
    "                    facecolor='w', edgecolor='w')"
   ]
  },
  {
   "cell_type": "markdown",
   "metadata": {
    "id": "Idc2y4YfQIYH"
   },
   "source": [
    "##### **Function to Display Scatter Plot**"
   ]
  },
  {
   "cell_type": "code",
   "execution_count": null,
   "metadata": {
    "id": "L-P77TpjQItq"
   },
   "outputs": [],
   "source": [
    "# Create a function to create a Scatter Plot\n",
    "def scatter_plot(df, x, y, file_name='',\n",
    "                 tit_lab='', x_lab='', y_lab=''):\n",
    "    # Variables\n",
    "    palette_dict = {0: 'indigo' , 1: 'magenta'}\n",
    "    # PLot\n",
    "    fig, ax = plt.subplots(figsize=(8,4), facecolor='w');\n",
    "    sns.scatterplot(x=df[x], y=df[y]);\n",
    "    # Regression Line\n",
    "    m, b, *_ = stats.linregress(df[x], df[y])\n",
    "    # Labels\n",
    "    plt.title(tit_lab, fontsize = 22, weight='bold')\n",
    "    plt.xlabel(x_lab, fontsize = 14, weight='bold')\n",
    "    plt.ylabel(y_lab, fontsize = 14, weight='bold');\n",
    "    # Ticks\n",
    "    plt.xticks(fontsize = 10, weight='bold')\n",
    "    plt.yticks(fontsize = 10, weight='bold');\n",
    "    # Face \n",
    "    ax.set_facecolor('lightblue')\n",
    "    # Spines\n",
    "    for axis in ['top','bottom','left','right']:\n",
    "        ax.spines[axis].set_linewidth(3)\n",
    "    # String format\n",
    "    ax.yaxis.set_major_formatter(price_fmt);\n",
    "    # Display\n",
    "    # plt.legend(bbox_to_anchor=(1.23, 1))\n",
    "    plt.tight_layout()\n",
    "    plt.show;\n",
    "    # Save an image of the plot\n",
    "    if file_name != '':\n",
    "        folder_file_name = image_folder_path + file_name\n",
    "        plt.savefig(folder_file_name, format='png', \n",
    "                    facecolor='w', edgecolor='w')"
   ]
  },
  {
   "cell_type": "markdown",
   "metadata": {
    "id": "QWwoF4RCXgAr"
   },
   "source": [
    "##### **Function to Display Reg Plot**"
   ]
  },
  {
   "cell_type": "code",
   "execution_count": null,
   "metadata": {
    "id": "1hcN8EXbW3Ev"
   },
   "outputs": [],
   "source": [
    "# Create a function to create a Reg Plot\n",
    "def reg_plot(df, x, y, file_name='',\n",
    "             tit_lab='', x_lab='', y_lab='',\n",
    "             x_fmt='', y_fmt=''):\n",
    "    # Variaables\n",
    "    palette_dict = {0: 'indigo' , 1: 'magenta'}\n",
    "    # PLot\n",
    "    fig, ax = plt.subplots(figsize=(8,4), facecolor='w');\n",
    "    sns.scatterplot(x=df[x], y=df[y]);\n",
    "    sns.regplot(data=df, x=x,y=y,\n",
    "                line_kws={'color':'black'},\n",
    "                scatter_kws={'s':1}); \n",
    "    # Regression Line\n",
    "    m, b, *_ = stats.linregress(df[x], df[y])\n",
    "    # Labels\n",
    "    plt.title(tit_lab, fontsize = 22, weight='bold')\n",
    "    plt.xlabel(x_lab, fontsize = 14, weight='bold')\n",
    "    plt.ylabel(y_lab, fontsize = 14, weight='bold')\n",
    "    # String format\n",
    "    if x_fmt != '':\n",
    "        ax.xaxis.set_major_formatter(x_fmt)\n",
    "    if y_fmt != '':\n",
    "        ax.yaxis.set_major_formatter(y_fmt)\n",
    "    # Ticks\n",
    "    plt.xticks(fontsize = 10, weight='bold')\n",
    "    plt.yticks(fontsize = 10, weight='bold');\n",
    "    # Face \n",
    "    ax.set_facecolor('lightblue')\n",
    "    # Spines\n",
    "    for axis in ['top','bottom','left','right']:\n",
    "        ax.spines[axis].set_linewidth(3)\n",
    "    # Display\n",
    "    # plt.legend(bbox_to_anchor=(1.23, 1))\n",
    "    plt.tight_layout()\n",
    "    plt.show;\n",
    "    # Save an image of the plot\n",
    "    if file_name != '':\n",
    "        folder_file_name = image_folder_path + file_name\n",
    "        plt.savefig(folder_file_name, format='png', \n",
    "                    facecolor='w', edgecolor='w')"
   ]
  },
  {
   "cell_type": "markdown",
   "metadata": {
    "id": "QWwoF4RCXgAr"
   },
   "source": [
    "##### **Function to Display Reg Plot - Version 2**"
   ]
  },
  {
   "cell_type": "code",
   "execution_count": null,
   "metadata": {
    "id": "1hcN8EXbW3Ev"
   },
   "outputs": [],
   "source": [
    "# Create a function to create a Reg Plot\n",
    "# Version 2 will distinguish 'Outlet_Location_Type'\n",
    "def reg_2_plot(df, x, y, file_name='',\n",
    "               tit_lab='', x_lab='', y_lab='',\n",
    "               x_fmt='', y_fmt=''):\n",
    "    # PLot\n",
    "    fig, ax = plt.subplots(figsize=(8,4), facecolor='w');\n",
    "    sns.scatterplot(data=df, x=df[x], y=df[y], hue='Outlet_Type', alpha=.8);\n",
    "\n",
    "    sns.regplot(data=df[df['Outlet_Type'] == 'Grocery Store'], \n",
    "                x='Item_Visibility', y='Item_Outlet_Sales', \n",
    "                lowess=True,\n",
    "                scatter_kws={'s':0},\n",
    "                line_kws={'color':'green', 'lw':3})\n",
    "    sns.regplot(data=df[df['Outlet_Type'] == 'Supermarket Type1'], \n",
    "                x = 'Item_Visibility', y = 'Item_Outlet_Sales', \n",
    "                lowess=True,\n",
    "                scatter_kws={'s':0}, \n",
    "                line_kws={'color': \"blue\", 'lw':3})\n",
    "    sns.regplot(data=df[df['Outlet_Type'] == 'Supermarket Type2'], \n",
    "                x = 'Item_Visibility', y = 'Item_Outlet_Sales', \n",
    "                lowess=True,\n",
    "                scatter_kws={'s':0}, \n",
    "                line_kws={'color': \"orange\", 'lw':3})\n",
    "    sns.regplot(data=df[df['Outlet_Type'] == 'Supermarket Type3'], \n",
    "                x = 'Item_Visibility', y = 'Item_Outlet_Sales', \n",
    "                lowess=True,\n",
    "                scatter_kws={'s':0}, \n",
    "                line_kws={'color': \"red\", 'lw':3})\n",
    "    # Regression Line\n",
    "    m, b, *_ = stats.linregress(df[x], df[y])\n",
    "    # Labels\n",
    "    plt.title(tit_lab, fontsize = 22, weight='bold')\n",
    "    plt.xlabel(x_lab, fontsize = 14, weight='bold')\n",
    "    plt.ylabel(y_lab, fontsize = 14, weight='bold');\n",
    "    # String format\n",
    "    if x_fmt != '':\n",
    "        ax.xaxis.set_major_formatter(x_fmt)\n",
    "    if y_fmt != '':\n",
    "        ax.yaxis.set_major_formatter(y_fmt)\n",
    "    # Ticks\n",
    "    plt.xticks(fontsize = 10, weight='bold')\n",
    "    plt.yticks(fontsize = 10, weight='bold');\n",
    "    # Face \n",
    "    ax.set_facecolor('lightblue')\n",
    "    # Spines\n",
    "    for axis in ['top','bottom','left','right']:\n",
    "        ax.spines[axis].set_linewidth(3)\n",
    "    # Display\n",
    "    # plt.legend(bbox_to_anchor=(1.23, 1))\n",
    "    plt.tight_layout()\n",
    "    plt.show;\n",
    "    # Save an image of the plot\n",
    "    if file_name != '':\n",
    "        folder_file_name = image_folder_path + file_name\n",
    "        plt.savefig(folder_file_name, format='png', \n",
    "                    facecolor='w', edgecolor='w')"
   ]
  },
  {
   "cell_type": "markdown",
   "metadata": {},
   "source": [
    "##### **Function to Display Bar Plot**"
   ]
  },
  {
   "cell_type": "code",
   "execution_count": null,
   "metadata": {},
   "outputs": [],
   "source": [
    "# Create a function to create a Bar Plot\n",
    "def bar_plot(df, x_column_name, y_column_name, label_order, \n",
    "             fs=(8,4), file_name='',\n",
    "             tit_lab='', x_lab='', y_lab='', \n",
    "             fmt='',\n",
    "             hza='center', rot=0):\n",
    "    # Plot\n",
    "    fig, ax = plt.subplots(nrows=1, figsize=fs, facecolor='w')\n",
    "    sns.barplot(data=df, \n",
    "                y=y_column_name, \n",
    "                x=x_column_name, \n",
    "                order=label_order,\n",
    "                palette='viridis');\n",
    "    # Title and labels\n",
    "    plt.title(tit_lab, fontsize = 18, weight='bold')\n",
    "    plt.xlabel(x_lab, fontsize = 14, weight='bold')\n",
    "    plt.ylabel(y_lab, fontsize = 14, weight='bold')\n",
    "    # Ticks\n",
    "    plt.xticks(fontsize=10, weight='bold', rotation=rot, ha=hza)\n",
    "    plt.yticks(fontsize=10, weight='bold')\n",
    "    # Face\n",
    "    ax.set_facecolor('w')\n",
    "    # String format\n",
    "    if fmt != '':\n",
    "        ax.yaxis.set_major_formatter(fmt)\n",
    "    # Spines\n",
    "    for axis in ['top','bottom','left','right']:\n",
    "        ax.spines[axis].set_linewidth(3)\n",
    "    # Display    \n",
    "    plt.tight_layout()\n",
    "    plt.show;\n",
    "    # Save an image of the plot\n",
    "    if file_name != '':\n",
    "        folder_file_name = image_folder_path + file_name\n",
    "        plt.savefig(folder_file_name, format='png', \n",
    "                    facecolor='w', edgecolor='w')"
   ]
  },
  {
   "cell_type": "markdown",
   "metadata": {},
   "source": [
    "##### **Function to Display Line Plot for Model Metrics**"
   ]
  },
  {
   "cell_type": "code",
   "execution_count": null,
   "metadata": {},
   "outputs": [],
   "source": [
    "# Create a function to create a Bar Plot\n",
    "def line_plot(df, column_1='Train R2', column_2='Test R2',\n",
    "             fs=(12,8), file_name='',\n",
    "             tit_lab='', x_lab='', y_lab='', \n",
    "             fmt='',\n",
    "             hza='center', rot=0):\n",
    "    # Plot\n",
    "    fig, ax = plt.subplots(nrows=1, figsize=fs, facecolor='w')\n",
    "    sns.lineplot(data=model_metrics_df[column_1], color=\"blueviolet\", \n",
    "                 linewidth=3, markersize=10, marker='o', label='Train');\n",
    "    sns.lineplot(data=model_metrics_df[column_2], color=\"yellowgreen\", \n",
    "                 linewidth=3, markersize=10, marker='o', label='Test');\n",
    "    # Title and labels\n",
    "    plt.title(tit_lab, fontsize = 18, weight='bold')\n",
    "    plt.xlabel(x_lab, fontsize = 14, weight='bold')\n",
    "    plt.ylabel(y_lab, fontsize = 14, weight='bold')\n",
    "    # Ticks\n",
    "    plt.xticks(fontsize=10, weight='bold', rotation=rot, ha=hza)\n",
    "    plt.yticks(fontsize=10, weight='bold')\n",
    "    # Face\n",
    "    ax.set_facecolor('w')\n",
    "    # String format\n",
    "    if fmt!= '':\n",
    "        ax.yaxis.set_major_formatter(fmt)\n",
    "    # Spines\n",
    "    for axis in ['top','bottom','left','right']:\n",
    "        ax.spines[axis].set_linewidth(3)\n",
    "    # Display    \n",
    "    plt.tight_layout()\n",
    "    plt.show;\n",
    "    # Save an image of the plot\n",
    "    if file_name != '':\n",
    "        folder_file_name = image_folder_path + file_name\n",
    "        plt.savefig(folder_file_name, format='png', \n",
    "                    facecolor='w', edgecolor='w')"
   ]
  },
  {
   "cell_type": "markdown",
   "metadata": {
    "id": "1Ho19NtVRDve"
   },
   "source": [
    "##### **Function to Display Skew**"
   ]
  },
  {
   "cell_type": "code",
   "execution_count": null,
   "metadata": {
    "id": "Z2_Lj0BXQUBt"
   },
   "outputs": [],
   "source": [
    "# Creates a function to determine skew\n",
    "def skew_function(df, column_name):\n",
    "    feature = df[column_name]\n",
    "    mean = feature.mean()\n",
    "    median = feature.median()\n",
    "    if median < mean:\n",
    "        print('This feature is positively skewed.')\n",
    "    else:\n",
    "        print('This feature is negatively skewed.')"
   ]
  },
  {
   "cell_type": "markdown",
   "metadata": {
    "id": "4bzH7RNBRJA0"
   },
   "source": [
    "##### **Function to Display Kurtosis**"
   ]
  },
  {
   "cell_type": "code",
   "execution_count": null,
   "metadata": {
    "id": "iqYUL8vnQcyG"
   },
   "outputs": [],
   "source": [
    "# Creates a function to determine kurtosis\n",
    "def kurtosis_function(df, column_name):\n",
    "    kurt = stats.kurtosis(df[column_name], fisher = False)\n",
    "    if kurt > 3:\n",
    "        print(f'This feature is Leptokurtic, because it has kurtosis value of {kurt}')\n",
    "        if kurt < 3.5:\n",
    "             print(f'Though we could say it is Mesokurtic, as the value is close to 3.')       \n",
    "    elif kurt < 3:\n",
    "        print(f'This feature is Platykurtic, because it has kurtosis value of {kurt}.')\n",
    "        if kurt > 2.5:\n",
    "             print(f'Though we could say it is Mesokurtic, as the value is close to 3.')       \n",
    "    else:\n",
    "        print(f'This feature is Mesokurtic, because it has kurtosis value of {kurt}.') "
   ]
  },
  {
   "cell_type": "code",
   "execution_count": null,
   "metadata": {
    "id": "hYF9JXdcbunB"
   },
   "outputs": [],
   "source": [
    "# Creates a function to determine the number of outliers based on z-score\n",
    "def outlier_function(df, column_name):\n",
    "    outliers = np.abs(stats.zscore(df[column_name])) > 3\n",
    "    print(f'This feature has {outliers.sum()} outliers.')"
   ]
  },
  {
   "cell_type": "markdown",
   "metadata": {
    "id": "LQNFKRuJYDsz"
   },
   "source": [
    "##### **Function to Describe Distribution**"
   ]
  },
  {
   "cell_type": "code",
   "execution_count": null,
   "metadata": {
    "id": "j-NQGz7zYFP8"
   },
   "outputs": [],
   "source": [
    "# Determine if this feature has skew, and if so, which direction (+/-)\n",
    "# Determine the kurtosis of the feature; Mesokurtic, Leptokurtic, or Platykurtic\n",
    "# Determine the number of outliers for this feature based on zscore\n",
    "def dist_desc(df, column_name):\n",
    "    skew_function(df, column_name)\n",
    "    kurtosis_function(df, column_name)\n",
    "    outlier_function(df, column_name)"
   ]
  },
  {
   "cell_type": "markdown",
   "metadata": {
    "id": "v7f3iwOtoss5"
   },
   "source": [
    "### **Categorical Columns**"
   ]
  },
  {
   "cell_type": "markdown",
   "metadata": {
    "id": "gghNiJeuF9sF"
   },
   "source": [
    "#### **Summary Statistics**"
   ]
  },
  {
   "cell_type": "code",
   "execution_count": null,
   "metadata": {
    "colab": {
     "base_uri": "https://localhost:8080/",
     "height": 175
    },
    "id": "vYEzy06soxBb",
    "outputId": "8271c6b3-39e9-4c56-e3c5-667314e3a715"
   },
   "outputs": [],
   "source": [
    "# Display the descriptive statistics for the non-numeric columns\n",
    "eda_df.describe(exclude=('number'))"
   ]
  },
  {
   "cell_type": "markdown",
   "metadata": {
    "id": "xj5aKKkKlCY7"
   },
   "source": [
    "#### **'Item_Identifier' column**"
   ]
  },
  {
   "cell_type": "code",
   "execution_count": null,
   "metadata": {
    "colab": {
     "base_uri": "https://localhost:8080/"
    },
    "id": "KJH41DfE97TC",
    "outputId": "947cfcf4-43d1-4364-8500-031561777d85"
   },
   "outputs": [],
   "source": [
    "# Display column statistics\n",
    "eda_df.Item_Identifier.describe()"
   ]
  },
  {
   "cell_type": "code",
   "execution_count": null,
   "metadata": {
    "colab": {
     "base_uri": "https://localhost:8080/"
    },
    "id": "dKpp8zGvELOi",
    "outputId": "070a0efa-3f76-4d12-aff6-cf1d9269c1a9"
   },
   "outputs": [],
   "source": [
    "# Display supplemental column statistics\n",
    "column_statistics(eda_df, 'Item_Identifier')"
   ]
  },
  {
   "cell_type": "code",
   "execution_count": null,
   "metadata": {
    "colab": {
     "base_uri": "https://localhost:8080/"
    },
    "id": "H6KY68TumlHs",
    "outputId": "204a8635-d547-4339-f3fe-869a6a08ce56"
   },
   "outputs": [],
   "source": [
    "# Display normalzed value counts\n",
    "eda_df['Item_Identifier'].value_counts(normalize=True).head()"
   ]
  },
  {
   "cell_type": "markdown",
   "metadata": {
    "id": "yOy_kXUVVctC"
   },
   "source": [
    "#### **'Item_Fat_Content' column**"
   ]
  },
  {
   "cell_type": "code",
   "execution_count": null,
   "metadata": {
    "colab": {
     "base_uri": "https://localhost:8080/"
    },
    "id": "F6pzMfQRJcGr",
    "outputId": "67d536c9-b1a5-422e-bb36-081bcf0ae320"
   },
   "outputs": [],
   "source": [
    "# Display column statistics\n",
    "df.Item_Fat_Content.describe()"
   ]
  },
  {
   "cell_type": "code",
   "execution_count": null,
   "metadata": {
    "colab": {
     "base_uri": "https://localhost:8080/"
    },
    "id": "syMjXH36JcG1",
    "outputId": "6a339065-cbb6-48c5-9906-84db7a55e0bd"
   },
   "outputs": [],
   "source": [
    "# Display supplemental column statistics\n",
    "column_statistics(eda_df, 'Item_Fat_Content')"
   ]
  },
  {
   "cell_type": "code",
   "execution_count": null,
   "metadata": {
    "colab": {
     "base_uri": "https://localhost:8080/"
    },
    "id": "Km4d06-3JcG2",
    "outputId": "734c09c1-670d-4e32-ad09-97dc57b809b7"
   },
   "outputs": [],
   "source": [
    "# Display normalzed value counts\n",
    "eda_df['Item_Fat_Content'].value_counts(normalize=True)"
   ]
  },
  {
   "cell_type": "code",
   "execution_count": null,
   "metadata": {
    "colab": {
     "base_uri": "https://localhost:8080/",
     "height": 334
    },
    "id": "lcfWFhm-EuwJ",
    "outputId": "2fce5e47-8d36-4948-a0ea-058678299923"
   },
   "outputs": [],
   "source": [
    "# Utilize function to display count plot\n",
    "count_plot(eda_df, 'Item_Fat_Content', ['Low Fat', 'Regular'], \n",
    "           tit_lab='Item Fat Content')"
   ]
  },
  {
   "cell_type": "markdown",
   "metadata": {
    "id": "anOTvvGrKRla"
   },
   "source": [
    "#### **'Item_Type' column**"
   ]
  },
  {
   "cell_type": "code",
   "execution_count": null,
   "metadata": {
    "colab": {
     "base_uri": "https://localhost:8080/"
    },
    "id": "OtLD4SmfKRll",
    "outputId": "971fd595-d989-4456-b539-e251b76be4c9"
   },
   "outputs": [],
   "source": [
    "# Display column statistics\n",
    "eda_df.Item_Type.describe()"
   ]
  },
  {
   "cell_type": "code",
   "execution_count": null,
   "metadata": {
    "colab": {
     "base_uri": "https://localhost:8080/"
    },
    "id": "Y1YPJSDwKRll",
    "outputId": "82c6a4c2-0891-4937-84fd-21acbc896ae4"
   },
   "outputs": [],
   "source": [
    "# Display supplemental column statistics\n",
    "column_statistics(eda_df, 'Item_Type')"
   ]
  },
  {
   "cell_type": "code",
   "execution_count": null,
   "metadata": {
    "colab": {
     "base_uri": "https://localhost:8080/"
    },
    "id": "5JHSv-hTKRll",
    "outputId": "ed24879b-11a8-4807-89e1-8d480809ac4b"
   },
   "outputs": [],
   "source": [
    "# Display normalzed value counts\n",
    "eda_df['Item_Type'].value_counts(normalize=True)"
   ]
  },
  {
   "cell_type": "code",
   "execution_count": null,
   "metadata": {
    "colab": {
     "base_uri": "https://localhost:8080/",
     "height": 478
    },
    "id": "XGo3Jh6PKRlm",
    "outputId": "b083782b-2bbc-4968-9b07-d4787ed11f99",
    "scrolled": false
   },
   "outputs": [],
   "source": [
    "labels = ['Fruits and Vegetables', 'Snack Foods','Household', 'Frozen Foods',\n",
    "              'Dairy','Canned', 'Baking Goods', 'Health and Hygiene',\n",
    "              'Soft Drinks', 'Meat', 'Breads', 'Hard Drinks', 'Others',\n",
    "              'Starchy Foods', 'Breakfast', 'Seafood']\n",
    "\n",
    "# Utilize function to display count plot\n",
    "count_plot(eda_df, 'Item_Type', labels, \n",
    "           fs=(14,6), hza='right', rot=30,\n",
    "           tit_lab='Item Type')"
   ]
  },
  {
   "cell_type": "markdown",
   "metadata": {
    "id": "amWegh7Tz3LN"
   },
   "source": [
    "#### **'Outlet_Size' column**"
   ]
  },
  {
   "cell_type": "code",
   "execution_count": null,
   "metadata": {
    "colab": {
     "base_uri": "https://localhost:8080/"
    },
    "id": "lY_U-nLl6Nvq",
    "outputId": "99979fc8-c053-4b80-b6e2-ffdedee8b542"
   },
   "outputs": [],
   "source": [
    "# Display column statistics\n",
    "eda_df['Outlet_Size'].describe()"
   ]
  },
  {
   "cell_type": "code",
   "execution_count": null,
   "metadata": {
    "colab": {
     "base_uri": "https://localhost:8080/"
    },
    "id": "1T-KVBs36Nvr",
    "outputId": "86a9198e-1828-4783-fb6b-ffae73b99547"
   },
   "outputs": [],
   "source": [
    "# Display supplemental column statistics\n",
    "column_statistics(eda_df, 'Outlet_Size')"
   ]
  },
  {
   "cell_type": "code",
   "execution_count": null,
   "metadata": {
    "colab": {
     "base_uri": "https://localhost:8080/"
    },
    "id": "1qhRZYhq6Nvr",
    "outputId": "944eb047-a1ed-4d3e-eff5-0f46fcaf5e3d"
   },
   "outputs": [],
   "source": [
    "# Display normalzed value counts\n",
    "eda_df['Outlet_Size'].value_counts(normalize=True)"
   ]
  },
  {
   "cell_type": "code",
   "execution_count": null,
   "metadata": {
    "colab": {
     "base_uri": "https://localhost:8080/",
     "height": 334
    },
    "id": "z8fkrTTk6Nvs",
    "outputId": "61b19763-64c4-4cd9-858a-f528e50ba414"
   },
   "outputs": [],
   "source": [
    "# Utilize function to display count plot\n",
    "labels = ['Medium', 'Unknown', 'Small', 'High']\n",
    "\n",
    "# Utilize function to display count plot\n",
    "count_plot(eda_df, 'Outlet_Size', labels, \n",
    "           tit_lab='Outlet Size')"
   ]
  },
  {
   "cell_type": "markdown",
   "metadata": {
    "id": "OhK1Cjt3z6UF"
   },
   "source": [
    "#### **'Outlet_Location_Type' column**"
   ]
  },
  {
   "cell_type": "code",
   "execution_count": null,
   "metadata": {
    "colab": {
     "base_uri": "https://localhost:8080/"
    },
    "id": "ZzB-dmoj6rJQ",
    "outputId": "ddd6e887-851d-4395-8a21-5331dfc0dec2"
   },
   "outputs": [],
   "source": [
    "# Display column statistics\n",
    "eda_df['Outlet_Location_Type'].describe()"
   ]
  },
  {
   "cell_type": "code",
   "execution_count": null,
   "metadata": {
    "colab": {
     "base_uri": "https://localhost:8080/"
    },
    "id": "C9f9ZItl6rJR",
    "outputId": "5bbe8940-f42f-4878-eaf8-af6652bf1224"
   },
   "outputs": [],
   "source": [
    "# Display supplemental column statistics\n",
    "column_statistics(eda_df, 'Outlet_Location_Type')"
   ]
  },
  {
   "cell_type": "code",
   "execution_count": null,
   "metadata": {
    "colab": {
     "base_uri": "https://localhost:8080/"
    },
    "id": "KbKVW14P6rJR",
    "outputId": "92945bd7-74b6-453e-e0ad-c23fd00a8ee0"
   },
   "outputs": [],
   "source": [
    "# Display normalzed value counts\n",
    "eda_df['Outlet_Location_Type'].value_counts(normalize=True)"
   ]
  },
  {
   "cell_type": "code",
   "execution_count": null,
   "metadata": {
    "colab": {
     "base_uri": "https://localhost:8080/",
     "height": 334
    },
    "id": "Ucc44DPA6rJR",
    "outputId": "855ba8cb-c8e6-430e-c7ac-21b8251a3d3d"
   },
   "outputs": [],
   "source": [
    "# Utilize function to display count plot\n",
    "labels = ['Tier 3', 'Tier 2', 'Tier 1']\n",
    "\n",
    "# Utilize function to display count plot\n",
    "count_plot(eda_df, 'Outlet_Location_Type', labels, \n",
    "           tit_lab='Outlet Location Type')"
   ]
  },
  {
   "cell_type": "markdown",
   "metadata": {
    "id": "IlXZJwczz82F"
   },
   "source": [
    "#### **'Outlet_Type' column**"
   ]
  },
  {
   "cell_type": "code",
   "execution_count": null,
   "metadata": {
    "colab": {
     "base_uri": "https://localhost:8080/"
    },
    "id": "ucBatJnM6sXM",
    "outputId": "962d8236-2a7e-48aa-f556-4d7058cd1b0d"
   },
   "outputs": [],
   "source": [
    "# Display column statistics\n",
    "eda_df['Outlet_Type'].describe()"
   ]
  },
  {
   "cell_type": "code",
   "execution_count": null,
   "metadata": {
    "colab": {
     "base_uri": "https://localhost:8080/"
    },
    "id": "uNomSLx96sXN",
    "outputId": "ff412f01-b4b4-4154-ebd9-82edcdf57649"
   },
   "outputs": [],
   "source": [
    "# Display supplemental column statistics\n",
    "column_statistics(eda_df, 'Outlet_Type')"
   ]
  },
  {
   "cell_type": "code",
   "execution_count": null,
   "metadata": {
    "colab": {
     "base_uri": "https://localhost:8080/"
    },
    "id": "WFDOjota6sXO",
    "outputId": "4ede14ae-6d20-4a9a-dca8-24461b394dac"
   },
   "outputs": [],
   "source": [
    "# Display normalzed value counts\n",
    "eda_df['Outlet_Type'].value_counts(normalize=True)"
   ]
  },
  {
   "cell_type": "code",
   "execution_count": null,
   "metadata": {
    "colab": {
     "base_uri": "https://localhost:8080/"
    },
    "id": "vp6Vt_yx7t9-",
    "outputId": "35cc34a5-80e0-45eb-8cf7-426196992963"
   },
   "outputs": [],
   "source": [
    "eda_df['Outlet_Type'].unique()"
   ]
  },
  {
   "cell_type": "code",
   "execution_count": null,
   "metadata": {
    "colab": {
     "base_uri": "https://localhost:8080/",
     "height": 334
    },
    "id": "93WspvuW6sXO",
    "outputId": "a59434ed-d04b-4ad5-9c79-610f670da1e8"
   },
   "outputs": [],
   "source": [
    "# Utilize function to display count plot\n",
    "labels = ['Supermarket Type1', 'Grocery Store', \n",
    "          'Supermarket Type3', 'Supermarket Type2']\n",
    "\n",
    "# Utilize function to display count plot\n",
    "count_plot(eda_df, 'Outlet_Type', labels, \n",
    "           tit_lab='Outlet Type',\n",
    "           rot=30, hza='right')"
   ]
  },
  {
   "cell_type": "markdown",
   "metadata": {
    "id": "DR5bJFxo4HDt"
   },
   "source": [
    "### **Numerical Columns**"
   ]
  },
  {
   "cell_type": "markdown",
   "metadata": {
    "id": "FuAo4Uo3FxL7"
   },
   "source": [
    "#### **Summary Statistics**"
   ]
  },
  {
   "cell_type": "code",
   "execution_count": null,
   "metadata": {
    "colab": {
     "base_uri": "https://localhost:8080/",
     "height": 300
    },
    "id": "kraQODkRpF-F",
    "outputId": "5f9d70aa-a23d-441d-ff1d-7d89c2bb6445"
   },
   "outputs": [],
   "source": [
    "# Display the descriptive statistics for the numeric columns\n",
    "eda_df.describe()"
   ]
  },
  {
   "cell_type": "markdown",
   "metadata": {
    "id": "wxAGov0DHpd5"
   },
   "source": [
    "#### **'Item_Weight' column**"
   ]
  },
  {
   "cell_type": "markdown",
   "metadata": {
    "id": "bw6ysiMjpYvQ"
   },
   "source": [
    "**Statistics**"
   ]
  },
  {
   "cell_type": "code",
   "execution_count": null,
   "metadata": {
    "colab": {
     "base_uri": "https://localhost:8080/"
    },
    "id": "zhq7K100IWIN",
    "outputId": "86fcece4-4de2-47cf-a34b-dc3d2ae36159",
    "scrolled": false
   },
   "outputs": [],
   "source": [
    "# Display column statistics\n",
    "eda_df.Item_Weight.describe()"
   ]
  },
  {
   "cell_type": "code",
   "execution_count": null,
   "metadata": {
    "colab": {
     "base_uri": "https://localhost:8080/"
    },
    "id": "PANR2P4KIYEj",
    "outputId": "ed1f389d-0006-4523-ba85-9e6b96005d1a"
   },
   "outputs": [],
   "source": [
    "# Display supplemental column statistics\n",
    "column_statistics(eda_df, 'Item_Weight')"
   ]
  },
  {
   "cell_type": "markdown",
   "metadata": {
    "id": "Ok5sNajzprGq"
   },
   "source": [
    "**Plots**"
   ]
  },
  {
   "cell_type": "code",
   "execution_count": null,
   "metadata": {
    "colab": {
     "base_uri": "https://localhost:8080/",
     "height": 334
    },
    "id": "MfS2WA3OIcBp",
    "outputId": "410b45eb-3319-4f08-a5af-103d6574c28e",
    "scrolled": false
   },
   "outputs": [],
   "source": [
    "# Utilize function to display histogram plot\n",
    "hist_plot(eda_df, 'Item_Weight',\n",
    "          tit_lab='Item Weight', \n",
    "          x_lab='Pounds')"
   ]
  },
  {
   "cell_type": "code",
   "execution_count": null,
   "metadata": {
    "colab": {
     "base_uri": "https://localhost:8080/",
     "height": 334
    },
    "id": "m3CIfWS-snZQ",
    "outputId": "e1834a2b-b692-4816-cc0a-2f88fbd88b77",
    "scrolled": true
   },
   "outputs": [],
   "source": [
    "# Utilize function to display a KDE plot\n",
    "kde_plot(eda_df, 'Item_Weight',\n",
    "         tit_lab='Item Weight', \n",
    "         x_lab='Pounds')"
   ]
  },
  {
   "cell_type": "code",
   "execution_count": null,
   "metadata": {},
   "outputs": [],
   "source": [
    "box_plot(eda_df, 'Item_Weight',\n",
    "             tit_lab='Item Weight', \n",
    "             x_lab='Pounds')"
   ]
  },
  {
   "cell_type": "code",
   "execution_count": null,
   "metadata": {
    "colab": {
     "base_uri": "https://localhost:8080/",
     "height": 297
    },
    "id": "QTQwy1jd5wlJ",
    "outputId": "dd6a1125-3489-4084-e1f5-23048187e8af",
    "scrolled": false
   },
   "outputs": [],
   "source": [
    "reg_plot(eda_df, 'Item_Weight', 'Item_Outlet_Sales', \n",
    "         tit_lab='Correlation', \n",
    "         x_lab='Item Weight (Pounds)', y_lab='Item Outlet Sales (Dollars)',\n",
    "         y_fmt=price_0_fmt)"
   ]
  },
  {
   "cell_type": "markdown",
   "metadata": {
    "id": "b-dElC95Z8nP"
   },
   "source": [
    "**Distribution Description**"
   ]
  },
  {
   "cell_type": "markdown",
   "metadata": {
    "id": "0DEhTmXNnvq9"
   },
   "source": [
    "- This feature has a continuous distribution."
   ]
  },
  {
   "cell_type": "code",
   "execution_count": null,
   "metadata": {
    "colab": {
     "base_uri": "https://localhost:8080/"
    },
    "id": "IEDhU5iSZvyX",
    "outputId": "c4b7194c-ee6c-4bb9-e03d-c0c9ab34b760"
   },
   "outputs": [],
   "source": [
    "# Determine if this feature has skew, and if so, which direction (+/-)\n",
    "# Determine the kurtosis of the feature; Mesokurtic, Leptokurtic, or Platykurtic\n",
    "# Determine the number of outliers for this feature based on zscore\n",
    "dist_desc(eda_df, 'Item_Weight')"
   ]
  },
  {
   "cell_type": "markdown",
   "metadata": {
    "id": "5Ac-rgOWHpys"
   },
   "source": [
    "#### **'Item_Visibility' column**"
   ]
  },
  {
   "cell_type": "markdown",
   "metadata": {
    "id": "b2DUI5OwpfE9"
   },
   "source": [
    "**Statistics**"
   ]
  },
  {
   "cell_type": "code",
   "execution_count": null,
   "metadata": {
    "colab": {
     "base_uri": "https://localhost:8080/"
    },
    "id": "phAKAREpJWBo",
    "outputId": "8dc551b4-83e4-43ff-e32b-83ac27b73104"
   },
   "outputs": [],
   "source": [
    "# Display column statistics\n",
    "eda_df.Item_Visibility.describe()"
   ]
  },
  {
   "cell_type": "code",
   "execution_count": null,
   "metadata": {
    "colab": {
     "base_uri": "https://localhost:8080/"
    },
    "id": "CsuCNkNkJWBo",
    "outputId": "68d72bc3-b5d2-4d35-c82a-1d875de57b8e"
   },
   "outputs": [],
   "source": [
    "# Display supplemental column statistics\n",
    "column_statistics(eda_df, 'Item_Visibility')"
   ]
  },
  {
   "cell_type": "markdown",
   "metadata": {
    "id": "L1c_PQgppxE2"
   },
   "source": [
    "**Plots**"
   ]
  },
  {
   "cell_type": "code",
   "execution_count": null,
   "metadata": {
    "colab": {
     "base_uri": "https://localhost:8080/",
     "height": 334
    },
    "id": "gcEtq_89JWBp",
    "outputId": "0601805f-b322-45f3-85a6-ee4416d5b312"
   },
   "outputs": [],
   "source": [
    "# Utilize function to display histogram plot\n",
    "hist_plot(eda_df, 'Item_Visibility',\n",
    "          tit_lab='Item Visibility', \n",
    "          x_lab='Percentage of display area',\n",
    "          fmt=perc_0_fmt)"
   ]
  },
  {
   "cell_type": "code",
   "execution_count": null,
   "metadata": {
    "colab": {
     "base_uri": "https://localhost:8080/",
     "height": 334
    },
    "id": "iCOerqHCsy0G",
    "outputId": "0516464c-7bbe-4198-ad4b-d33e502a88c8",
    "scrolled": false
   },
   "outputs": [],
   "source": [
    "# Utilize function to display a KDE plot\n",
    "kde_plot(eda_df, 'Item_Visibility',\n",
    "         tit_lab='Item Visibility', \n",
    "         x_lab='Percentage of display area',\n",
    "         fmt=perc_0_fmt)"
   ]
  },
  {
   "cell_type": "code",
   "execution_count": null,
   "metadata": {},
   "outputs": [],
   "source": [
    "box_plot(eda_df, 'Item_Visibility',\n",
    "         tit_lab='Item Visibility', \n",
    "         x_lab='Percentage of display area',\n",
    "         fmt=perc_0_fmt)"
   ]
  },
  {
   "cell_type": "code",
   "execution_count": null,
   "metadata": {
    "colab": {
     "base_uri": "https://localhost:8080/",
     "height": 297
    },
    "id": "9SAuUZyi58Nh",
    "outputId": "a2440175-9c5b-4299-c7d4-aec2072de323",
    "scrolled": false
   },
   "outputs": [],
   "source": [
    "# Utilize function to display regplot \n",
    "reg_plot(eda_df, 'Item_Visibility', 'Item_Outlet_Sales', \n",
    "         tit_lab='Correlation', \n",
    "         x_lab='Item_Visibility (Percentage of display area)', \n",
    "         y_lab='Item Outlet Sales (Dollars)',\n",
    "         x_fmt=perc_0_fmt, y_fmt=price_0_fmt)"
   ]
  },
  {
   "cell_type": "markdown",
   "metadata": {
    "id": "3O-LXRwUcnAx"
   },
   "source": [
    "**Distribution Description**"
   ]
  },
  {
   "cell_type": "markdown",
   "metadata": {
    "id": "FLUEbR8xcnAx"
   },
   "source": [
    "- This feature has a continuous distribution."
   ]
  },
  {
   "cell_type": "code",
   "execution_count": null,
   "metadata": {
    "colab": {
     "base_uri": "https://localhost:8080/"
    },
    "id": "NdM90Cd3cnAx",
    "outputId": "af071828-c7df-4c51-b8ad-1d772e7dc0aa"
   },
   "outputs": [],
   "source": [
    "# Determine if this feature has skew, and if so, which direction (+/-)\n",
    "# Determine the kurtosis of the feature; Mesokurtic, Leptokurtic, or Platykurtic\n",
    "# Determine the number of outliers for this feature based on zscore\n",
    "dist_desc(eda_df, 'Item_Visibility')"
   ]
  },
  {
   "cell_type": "markdown",
   "metadata": {
    "id": "P6x2TTTMuGfh"
   },
   "source": [
    "- For EDA, outliers do not need to be removed.\n",
    "- For Machine Learning, outliers may be removed from the ml_df to determine if it will improve model performance."
   ]
  },
  {
   "cell_type": "markdown",
   "metadata": {
    "id": "W0WLPriBHp58"
   },
   "source": [
    "#### **'Item_MRP' column**"
   ]
  },
  {
   "cell_type": "markdown",
   "metadata": {
    "id": "OEMt5GgJpjBh"
   },
   "source": [
    "**Statistics**"
   ]
  },
  {
   "cell_type": "code",
   "execution_count": null,
   "metadata": {
    "colab": {
     "base_uri": "https://localhost:8080/"
    },
    "id": "TaHEtcJZJXEd",
    "outputId": "32b0a5e3-f868-42ab-cd20-a64ab0718543"
   },
   "outputs": [],
   "source": [
    "# Display column statistics\n",
    "eda_df.Item_MRP.describe()"
   ]
  },
  {
   "cell_type": "code",
   "execution_count": null,
   "metadata": {
    "colab": {
     "base_uri": "https://localhost:8080/"
    },
    "id": "iCHm0l9MJXEe",
    "outputId": "7c5ce829-1cce-4bb2-b6c1-ca2626ef0b82"
   },
   "outputs": [],
   "source": [
    "# Display supplemental column statistics\n",
    "column_statistics(eda_df, 'Item_MRP')"
   ]
  },
  {
   "cell_type": "markdown",
   "metadata": {
    "id": "0kn8Kumlp4a3"
   },
   "source": [
    "**Plots**"
   ]
  },
  {
   "cell_type": "code",
   "execution_count": null,
   "metadata": {
    "colab": {
     "base_uri": "https://localhost:8080/",
     "height": 334
    },
    "id": "MnwbuGcJJXEg",
    "outputId": "9fbe3a4d-133f-4a46-ffd2-2cf4b8a47d9b",
    "scrolled": false
   },
   "outputs": [],
   "source": [
    "# Utilize function to display histogram plot\n",
    "hist_plot(eda_df, 'Item_MRP',\n",
    "          tit_lab='Item MRP', x_lab='Dollars',\n",
    "          fmt=price_0_fmt)"
   ]
  },
  {
   "cell_type": "code",
   "execution_count": null,
   "metadata": {},
   "outputs": [],
   "source": [
    "# Utilize function to display a KDE plot\n",
    "kde_plot(eda_df, 'Item_MRP',\n",
    "         tit_lab='Item MRP', \n",
    "         x_lab='Dollars',\n",
    "          fmt=price_0_fmt)"
   ]
  },
  {
   "cell_type": "code",
   "execution_count": null,
   "metadata": {},
   "outputs": [],
   "source": [
    "box_plot(eda_df, 'Item_MRP',\n",
    "         tit_lab='Item MRP', \n",
    "         x_lab='Dollars',\n",
    "         fmt=price_0_fmt)"
   ]
  },
  {
   "cell_type": "code",
   "execution_count": null,
   "metadata": {
    "colab": {
     "base_uri": "https://localhost:8080/",
     "height": 297
    },
    "id": "eR_xV1gu6P7g",
    "outputId": "29c400f7-9987-4020-eb13-ffd54bef5dad",
    "scrolled": false
   },
   "outputs": [],
   "source": [
    "reg_plot(eda_df, 'Item_MRP', 'Item_Outlet_Sales', \n",
    "         tit_lab='Correlation', \n",
    "         x_lab='Item MRP (Dollars)', \n",
    "         y_lab='Item Outlet Sales (Dollars)',\n",
    "         x_fmt=price_0_fmt, y_fmt=price_0_fmt)"
   ]
  },
  {
   "cell_type": "markdown",
   "metadata": {
    "id": "6XIfZqGc9Aqs"
   },
   "source": [
    "**Distribution Description**"
   ]
  },
  {
   "cell_type": "markdown",
   "metadata": {
    "id": "c_RPXG3_9Aqs"
   },
   "source": [
    "- This feature has a continuous distribution."
   ]
  },
  {
   "cell_type": "code",
   "execution_count": null,
   "metadata": {
    "colab": {
     "base_uri": "https://localhost:8080/"
    },
    "id": "xyoiO08s9Aqt",
    "outputId": "f068fec2-8293-4049-efe1-f41e4dd0a020"
   },
   "outputs": [],
   "source": [
    "# Determine if this feature has skew, and if so, which direction (+/-)\n",
    "# Determine the kurtosis of the feature; Mesokurtic, Leptokurtic, or Platykurtic\n",
    "# Determine the number of outliers for this feature based on zscore\n",
    "dist_desc(eda_df, 'Item_MRP')"
   ]
  },
  {
   "cell_type": "markdown",
   "metadata": {
    "id": "BfSTSu8jzwv5"
   },
   "source": [
    "#### **'Outlet_Establishment_Year' column**"
   ]
  },
  {
   "cell_type": "code",
   "execution_count": null,
   "metadata": {
    "colab": {
     "base_uri": "https://localhost:8080/"
    },
    "id": "o6UbotFm0hwn",
    "outputId": "591488f8-9b7f-4d97-b39a-130deee87c25",
    "scrolled": true
   },
   "outputs": [],
   "source": [
    "# Display column statistics\n",
    "eda_df['Outlet_Establishment_Year'].describe()"
   ]
  },
  {
   "cell_type": "code",
   "execution_count": null,
   "metadata": {
    "colab": {
     "base_uri": "https://localhost:8080/"
    },
    "id": "VuvA3H9J0k2L",
    "outputId": "8eee1f30-b8c3-4c7a-98de-4134d917f352"
   },
   "outputs": [],
   "source": [
    "# Display supplemental column statistics\n",
    "column_statistics(eda_df, 'Outlet_Establishment_Year')"
   ]
  },
  {
   "cell_type": "code",
   "execution_count": null,
   "metadata": {
    "colab": {
     "base_uri": "https://localhost:8080/"
    },
    "id": "qgMdTxjk0n2V",
    "outputId": "7037c511-9e10-4b35-996e-0ddcd9cec7d6"
   },
   "outputs": [],
   "source": [
    "# Display normalzed value counts\n",
    "eda_df['Outlet_Establishment_Year'].value_counts(normalize=True)"
   ]
  },
  {
   "cell_type": "markdown",
   "metadata": {
    "id": "L1c_PQgppxE2"
   },
   "source": [
    "**Plots**"
   ]
  },
  {
   "cell_type": "code",
   "execution_count": null,
   "metadata": {
    "colab": {
     "base_uri": "https://localhost:8080/",
     "height": 334
    },
    "id": "gcEtq_89JWBp",
    "outputId": "0601805f-b322-45f3-85a6-ee4416d5b312"
   },
   "outputs": [],
   "source": [
    "# Utilize function to display histogram plot\n",
    "hist_plot(eda_df, 'Outlet_Establishment_Year',\n",
    "          tit_lab='Outlet Establishment Year', \n",
    "          x_lab='Year')"
   ]
  },
  {
   "cell_type": "code",
   "execution_count": null,
   "metadata": {},
   "outputs": [],
   "source": [
    "# Utilize function to display a KDE plot\n",
    "kde_plot(eda_df, 'Outlet_Establishment_Year',\n",
    "         tit_lab='Outlet Establishment Year', \n",
    "         x_lab='Year')"
   ]
  },
  {
   "cell_type": "code",
   "execution_count": null,
   "metadata": {},
   "outputs": [],
   "source": [
    "box_plot(eda_df, 'Outlet_Establishment_Year',\n",
    "         tit_lab='Outlet Establishment Year', \n",
    "         x_lab='Year')"
   ]
  },
  {
   "cell_type": "code",
   "execution_count": null,
   "metadata": {
    "colab": {
     "base_uri": "https://localhost:8080/",
     "height": 297
    },
    "id": "9SAuUZyi58Nh",
    "outputId": "a2440175-9c5b-4299-c7d4-aec2072de323",
    "scrolled": true
   },
   "outputs": [],
   "source": [
    "# Utilize function to display regplot \n",
    "reg_plot(eda_df, 'Outlet_Establishment_Year', 'Item_Outlet_Sales', \n",
    "         tit_lab='Correlation', \n",
    "         x_lab='Outlet Establishment Year', \n",
    "         y_lab='Item Outlet Sales',\n",
    "         y_fmt=price_0_fmt)"
   ]
  },
  {
   "cell_type": "markdown",
   "metadata": {
    "id": "3O-LXRwUcnAx"
   },
   "source": [
    "**Distribution Description**"
   ]
  },
  {
   "cell_type": "markdown",
   "metadata": {
    "id": "FLUEbR8xcnAx"
   },
   "source": [
    "- This feature has a discrete distribution."
   ]
  },
  {
   "cell_type": "code",
   "execution_count": null,
   "metadata": {
    "colab": {
     "base_uri": "https://localhost:8080/"
    },
    "id": "NdM90Cd3cnAx",
    "outputId": "af071828-c7df-4c51-b8ad-1d772e7dc0aa",
    "scrolled": true
   },
   "outputs": [],
   "source": [
    "# Determine if this feature has skew, and if so, which direction (+/-)\n",
    "# Determine the kurtosis of the feature; Mesokurtic, Leptokurtic, or Platykurtic\n",
    "# Determine the number of outliers for this feature based on zscore\n",
    "dist_desc(eda_df, 'Outlet_Establishment_Year')"
   ]
  },
  {
   "cell_type": "markdown",
   "metadata": {
    "id": "8bERR-xhIEXh"
   },
   "source": [
    "#### **'Item_Outlet_Sales' column**"
   ]
  },
  {
   "cell_type": "markdown",
   "metadata": {
    "id": "HzCg03Dbplxk"
   },
   "source": [
    "**Statistics**"
   ]
  },
  {
   "cell_type": "code",
   "execution_count": null,
   "metadata": {
    "colab": {
     "base_uri": "https://localhost:8080/"
    },
    "id": "xwOEPbQtJX9Q",
    "outputId": "79f3548c-f6ba-4f6e-9e9f-ec87901235da"
   },
   "outputs": [],
   "source": [
    "# Display column statistics\n",
    "eda_df.Item_Outlet_Sales.describe()"
   ]
  },
  {
   "cell_type": "code",
   "execution_count": null,
   "metadata": {
    "colab": {
     "base_uri": "https://localhost:8080/"
    },
    "id": "qbLG54OnJX9Q",
    "outputId": "101db079-3169-4869-a413-1b85e84956af"
   },
   "outputs": [],
   "source": [
    "# Display supplemental column statistics\n",
    "column_statistics(eda_df, 'Item_Outlet_Sales')"
   ]
  },
  {
   "cell_type": "markdown",
   "metadata": {
    "id": "0q3V8niFp8ku"
   },
   "source": [
    "**Plots**"
   ]
  },
  {
   "cell_type": "code",
   "execution_count": null,
   "metadata": {
    "colab": {
     "base_uri": "https://localhost:8080/",
     "height": 334
    },
    "id": "khC8iYbWJX9R",
    "outputId": "4b8251fd-e591-4759-b8a0-6900b3918f3f"
   },
   "outputs": [],
   "source": [
    "# Utilize function to display histogram plot\n",
    "hist_plot(eda_df, 'Item_Outlet_Sales',\n",
    "          tit_lab='Item Outlet Sales', \n",
    "          x_lab='Dollars',\n",
    "          fmt=price_0_fmt)"
   ]
  },
  {
   "cell_type": "code",
   "execution_count": null,
   "metadata": {},
   "outputs": [],
   "source": [
    "# Utilize function to display a KDE plot\n",
    "kde_plot(eda_df, 'Item_Outlet_Sales',\n",
    "         tit_lab='Item Outlet Sales', \n",
    "         x_lab='Dollars',\n",
    "         fmt=price_0_fmt)"
   ]
  },
  {
   "cell_type": "code",
   "execution_count": null,
   "metadata": {
    "scrolled": true
   },
   "outputs": [],
   "source": [
    "box_plot(eda_df, 'Item_Outlet_Sales',\n",
    "         tit_lab='Item Outlet Sales', \n",
    "         x_lab='Dollars',\n",
    "         fmt=price_0_fmt)"
   ]
  },
  {
   "cell_type": "markdown",
   "metadata": {
    "id": "5D5EtPZJ9wR-"
   },
   "source": [
    "**Distribution Description**"
   ]
  },
  {
   "cell_type": "markdown",
   "metadata": {
    "id": "g2cBbzXmdA-E"
   },
   "source": [
    "- This feature has a continuous distribution."
   ]
  },
  {
   "cell_type": "code",
   "execution_count": null,
   "metadata": {
    "colab": {
     "base_uri": "https://localhost:8080/"
    },
    "id": "g9yKHhZPdA-E",
    "outputId": "4fa85b74-2ee0-41bd-e115-5efadaf1f71a"
   },
   "outputs": [],
   "source": [
    "# Determine if this feature has skew, and if so, which direction (+/-)\n",
    "# Determine the kurtosis of the feature; Mesokurtic, Leptokurtic, or Platykurtic\n",
    "# Determine the number of outliers for this feature based on zscore\n",
    "dist_desc(eda_df, 'Item_Outlet_Sales')"
   ]
  },
  {
   "cell_type": "markdown",
   "metadata": {
    "id": "bQBgTLAXtrY9"
   },
   "source": [
    "- This column is our target column, outliers will not be removed."
   ]
  },
  {
   "cell_type": "markdown",
   "metadata": {
    "id": "DjtOQfiKJHKO"
   },
   "source": [
    "### **Feature Correlation**"
   ]
  },
  {
   "cell_type": "code",
   "execution_count": null,
   "metadata": {
    "colab": {
     "base_uri": "https://localhost:8080/",
     "height": 568
    },
    "id": "5hvoildEJHVs",
    "outputId": "649ead09-3319-48d1-e34f-64a62baf986d"
   },
   "outputs": [],
   "source": [
    "# Plot Correlation Heatmap\n",
    "plt.figure(figsize = (8,8),facecolor='w')\n",
    "corr = eda_df.corr().abs()\n",
    "mask = np.triu(np.ones_like(corr))\n",
    "sns.heatmap(corr,square=True, cmap='viridis', annot=True, mask=mask);\n",
    "plt.title('Correlation Heatmap', fontsize = 16, weight='bold')\n",
    "plt.xticks(fontsize = 12, weight='bold', rotation=90)\n",
    "plt.yticks(fontsize = 12, weight='bold', rotation=0);\n",
    "plt.tight_layout()\n",
    "plt.show;"
   ]
  },
  {
   "cell_type": "code",
   "execution_count": null,
   "metadata": {
    "colab": {
     "base_uri": "https://localhost:8080/",
     "height": 817
    },
    "id": "J0nSZkvq_I9O",
    "outputId": "74551eae-451f-4f45-d169-09086d211d72",
    "scrolled": false
   },
   "outputs": [],
   "source": [
    "# Calculate the correlation/strength-of-association of features in data-set \n",
    "# with both categorical and continuous features using:\n",
    "# - Pearson's R for continuous-continuous cases\n",
    "# - Correlation Ratio for categorical-continuous cases \n",
    "# - Cramer's V or Theil's U for categorical-categorical cases\n",
    "associations(eda_df, \n",
    "             figsize=(10,10), \n",
    "             cmap='viridis', \n",
    "             display_columns='Item_Outlet_Sales', \n",
    "             hide_rows='Item_Outlet_Sales')"
   ]
  },
  {
   "cell_type": "markdown",
   "metadata": {},
   "source": [
    "## **Explanatory Data Analysis**"
   ]
  },
  {
   "cell_type": "markdown",
   "metadata": {},
   "source": [
    "### **Company**"
   ]
  },
  {
   "cell_type": "code",
   "execution_count": null,
   "metadata": {},
   "outputs": [],
   "source": [
    "oldest_outlet = eda_df.Outlet_Establishment_Year.max()\n",
    "print(f'The first outlet store was opened in {oldest_outlet}.')"
   ]
  },
  {
   "cell_type": "code",
   "execution_count": null,
   "metadata": {},
   "outputs": [],
   "source": [
    "number_outlets = eda_df.Outlet_Identifier.nunique()\n",
    "print(f'The company has {number_outlets} outlet stores.')"
   ]
  },
  {
   "cell_type": "code",
   "execution_count": null,
   "metadata": {},
   "outputs": [],
   "source": [
    "number_items = eda_df.Item_Identifier.nunique()\n",
    "number_item_types = eda_df.Item_Type.nunique()\n",
    "print(f'The company offers {number_items} items across a total of {number_item_types} product categories.')"
   ]
  },
  {
   "cell_type": "code",
   "execution_count": null,
   "metadata": {},
   "outputs": [],
   "source": [
    "total_sales = eda_df.Item_Outlet_Sales.sum()\n",
    "print(f'Total sales for the period were ${total_sales :,.2f}.')"
   ]
  },
  {
   "cell_type": "markdown",
   "metadata": {},
   "source": [
    "### **Outlets**"
   ]
  },
  {
   "cell_type": "code",
   "execution_count": null,
   "metadata": {
    "scrolled": false
   },
   "outputs": [],
   "source": [
    "# Create a dataframe grouped by Outlet_Identifier displaying the\n",
    "# aggregated sum of Item_Outlet_Sales\n",
    "outlet_identifier_df = eda_df.groupby(['Outlet_Identifier'])\\\n",
    "                 ['Item_Outlet_Sales'].agg(['sum'])\\\n",
    "                 .sort_values(['sum'], ascending = False)\n",
    "outlet_identifier_df['sum'] = round(outlet_identifier_df['sum'],2)"
   ]
  },
  {
   "cell_type": "code",
   "execution_count": null,
   "metadata": {},
   "outputs": [],
   "source": [
    "# Create column by copying from index\n",
    "outlet_identifier_df.insert(loc = 0,\n",
    "          column = 'Outlet_Identifier',\n",
    "          value = outlet_identifier_df.index)"
   ]
  },
  {
   "cell_type": "code",
   "execution_count": null,
   "metadata": {},
   "outputs": [],
   "source": [
    "# Reset index\n",
    "outlet_identifier_df.reset_index(drop=True, inplace=True)"
   ]
  },
  {
   "cell_type": "code",
   "execution_count": null,
   "metadata": {},
   "outputs": [],
   "source": [
    "# Rename aggregate column name\n",
    "outlet_identifier_df = outlet_identifier_df.rename(columns={'sum': 'Total Sales'})"
   ]
  },
  {
   "cell_type": "code",
   "execution_count": null,
   "metadata": {},
   "outputs": [],
   "source": [
    "# Display the dataframe\n",
    "outlet_identifier_df.style.format({'Total Sales': price_2_fmt})\n"
   ]
  },
  {
   "cell_type": "code",
   "execution_count": null,
   "metadata": {
    "scrolled": false
   },
   "outputs": [],
   "source": [
    "# Utilize function to display bar plot\n",
    "bar_plot(df=outlet_identifier_df, \n",
    "         x_column_name='Outlet_Identifier', \n",
    "         y_column_name='Total Sales', \n",
    "         fs=(10,5), file_name='Total Sales by Outlet.png',\n",
    "         tit_lab='Total Sales by Outlet',\n",
    "         label_order=outlet_identifier_df.Outlet_Identifier,\n",
    "         fmt=price_2_fmt,\n",
    "         hza='center', rot=0)"
   ]
  },
  {
   "cell_type": "code",
   "execution_count": null,
   "metadata": {},
   "outputs": [],
   "source": [
    "outlet_df= eda_df.loc[:,['Outlet_Identifier', 'Outlet_Size','Outlet_Type','Outlet_Location_Type']]\n",
    "# Drop duplicates\n",
    "outlet_df.drop_duplicates(inplace=True, ignore_index=True)\n",
    "# Display the dataframe\n",
    "outlet_df.style.hide(axis='index')"
   ]
  },
  {
   "cell_type": "markdown",
   "metadata": {},
   "source": [
    "#### **Outlet Size**"
   ]
  },
  {
   "cell_type": "code",
   "execution_count": null,
   "metadata": {},
   "outputs": [],
   "source": [
    "# Create a dataframe grouped by Outlet_Size displaying the\n",
    "# aggregated sum of Item_Outlet_Sales for the entire company\n",
    "company_sales_by_outlet_size_df = eda_df.groupby('Outlet_Size')['Item_Outlet_Sales'].agg(['sum']).sort_values('sum', ascending = False).head(10)\n",
    "company_sales_by_outlet_size_df['sum'] = round(company_sales_by_outlet_size_df['sum'],3)\n"
   ]
  },
  {
   "cell_type": "code",
   "execution_count": null,
   "metadata": {},
   "outputs": [],
   "source": [
    "# Create column by copying from index\n",
    "company_sales_by_outlet_size_df.insert(loc = 0,\n",
    "          column = 'Outlet_Size',\n",
    "          value = company_sales_by_outlet_size_df.index)"
   ]
  },
  {
   "cell_type": "code",
   "execution_count": null,
   "metadata": {},
   "outputs": [],
   "source": [
    "# Reset index\n",
    "company_sales_by_outlet_size_df.reset_index(drop=True, inplace=True)"
   ]
  },
  {
   "cell_type": "code",
   "execution_count": null,
   "metadata": {},
   "outputs": [],
   "source": [
    "# Rename aggregate column name\n",
    "company_sales_by_outlet_size_df = company_sales_by_outlet_size_df.rename(columns={'sum': 'Total Sales'})"
   ]
  },
  {
   "cell_type": "code",
   "execution_count": null,
   "metadata": {},
   "outputs": [],
   "source": [
    "# Display the dataframe\n",
    "company_sales_by_outlet_size_df#.style.format({'Total Sales': price_2_fmt})"
   ]
  },
  {
   "cell_type": "code",
   "execution_count": null,
   "metadata": {
    "scrolled": false
   },
   "outputs": [],
   "source": [
    "# Utilize function to display bar plot\n",
    "bar_plot(df=company_sales_by_outlet_size_df, \n",
    "         x_column_name='Outlet_Size', \n",
    "         y_column_name='Total Sales', \n",
    "         fs=(10,5), file_name='Total Sales by Outlet Size.png',\n",
    "         tit_lab='Total Sales by Outlet Size',\n",
    "         label_order=company_sales_by_outlet_size_df.Outlet_Size,\n",
    "         fmt=price_2_fmt,\n",
    "         hza='center', rot=0)"
   ]
  },
  {
   "cell_type": "code",
   "execution_count": null,
   "metadata": {
    "scrolled": true
   },
   "outputs": [],
   "source": [
    "# Create a dataframe grouped by Outlet_Size displaying the\n",
    "# average Outlet_Identifiers aggregated sum of Item_Outlet_Sales\n",
    "outlet_size_sales_df = pd.DataFrame()\n",
    "\n",
    "for size in eda_df['Outlet_Size'].unique():\n",
    "    filter = eda_df['Outlet_Size'] == size\n",
    "    filtered_df = eda_df[filter].copy()\n",
    "    \n",
    "    size_sales_sum = filtered_df['Item_Outlet_Sales'].sum()\n",
    "    size_outlet_count = filtered_df['Outlet_Identifier'].nunique()\n",
    "    size_item_count = filtered_df['Item_Identifier'].count()\n",
    "    \n",
    "    average_size_sales = round(size_sales_sum/size_outlet_count, 2) \n",
    "    average_size_count = round(size_item_count/size_outlet_count, 2)\n",
    "    \n",
    "    outlet_size_sales_df.loc[size, 'Average Outlet Sales'] = average_size_sales\n",
    "    outlet_size_sales_df.loc[size, 'Average Item Count'] = average_size_count"
   ]
  },
  {
   "cell_type": "code",
   "execution_count": null,
   "metadata": {
    "scrolled": true
   },
   "outputs": [],
   "source": [
    "outlet_size_sales_df = outlet_size_sales_df.sort_values(by=['Average Outlet Sales'], ascending=False)\n",
    "outlet_size_sales_df"
   ]
  },
  {
   "cell_type": "code",
   "execution_count": null,
   "metadata": {
    "scrolled": false
   },
   "outputs": [],
   "source": [
    "labels = ['Medium', 'High', 'Small', 'Unknown']\n",
    "\n",
    "# Utilize function to display bar plot\n",
    "bar_plot(df=outlet_size_sales_df, \n",
    "         x_column_name=outlet_size_sales_df.index,\n",
    "         y_column_name='Average Outlet Sales', \n",
    "         fs=(10,5), file_name='Average Outlet Sales by Outlet Size.png',\n",
    "         tit_lab='Average Outlet Sales by Outlet Size',\n",
    "         label_order=labels,\n",
    "         fmt=price_2_fmt,\n",
    "         hza='center', rot=0)"
   ]
  },
  {
   "cell_type": "code",
   "execution_count": null,
   "metadata": {},
   "outputs": [],
   "source": [
    "outlet_size_df = eda_df.groupby(['Outlet_Size','Outlet_Identifier'])\\\n",
    "                 ['Item_Outlet_Sales'].agg(['sum'])\\\n",
    "                 .sort_values(['sum'], ascending = False)\n",
    "outlet_size_df['sum'] = round(outlet_size_df['sum'],3)"
   ]
  },
  {
   "cell_type": "code",
   "execution_count": null,
   "metadata": {
    "scrolled": true
   },
   "outputs": [],
   "source": [
    "outlet_size_df"
   ]
  },
  {
   "cell_type": "code",
   "execution_count": null,
   "metadata": {},
   "outputs": [],
   "source": [
    "# Drop 'Outlet_Size'\n",
    "ml_df = ml_df.drop(columns=['Outlet_Size'])"
   ]
  },
  {
   "cell_type": "markdown",
   "metadata": {},
   "source": [
    "#### **Location Type**"
   ]
  },
  {
   "cell_type": "code",
   "execution_count": null,
   "metadata": {},
   "outputs": [],
   "source": [
    "# Create a dataframe grouped by Outlet_Location_Type displaying the\n",
    "# aggregated sum of Item_Outlet_Sales for the entire company\n",
    "company_sales_by_outlet_location_type_df = eda_df.groupby('Outlet_Location_Type')['Item_Outlet_Sales'].agg(['sum']).sort_values('sum', ascending = False).head(10)\n",
    "company_sales_by_outlet_location_type_df['sum'] = round(company_sales_by_outlet_location_type_df['sum'],3)\n",
    "company_sales_by_outlet_location_type_df"
   ]
  },
  {
   "cell_type": "code",
   "execution_count": null,
   "metadata": {},
   "outputs": [],
   "source": [
    "# Create column by copying from index\n",
    "company_sales_by_outlet_location_type_df.insert(loc = 0,\n",
    "          column = 'Outlet_Location_Type',\n",
    "          value = company_sales_by_outlet_location_type_df.index)"
   ]
  },
  {
   "cell_type": "code",
   "execution_count": null,
   "metadata": {},
   "outputs": [],
   "source": [
    "# Reset index\n",
    "company_sales_by_outlet_location_type_df.reset_index(drop=True, inplace=True)"
   ]
  },
  {
   "cell_type": "code",
   "execution_count": null,
   "metadata": {},
   "outputs": [],
   "source": [
    "# Rename aggregate column name\n",
    "company_sales_by_outlet_location_type_df = company_sales_by_outlet_location_type_df.rename(columns={'sum': 'Total Sales'})"
   ]
  },
  {
   "cell_type": "code",
   "execution_count": null,
   "metadata": {},
   "outputs": [],
   "source": [
    "# Display the dataframe\n",
    "company_sales_by_outlet_location_type_df#.style.format({'Total Sales': price_2_fmt})"
   ]
  },
  {
   "cell_type": "code",
   "execution_count": null,
   "metadata": {
    "scrolled": false
   },
   "outputs": [],
   "source": [
    "# Utilize function to display bar plot\n",
    "bar_plot(df=company_sales_by_outlet_location_type_df, \n",
    "         x_column_name='Outlet_Location_Type', \n",
    "         y_column_name='Total Sales', \n",
    "         fs=(10,5), file_name='Total Sales by Outlet Loation Type.png',\n",
    "         tit_lab='Total Sales by Outlet Location Type',\n",
    "         label_order=company_sales_by_outlet_location_type_df.Outlet_Location_Type,\n",
    "         fmt=price_2_fmt,\n",
    "         hza='center', rot=0)"
   ]
  },
  {
   "cell_type": "code",
   "execution_count": null,
   "metadata": {},
   "outputs": [],
   "source": [
    "# Create a dataframe grouped by Outlet_Location_Type displaying the\n",
    "# average Outlet_Identifiers aggregated sum of Item_Outlet_Sales\n",
    "average_outlet_sales_by_location_type_df = pd.DataFrame()\n",
    "for out_type in eda_df['Outlet_Location_Type'].unique():\n",
    "    filter = eda_df['Outlet_Location_Type'] == out_type\n",
    "    filtered_df = eda_df[filter].copy()\n",
    "    \n",
    "    type_sales_sum = filtered_df['Item_Outlet_Sales'].sum()\n",
    "    type_outlet_count = filtered_df['Outlet_Identifier'].nunique()\n",
    "    type_item_count = filtered_df['Item_Identifier'].count()\n",
    "    \n",
    "    average_type_sales = round(type_sales_sum/type_outlet_count, 2)  \n",
    "    average_type_count = round(type_item_count/type_outlet_count, 2)\n",
    "    \n",
    "    average_outlet_sales_by_location_type_df.loc[out_type, 'Average Outlet Sales'] = average_type_sales\n",
    "    average_outlet_sales_by_location_type_df.loc[out_type, 'Average Item Count'] = average_type_count"
   ]
  },
  {
   "cell_type": "code",
   "execution_count": null,
   "metadata": {},
   "outputs": [],
   "source": [
    "# Display the dataframe\n",
    "average_outlet_sales_by_location_type_df = average_outlet_sales_by_location_type_df.sort_values(by=['Average Outlet Sales'], ascending=False)\n",
    "average_outlet_sales_by_location_type_df"
   ]
  },
  {
   "cell_type": "code",
   "execution_count": null,
   "metadata": {
    "scrolled": false
   },
   "outputs": [],
   "source": [
    "labels = ['Tier 2', 'Tier 3', 'Tier 1']\n",
    "\n",
    "# Utilize function to display bar plot\n",
    "bar_plot(df=average_outlet_sales_by_location_type_df, \n",
    "         x_column_name=average_outlet_sales_by_location_type_df.index, \n",
    "         y_column_name='Average Outlet Sales', \n",
    "         fs=(10,5), file_name='Average Outlet Sales by Outlet Location Type.png',\n",
    "         tit_lab='Average Outlet Sales by Outlet Location Type',\n",
    "         label_order=labels,\n",
    "         fmt=price_2_fmt,\n",
    "         hza='center', rot=0)"
   ]
  },
  {
   "cell_type": "code",
   "execution_count": null,
   "metadata": {},
   "outputs": [],
   "source": [
    "labels = ['Tier 2', 'Tier 3', 'Tier 1']\n",
    "\n",
    "# Utilize function to display bar plot\n",
    "bar_plot(df=average_outlet_sales_by_location_type_df, \n",
    "         x_column_name=average_outlet_sales_by_location_type_df.index, \n",
    "         y_column_name='Average Item Count', \n",
    "         fs=(10,5), file_name='Average Outlet Item Count by Outlet Location Type.png',\n",
    "         tit_lab='Average Outlet Item Count by Outlet Location Type',\n",
    "         label_order=labels,\n",
    "         fmt=price_2_fmt,\n",
    "         hza='center', rot=0)"
   ]
  },
  {
   "cell_type": "code",
   "execution_count": null,
   "metadata": {},
   "outputs": [],
   "source": [
    "outlet_sales_by_location_type_df = eda_df.groupby(['Outlet_Location_Type','Outlet_Identifier'])\\\n",
    "                 ['Item_Outlet_Sales'].agg(['sum'])\\\n",
    "                 .sort_values(['sum'], ascending = False)\n",
    "outlet_sales_by_location_type_df['sum'] = round(outlet_sales_by_location_type_df['sum'],2)"
   ]
  },
  {
   "cell_type": "code",
   "execution_count": null,
   "metadata": {},
   "outputs": [],
   "source": [
    "outlet_sales_by_location_type_df"
   ]
  },
  {
   "cell_type": "code",
   "execution_count": null,
   "metadata": {},
   "outputs": [],
   "source": [
    "# Drop 'Outlet_Location_Type'\n",
    "ml_df = ml_df.drop(columns=['Outlet_Location_Type'])"
   ]
  },
  {
   "cell_type": "markdown",
   "metadata": {},
   "source": [
    "#### **Outlet Type**"
   ]
  },
  {
   "cell_type": "code",
   "execution_count": null,
   "metadata": {},
   "outputs": [],
   "source": [
    "# Create a dataframe grouped by Outlet_Type displaying the\n",
    "# aggregated sum of Item_Outlet_Sales for the entire company\n",
    "company_sales_by_outlet_type_df = eda_df.groupby('Outlet_Type')['Item_Outlet_Sales'].agg(['sum']).sort_values('sum', ascending = False).head(10)\n",
    "company_sales_by_outlet_type_df['sum'] = round(company_sales_by_outlet_type_df['sum'],3)\n",
    "company_sales_by_outlet_type_df"
   ]
  },
  {
   "cell_type": "code",
   "execution_count": null,
   "metadata": {},
   "outputs": [],
   "source": [
    "# labels = ['Supermarket Type1', 'Supermarket Type3', \n",
    "#           'Supermarket Type2', 'Grocery Store']\n",
    "\n",
    "# bar_plot(company_sales_by_outlet_type_df, 'sum',\n",
    "#          fs=(10,5), file_name='Total Sales by Outlet Type.png',\n",
    "#          tit_lab='Total Company Sales by Outlet Type',\n",
    "#          label_order=labels,\n",
    "#          fmt=price_0_fmt,\n",
    "#          hza='center', rot=0)"
   ]
  },
  {
   "cell_type": "code",
   "execution_count": null,
   "metadata": {
    "scrolled": false
   },
   "outputs": [],
   "source": [
    "# Create a dataframe grouped by Outlet_Type displaying the\n",
    "# aggregated sum of Item_Outlet_Sales for the entire company\n",
    "company_sales_by_outlet_type_df = eda_df.groupby('Outlet_Type')['Item_Outlet_Sales']\\\n",
    "                .agg(['sum']).sort_values('sum', ascending = False).head(10)\\\n",
    "                .reset_index()\n",
    "company_sales_by_outlet_type_df['sum'] = round(company_sales_by_outlet_type_df['sum'],3)\n",
    "company_sales_by_outlet_type_df.style.format({\"sum\":  \"${:20,.2f}\"})"
   ]
  },
  {
   "cell_type": "code",
   "execution_count": null,
   "metadata": {},
   "outputs": [],
   "source": [
    "type(company_sales_by_outlet_type_df)"
   ]
  },
  {
   "cell_type": "code",
   "execution_count": null,
   "metadata": {
    "scrolled": true
   },
   "outputs": [],
   "source": [
    "# labels = ['Supermarket Type1', 'Supermarket Type3', \n",
    "#           'Supermarket Type2', 'Grocery Store']\n",
    "\n",
    "# bar_plot(company_sales_by_outlet_type_df, column_name='sum',\n",
    "#          fs=(10,5), file_name='Total Sales by Outlet Type.png',\n",
    "#          tit_lab='Total Company Sales by Outlet Type',\n",
    "#          label_order=labels,\n",
    "#          fmt=price_0_fmt,\n",
    "#          hza='center', rot=0)"
   ]
  },
  {
   "cell_type": "code",
   "execution_count": null,
   "metadata": {},
   "outputs": [],
   "source": [
    "# Create a dataframe grouped by Outlet_Type displaying the\n",
    "# average Outlet_Identifiers aggregated sum of Item_Outlet_Sales\n",
    "average_outlet_sales_by_type_df = pd.DataFrame()\n",
    "for out_type in eda_df['Outlet_Type'].unique():\n",
    "    filter = eda_df['Outlet_Type'] == out_type\n",
    "    filtered_df = eda_df[filter].copy()\n",
    "    type_sales_sum = filtered_df['Item_Outlet_Sales'].sum()\n",
    "    type_outlet_count = filtered_df['Outlet_Identifier'].nunique()\n",
    "    average_type_sales = round(type_sales_sum/type_outlet_count, 2)  \n",
    "    average_outlet_sales_by_type_df.loc[out_type, 'Average Outlet Sales'] = average_type_sales"
   ]
  },
  {
   "cell_type": "code",
   "execution_count": null,
   "metadata": {},
   "outputs": [],
   "source": [
    "# Display the dataframe\n",
    "average_outlet_sales_by_type_df"
   ]
  },
  {
   "cell_type": "code",
   "execution_count": null,
   "metadata": {
    "scrolled": false
   },
   "outputs": [],
   "source": [
    "# labels = ['Supermarket Type3', 'Supermarket Type1', \n",
    "#           'Supermarket Type2', 'Grocery Store']\n",
    "\n",
    "# bar_plot(average_outlet_sales_by_type_df, 'Average Outlet Sales',\n",
    "#          file_name='Average Outlet Sales by Outlet Type.png',\n",
    "#          fs=(10,5), tit_lab='Average Outlet Sales by Outlet Type',\n",
    "#          label_order=labels,\n",
    "#          fmt=price_0_fmt,\n",
    "#          hza='center', rot=0)"
   ]
  },
  {
   "cell_type": "code",
   "execution_count": null,
   "metadata": {},
   "outputs": [],
   "source": [
    "outlet_type_df = eda_df.groupby(['Outlet_Type','Outlet_Identifier'])\\\n",
    "                 ['Item_Outlet_Sales'].agg(['sum'])\\\n",
    "                 .sort_values(['sum'], ascending = False)\n",
    "outlet_type_df['sum'] = round(outlet_type_df['sum'],2)"
   ]
  },
  {
   "cell_type": "code",
   "execution_count": null,
   "metadata": {
    "scrolled": true
   },
   "outputs": [],
   "source": [
    "outlet_type_df"
   ]
  },
  {
   "cell_type": "markdown",
   "metadata": {},
   "source": [
    "### **Item Types**"
   ]
  },
  {
   "cell_type": "code",
   "execution_count": null,
   "metadata": {},
   "outputs": [],
   "source": [
    "# Create a dataframe grouped by Item_Types displaying the\n",
    "# aggregated sum of Item_Outlet_Sales\n",
    "item_types_df = eda_df.groupby('Item_Type')['Item_Outlet_Sales'].agg(['sum']).sort_values('sum', ascending = False)\n",
    "item_types_df['sum'] = round(item_types_df['sum'],2)\n",
    "item_types_df"
   ]
  },
  {
   "cell_type": "code",
   "execution_count": null,
   "metadata": {
    "scrolled": false
   },
   "outputs": [],
   "source": [
    "# bar_plot(item_types_df, 'sum', \n",
    "#          label_order=item_types_df.index, \n",
    "#          fs=(10,5), file_name='Total Sales by Item Type.png',\n",
    "#          tit_lab='Total Sales by Item Type', \n",
    "#          fmt=price_0_fmt,\n",
    "#          hza='right', rot=30)"
   ]
  },
  {
   "cell_type": "markdown",
   "metadata": {},
   "source": [
    "### **Items**"
   ]
  },
  {
   "cell_type": "code",
   "execution_count": null,
   "metadata": {
    "scrolled": true
   },
   "outputs": [],
   "source": [
    "total_sales_by_item = eda_df.groupby('Item_Identifier')['Item_Outlet_Sales'].agg(['sum']).sort_values('sum', ascending = False)\n",
    "total_sales_by_item['sum'] = round(total_sales_by_item['sum'],2)"
   ]
  },
  {
   "cell_type": "code",
   "execution_count": null,
   "metadata": {},
   "outputs": [],
   "source": [
    "top_10_total_sales_by_item = total_sales_by_item.head(10)"
   ]
  },
  {
   "cell_type": "code",
   "execution_count": null,
   "metadata": {
    "scrolled": true
   },
   "outputs": [],
   "source": [
    "# bar_plot(top_10_total_sales_by_item, 'sum', \n",
    "#          label_order=top_10_total_sales_by_item.index, \n",
    "#          tit_lab='Total Sales Top 10 Items', \n",
    "#          file_name='Total Sales Top 10 Items.png',\n",
    "#          fmt=price_0_fmt,\n",
    "#          hza='center', rot=0)"
   ]
  },
  {
   "cell_type": "code",
   "execution_count": null,
   "metadata": {},
   "outputs": [],
   "source": [
    "# Calculate 20% of \n",
    "round(len(total_sales_by_item)*.2)"
   ]
  },
  {
   "cell_type": "code",
   "execution_count": null,
   "metadata": {
    "scrolled": true
   },
   "outputs": [],
   "source": [
    "top_perc_20_df = total_sales_by_item.head(round(len(total_sales_by_item)*.2))\n",
    "top_perc_20_df.head(5)"
   ]
  },
  {
   "cell_type": "code",
   "execution_count": null,
   "metadata": {},
   "outputs": [],
   "source": [
    "bottom_perc_20_df = total_sales_by_item.tail(round(len(total_sales_by_item)*.2))\n",
    "bottom_perc_20_df.tail(5).sort_values('sum', ascending = True)"
   ]
  },
  {
   "cell_type": "markdown",
   "metadata": {},
   "source": [
    "#### **Item_Fat_Content**"
   ]
  },
  {
   "cell_type": "code",
   "execution_count": null,
   "metadata": {},
   "outputs": [],
   "source": [
    "top_perc_20_df"
   ]
  },
  {
   "cell_type": "markdown",
   "metadata": {
    "id": "dAuHnCUr_-EG"
   },
   "source": [
    "## **Preprocessing for Machine Learning**"
   ]
  },
  {
   "cell_type": "markdown",
   "metadata": {
    "id": "MJIJUuaMBdmv"
   },
   "source": [
    "### **Validation Split**"
   ]
  },
  {
   "cell_type": "code",
   "execution_count": null,
   "metadata": {
    "id": "InFQiRIXBdEH"
   },
   "outputs": [],
   "source": [
    "# Define features (X) and target (y)\n",
    "X = ml_df.drop(columns = ['Item_Outlet_Sales'])\n",
    "y = ml_df['Item_Outlet_Sales']"
   ]
  },
  {
   "cell_type": "code",
   "execution_count": null,
   "metadata": {
    "id": "GmnIF81FBi0v"
   },
   "outputs": [],
   "source": [
    "# Split\n",
    "X_train, X_test, y_train, y_test = train_test_split(X, y, random_state=42)"
   ]
  },
  {
   "cell_type": "markdown",
   "metadata": {},
   "source": [
    "### **Missing Value Imputation**"
   ]
  },
  {
   "cell_type": "code",
   "execution_count": null,
   "metadata": {
    "id": "41pfKrSM_khj"
   },
   "outputs": [],
   "source": [
    "# Loop through index values of the dataframe\n",
    "for ind in X_train.index:\n",
    "    # Create a filter to select the Item_Identifier corresponding to the index\n",
    "    item_filter = X_train['Item_Identifier'] == X_train.loc[ind,'Item_Identifier']\n",
    "\n",
    "    # Calculate the rounded value of the mean 'Item_Weight' \n",
    "    # of this rows 'Item_Identifier' \n",
    "    mean_item_weight = round(X_train.loc[item_filter,'Item_Weight'].mean(), 3)\n",
    "\n",
    "    # Assign mean_item_weight to the 'Item_Weight' column of this row\n",
    "    X_train.loc[ind,'Item_Weight'] = mean_item_weight"
   ]
  },
  {
   "cell_type": "code",
   "execution_count": null,
   "metadata": {
    "colab": {
     "base_uri": "https://localhost:8080/",
     "height": 375
    },
    "id": "oKN3WIH2_khk",
    "outputId": "748ef221-dbfc-44d9-eb85-d5a44f48598d",
    "scrolled": true
   },
   "outputs": [],
   "source": [
    "# Identify any remaining 'Item_Identifier's without 'Item_Weight' for the eda_df\n",
    "print(X_train.Item_Weight.isnull().sum())\n",
    "X_train[X_train.Item_Weight.isnull()].head()"
   ]
  },
  {
   "cell_type": "code",
   "execution_count": null,
   "metadata": {
    "id": "509KIDVhBaxX"
   },
   "outputs": [],
   "source": [
    "# Loop through index values of the dataframe\n",
    "for ind in X_test.index:\n",
    "    # Create a filter to select the Item_Identifier corresponding to the index\n",
    "    item_filter = X_train['Item_Identifier'] == X_test.loc[ind,'Item_Identifier']\n",
    "\n",
    "    # Calculate the rounded value of the mean 'Item_Weight' \n",
    "    # of this rows 'Item_Identifier' \n",
    "    mean_item_weight = round(X_train.loc[item_filter,'Item_Weight'].mean(), 3)\n",
    "\n",
    "    # Assign mean_item_weight to the 'Item_Weight' column of this row\n",
    "    X_test.loc[ind,'Item_Weight'] = mean_item_weight"
   ]
  },
  {
   "cell_type": "code",
   "execution_count": null,
   "metadata": {
    "colab": {
     "base_uri": "https://localhost:8080/",
     "height": 375
    },
    "id": "5Ol5tIKcBaxY",
    "outputId": "cf020b80-bca2-4289-93b5-a03b29857139",
    "scrolled": true
   },
   "outputs": [],
   "source": [
    "# Identify any remaining 'Item_Identifier's without 'Item_Weight'\n",
    "print(X_test.Item_Weight.isnull().sum())\n",
    "X_test[X_test.Item_Weight.isnull()].head()"
   ]
  },
  {
   "cell_type": "markdown",
   "metadata": {},
   "source": [
    "- These remaining missing values will be imputed in the pipeline using SimpleImputer(strategy='median')  "
   ]
  },
  {
   "cell_type": "markdown",
   "metadata": {},
   "source": [
    "### **Cardinality**"
   ]
  },
  {
   "cell_type": "markdown",
   "metadata": {},
   "source": [
    "- **The Curse of Dimensionality** - _As the number of features grows, the amount of data needed to accurately be able to distinguish between these features (in order to make a prediction), and generalize our model grows exponentially._\n",
    "- The 'Item_Identifier' column has 1559 unique values. \n",
    "- The high cardinality of this object column feature may adversely impact machine learning model prediction performance and processing times, as well as  exaggerate it's feature importance, and so will be dropped."
   ]
  },
  {
   "cell_type": "code",
   "execution_count": null,
   "metadata": {},
   "outputs": [],
   "source": [
    "# Drop 'Item_Identifier'\n",
    "X_train = X_train.drop(columns=['Item_Identifier'])\n",
    "X_test  = X_test.drop(columns=['Item_Identifier'])"
   ]
  },
  {
   "cell_type": "markdown",
   "metadata": {},
   "source": [
    "### **Linear Regression Model Assumptions**"
   ]
  },
  {
   "cell_type": "code",
   "execution_count": null,
   "metadata": {},
   "outputs": [],
   "source": [
    "# Create a second version of X for Linear Regresson models\n",
    "X_2_train = X_train.copy()\n",
    "X_2_test  = X_test.copy()"
   ]
  },
  {
   "cell_type": "markdown",
   "metadata": {},
   "source": [
    "#### **Assumption of Linearity**"
   ]
  },
  {
   "cell_type": "markdown",
   "metadata": {},
   "source": [
    "##### **Item_Weight**"
   ]
  },
  {
   "cell_type": "code",
   "execution_count": null,
   "metadata": {
    "scrolled": true
   },
   "outputs": [],
   "source": [
    "reg_plot(eda_df, 'Item_Weight', 'Item_Outlet_Sales', \n",
    "         tit_lab='Correlation', \n",
    "         x_lab='Item Weight (Pounds)', \n",
    "         y_lab='Item Outlet Sales (dollars)',\n",
    "         y_fmt=price_0_fmt)"
   ]
  },
  {
   "cell_type": "markdown",
   "metadata": {},
   "source": [
    "- 'Item_Weight', based on the plot above, does not appear to have a linear relationship to the target, 'Item_Outlet_Sales'.\n",
    "- 'Item_Weight' should not be retained, it should be dropped from the ml_2_df dataframe."
   ]
  },
  {
   "cell_type": "code",
   "execution_count": null,
   "metadata": {},
   "outputs": [],
   "source": [
    "# Drop 'Item_Weight'\n",
    "X_2_train = X_2_train.drop(columns=['Item_Weight'])\n",
    "X_2_test  = X_2_test.drop(columns=['Item_Weight'])"
   ]
  },
  {
   "cell_type": "markdown",
   "metadata": {},
   "source": [
    "##### **Item_Visibility**"
   ]
  },
  {
   "cell_type": "code",
   "execution_count": null,
   "metadata": {
    "scrolled": true
   },
   "outputs": [],
   "source": [
    "# Utilize function to display regplot \n",
    "reg_plot(eda_df, 'Item_Visibility', 'Item_Outlet_Sales', \n",
    "         tit_lab='Correlation', \n",
    "         x_lab='Item Visibility (Percentage of display area)', \n",
    "         y_lab='Item Outlet Sales',\n",
    "         x_fmt=perc_0_fmt, y_fmt=price_0_fmt)"
   ]
  },
  {
   "cell_type": "markdown",
   "metadata": {},
   "source": [
    "- 'Item_Visibility', based on the plot above, may not have a linear relationship to the target, 'Item_Outlet_Sales', but in fact have two distinct tiers, in which each separately is uncorrelated."
   ]
  },
  {
   "cell_type": "code",
   "execution_count": null,
   "metadata": {
    "scrolled": false
   },
   "outputs": [],
   "source": [
    "reg_2_plot(eda_df, 'Item_Visibility', 'Item_Outlet_Sales', \n",
    "           tit_lab='Correlation', \n",
    "           x_lab='Item Visibility (Percentage of display area)', \n",
    "           y_lab='Item Outlet Sales (dollars)',\n",
    "           x_fmt=perc_0_fmt, y_fmt=price_0_fmt)"
   ]
  },
  {
   "cell_type": "markdown",
   "metadata": {},
   "source": [
    "- Based on the plot above 'Item_Visibility' does not appear to have a linear relationship to the target, 'Item_Outlet_Sales'.\n",
    "- 'Item_Weight' should not be retained, it should be dropped from the ml_2_df dataframe."
   ]
  },
  {
   "cell_type": "code",
   "execution_count": null,
   "metadata": {},
   "outputs": [],
   "source": [
    "# Drop 'Item_Visibility'\n",
    "X_2_train = X_2_train.drop(columns=['Item_Visibility'])\n",
    "X_2_test  = X_2_test.drop(columns=['Item_Visibility'])"
   ]
  },
  {
   "cell_type": "markdown",
   "metadata": {},
   "source": [
    "##### **Item_MRP**"
   ]
  },
  {
   "cell_type": "code",
   "execution_count": null,
   "metadata": {
    "scrolled": false
   },
   "outputs": [],
   "source": [
    "reg_plot(ml_df, 'Item_MRP', 'Item_Outlet_Sales', \n",
    "         tit_lab='Correlation', \n",
    "         x_lab='Item MRP (dollars)', \n",
    "         y_lab='Item Outlet Sales (dollars)')"
   ]
  },
  {
   "cell_type": "markdown",
   "metadata": {},
   "source": [
    "- 'Item_MRP', based on the plot above, does appear to have a linear relationship to the target, 'Item_Outlet_Sales'.\n",
    "- 'Item_MRP' should be retained, it should not be dropped from the ml_2_df dataframe."
   ]
  },
  {
   "cell_type": "markdown",
   "metadata": {},
   "source": [
    "#### **Assumption of Little-to-No Multicollinearity**"
   ]
  },
  {
   "cell_type": "markdown",
   "metadata": {},
   "source": [
    "Correlation can be used to identify pairs of features that are too multicollinear to include in the model.\n",
    "- The threshold utilized will be pairs of features that have a correlation value less then -0.8 or greater than +0.8.\n"
   ]
  },
  {
   "cell_type": "code",
   "execution_count": null,
   "metadata": {
    "scrolled": true
   },
   "outputs": [],
   "source": [
    "## Calc abs values of correlations\n",
    "correlation = ml_df.drop(columns='Item_Outlet_Sales').corr().abs()\n",
    "correlation"
   ]
  },
  {
   "cell_type": "code",
   "execution_count": null,
   "metadata": {},
   "outputs": [],
   "source": [
    "# Plot Correlation Heatmap\n",
    "plt.figure(figsize = (8,8),facecolor='w')\n",
    "correlation = ml_df.drop(columns='Item_Outlet_Sales').corr().abs()\n",
    "mask = np.triu(np.ones_like(correlation))\n",
    "sns.heatmap(correlation,square=True, cmap='viridis', annot=True, mask=mask);\n",
    "plt.title('Correlation Heatmap', fontsize = 16, weight='bold')\n",
    "plt.xticks(fontsize = 12, weight='bold', rotation=90)\n",
    "plt.yticks(fontsize = 12, weight='bold', rotation=0);\n",
    "plt.tight_layout()\n",
    "plt.show;"
   ]
  },
  {
   "cell_type": "markdown",
   "metadata": {},
   "source": [
    "- The highest correlation noted is 0.075 between 'Item_Visibility' and 'Outlet_Establishment_Year', well below the threshold value value of 0.80. \n",
    "- No features need to be dropped based on multicollinearity."
   ]
  },
  {
   "cell_type": "code",
   "execution_count": null,
   "metadata": {},
   "outputs": [],
   "source": [
    "X_train.head()"
   ]
  },
  {
   "cell_type": "code",
   "execution_count": null,
   "metadata": {},
   "outputs": [],
   "source": [
    "X_2_train.head()"
   ]
  },
  {
   "cell_type": "markdown",
   "metadata": {
    "id": "7sBLzSPLBpZs"
   },
   "source": [
    "### **Instantiate Column Selectors**"
   ]
  },
  {
   "cell_type": "code",
   "execution_count": null,
   "metadata": {
    "id": "1dMBx7j-CVKL"
   },
   "outputs": [],
   "source": [
    "# Selectors\n",
    "cat_selector = make_column_selector(dtype_include='object')\n",
    "num_selector = make_column_selector(dtype_include='number')\n",
    "\n",
    "# Selectors for low and high cardinality categorical columns\n",
    "# to differentiate high cardianlity categorical columns\n",
    "# to analyze dropping or label encoding options\n",
    "low_unique_cat_selector = [col for col in X_train.columns if X_train[col].dtype=='object' and X_train[col].nunique() < 1500]\n",
    "high_unique_cat_selector = [col for col in X_train.columns if X_train[col].dtype=='object' and X_train[col].nunique() >= 1500]"
   ]
  },
  {
   "cell_type": "code",
   "execution_count": null,
   "metadata": {
    "colab": {
     "base_uri": "https://localhost:8080/"
    },
    "id": "9_Khz9WZEU5D",
    "outputId": "2e9c90a4-21c7-4f9b-8e08-b8273f328b72"
   },
   "outputs": [],
   "source": [
    "# Display categorical column names\n",
    "cat_selector(X_train)"
   ]
  },
  {
   "cell_type": "code",
   "execution_count": null,
   "metadata": {},
   "outputs": [],
   "source": [
    "# Display categorical column names with low number of unique values\n",
    "low_unique_cat_selector"
   ]
  },
  {
   "cell_type": "code",
   "execution_count": null,
   "metadata": {},
   "outputs": [],
   "source": [
    "# Display categorical column names with low number of unique vales\n",
    "high_unique_cat_selector"
   ]
  },
  {
   "cell_type": "code",
   "execution_count": null,
   "metadata": {
    "colab": {
     "base_uri": "https://localhost:8080/"
    },
    "id": "BdO7NlhaErnc",
    "outputId": "a1abb0e1-2eaf-492c-bb82-382ec28c2a1a"
   },
   "outputs": [],
   "source": [
    "# Display numerical column names\n",
    "num_selector(X_train)"
   ]
  },
  {
   "cell_type": "code",
   "execution_count": null,
   "metadata": {},
   "outputs": [],
   "source": [
    "# Display numerical column names\n",
    "num_selector(X_2_train)"
   ]
  },
  {
   "cell_type": "markdown",
   "metadata": {
    "id": "3_MJ12EfBP1M"
   },
   "source": [
    "### **Instantiate Transformers**"
   ]
  },
  {
   "cell_type": "code",
   "execution_count": null,
   "metadata": {
    "id": "mJPh9ESZBlqt"
   },
   "outputs": [],
   "source": [
    "# Imputers\n",
    "freq_imputer = SimpleImputer(strategy='most_frequent')\n",
    "median_imputer = SimpleImputer(strategy='median')\n",
    "# Scaler\n",
    "scaler = StandardScaler()\n",
    "# One Hot Encoder\n",
    "ohe = OneHotEncoder(handle_unknown='ignore', sparse=False)\n",
    "# Leabel Encoder\n",
    "lab = LabelEncoder()"
   ]
  },
  {
   "cell_type": "markdown",
   "metadata": {
    "id": "I9QYhz6GBbrY"
   },
   "source": [
    "### **Instantiate Pipelines**"
   ]
  },
  {
   "cell_type": "code",
   "execution_count": null,
   "metadata": {
    "colab": {
     "base_uri": "https://localhost:8080/",
     "height": 127
    },
    "id": "ljedGo0UB4Xi",
    "outputId": "f63e2142-427c-4ad3-a95b-114e7972cccf"
   },
   "outputs": [],
   "source": [
    "# Numeric pipeline\n",
    "numeric_pipe = make_pipeline(median_imputer, scaler)\n",
    "numeric_pipe"
   ]
  },
  {
   "cell_type": "code",
   "execution_count": null,
   "metadata": {},
   "outputs": [],
   "source": [
    "# Numeric pipeline without scaling\n",
    "# This will reduce processing time for -\n",
    "# Tree based models do not require scaling\n",
    "numeric_no_scaler_pipe = make_pipeline(median_imputer)\n",
    "numeric_no_scaler_pipe"
   ]
  },
  {
   "cell_type": "code",
   "execution_count": null,
   "metadata": {
    "colab": {
     "base_uri": "https://localhost:8080/",
     "height": 127
    },
    "id": "VUB4INtqB8Qg",
    "outputId": "e53f21d6-f407-4e31-8237-df95c062a014",
    "scrolled": true
   },
   "outputs": [],
   "source": [
    "# Categorical pipeline\n",
    "categorical_pipe = make_pipeline(freq_imputer, ohe)\n",
    "categorical_pipe"
   ]
  },
  {
   "cell_type": "code",
   "execution_count": null,
   "metadata": {},
   "outputs": [],
   "source": [
    "# Categorical pipeline\n",
    "categorical_low_unique_pipe = make_pipeline(freq_imputer, ohe)\n",
    "categorical_low_unique_pipe"
   ]
  },
  {
   "cell_type": "code",
   "execution_count": null,
   "metadata": {},
   "outputs": [],
   "source": [
    "categorical_high_unique_pipe = make_pipeline(freq_imputer, lab)\n",
    "categorical_high_unique_pipe"
   ]
  },
  {
   "cell_type": "markdown",
   "metadata": {
    "id": "IyyJcylbBinz"
   },
   "source": [
    "### **Instantiate ColumnTransformer**"
   ]
  },
  {
   "cell_type": "code",
   "execution_count": null,
   "metadata": {
    "colab": {
     "base_uri": "https://localhost:8080/",
     "height": 153
    },
    "id": "GUMU9szJCBDl",
    "outputId": "f45173b0-7f26-459f-8d38-3a4bdef6b6b9"
   },
   "outputs": [],
   "source": [
    "# Tuples for Column Transformer\n",
    "number_tuple = (numeric_pipe, num_selector)\n",
    "number_no_scaling_tuple = (numeric_no_scaler_pipe, num_selector)\n",
    "category_tuple = (categorical_pipe, cat_selector)\n",
    "categorical_low_unique_tuple = (categorical_low_unique_pipe, low_unique_cat_selector)\n",
    "categorical_high_unique_tuple = (categorical_high_unique_pipe, high_unique_cat_selector)"
   ]
  },
  {
   "cell_type": "code",
   "execution_count": null,
   "metadata": {},
   "outputs": [],
   "source": [
    "# ColumnTransformer\n",
    "preprocessor = make_column_transformer(number_tuple, \n",
    "                                       category_tuple, \n",
    "                                       remainder='passthrough',\n",
    "                                       verbose_feature_names_out=False)\n",
    "preprocessor"
   ]
  },
  {
   "cell_type": "code",
   "execution_count": null,
   "metadata": {},
   "outputs": [],
   "source": [
    "# ColumnTransformer without scaling\n",
    "# - Scaling is not required for tree based models\n",
    "no_scaling_preprocessor = make_column_transformer(number_no_scaling_tuple, \n",
    "                                              category_tuple, \n",
    "                                              remainder='passthrough',\n",
    "                                              verbose_feature_names_out=False)\n",
    "no_scaling_preprocessor"
   ]
  },
  {
   "cell_type": "markdown",
   "metadata": {
    "id": "UWx7IUbSBqCG"
   },
   "source": [
    "### **Fit and Transform Data**"
   ]
  },
  {
   "cell_type": "code",
   "execution_count": null,
   "metadata": {
    "colab": {
     "base_uri": "https://localhost:8080/",
     "height": 153
    },
    "id": "o6M3u2CRCfIS",
    "outputId": "ae2b8d0f-ee64-4e08-86a6-7e656b33d1bb"
   },
   "outputs": [],
   "source": [
    "# Fit on Train\n",
    "# Default X_train\n",
    "preprocessor.fit(X_train)\n",
    "# Transform Train and Test on Default X_train and X_test\n",
    "X_train_processed = preprocessor.transform(X_train)\n",
    "X_test_processed = preprocessor.transform(X_test)"
   ]
  },
  {
   "cell_type": "code",
   "execution_count": null,
   "metadata": {},
   "outputs": [],
   "source": [
    "feature_names = preprocessor.get_feature_names_out()"
   ]
  },
  {
   "cell_type": "code",
   "execution_count": null,
   "metadata": {},
   "outputs": [],
   "source": [
    "feature_names[0:10]"
   ]
  },
  {
   "cell_type": "code",
   "execution_count": null,
   "metadata": {
    "id": "pOMUJoopCiIf",
    "scrolled": true
   },
   "outputs": [],
   "source": [
    "# Fit on Train\n",
    "# Linear regression X_train\n",
    "preprocessor.fit(X_2_train)\n",
    "# Transform Train and Test on X_2_train and X_2_test \n",
    "# used for Linear Regression models\n",
    "X_2_train_processed = preprocessor.transform(X_2_train)\n",
    "X_2_test_processed = preprocessor.transform(X_2_test)"
   ]
  },
  {
   "cell_type": "code",
   "execution_count": null,
   "metadata": {},
   "outputs": [],
   "source": [
    "feature_names_2 = preprocessor.get_feature_names_out()"
   ]
  },
  {
   "cell_type": "code",
   "execution_count": null,
   "metadata": {},
   "outputs": [],
   "source": [
    "feature_names_2[0:10]"
   ]
  },
  {
   "cell_type": "markdown",
   "metadata": {
    "id": "zqsX0lJDBzyn"
   },
   "source": [
    "### **Inspect the Result**"
   ]
  },
  {
   "cell_type": "code",
   "execution_count": null,
   "metadata": {
    "colab": {
     "base_uri": "https://localhost:8080/"
    },
    "id": "AWapESdSCmK8",
    "outputId": "59318462-ebeb-473b-dcf4-c4af463f3fcc"
   },
   "outputs": [],
   "source": [
    "# Check for missing values and that data is scaled and one-hot encoded\n",
    "print(f'There are {np.isnan(X_train_processed).sum().sum()} missing values in X_train_processed.')\n",
    "print(f'There are {np.isnan(X_test_processed).sum().sum()} missing values in X_test_processed.')\n",
    "print('\\n')\n",
    "print('All data in X_train_processed are', X_train_processed.dtype)\n",
    "print('All data in X_test_processed are', X_test_processed.dtype)\n",
    "print('\\n')\n",
    "print('The shape of X_train_processed is', X_train_processed.shape)\n",
    "print('The shape of X_test_processed is', X_test_processed.shape)"
   ]
  },
  {
   "cell_type": "code",
   "execution_count": null,
   "metadata": {
    "id": "rDHkXIQr4f-x"
   },
   "outputs": [],
   "source": [
    "# Create dataframes from the processed arrays\n",
    "# Default X_train and X_test\n",
    "X_train_df = pd.DataFrame(X_train_processed, \n",
    "                          columns = feature_names, \n",
    "                          index=X_train.index)\n",
    "X_test_df = pd.DataFrame(X_test_processed, \n",
    "                         columns = feature_names, \n",
    "                         index=X_test.index)\n",
    "# Linear Regression X_train and X_test\n",
    "X_2_train_df = pd.DataFrame(X_2_train_processed, \n",
    "                            columns = feature_names_2, \n",
    "                            index=X_train.index)\n",
    "X_2_test_df = pd.DataFrame(X_2_test_processed, \n",
    "                           columns = feature_names_2, \n",
    "                           index=X_test.index)"
   ]
  },
  {
   "cell_type": "code",
   "execution_count": null,
   "metadata": {
    "colab": {
     "base_uri": "https://localhost:8080/",
     "height": 393
    },
    "id": "FoV0NDRv4lAT",
    "outputId": "df1c132e-89f3-4b58-9ca9-94d4e8f1d14d"
   },
   "outputs": [],
   "source": [
    "X_train_df.describe().round(2)"
   ]
  },
  {
   "cell_type": "code",
   "execution_count": null,
   "metadata": {
    "colab": {
     "base_uri": "https://localhost:8080/",
     "height": 393
    },
    "id": "k9J8U8r_4nE_",
    "outputId": "07f18dbd-6cfa-4daa-ae6a-3ab377d10cb7"
   },
   "outputs": [],
   "source": [
    "X_2_train_df.describe().round(2)"
   ]
  },
  {
   "cell_type": "markdown",
   "metadata": {
    "id": "imrX-bdL49cz"
   },
   "source": [
    "\n",
    "\n",
    "---\n",
    "\n"
   ]
  },
  {
   "cell_type": "markdown",
   "metadata": {
    "id": "qezl2Sa-BWQZ"
   },
   "source": [
    "## **Machine Learning Models**"
   ]
  },
  {
   "cell_type": "markdown",
   "metadata": {
    "id": "-QUlnwn3p4rP"
   },
   "source": [
    "### **Metric Function**"
   ]
  },
  {
   "cell_type": "code",
   "execution_count": null,
   "metadata": {},
   "outputs": [],
   "source": [
    "# Create a dataframe to store model performaance metrics\n",
    "model_metrics_df = pd.DataFrame()"
   ]
  },
  {
   "cell_type": "code",
   "execution_count": null,
   "metadata": {
    "id": "RMeA_xP9mKNc"
   },
   "outputs": [],
   "source": [
    "# Create a function to take the true and predicted values\n",
    "# and print MAE, MSE, RMSE, and R2 metrics\n",
    "def evaluation_model(pipe, model_name='', \n",
    "                     x_train='X_train', x_test='X_test', params=None):\n",
    "  # Train\n",
    "  mae = round(mean_absolute_error(y_train, pipe.predict(x_train)),3)\n",
    "  model_metrics_df.loc[model_name, 'Train MAE'] = mae\n",
    "  mse = round(mean_squared_error(y_train, pipe.predict(x_train)),3)\n",
    "  model_metrics_df.loc[model_name, 'Train MSE'] = mse\n",
    "  rmse = round(np.sqrt(mean_squared_error(y_train, pipe.predict(x_train))),3)\n",
    "  model_metrics_df.loc[model_name, 'Train RMSE'] = rmse\n",
    "  r2 = round(r2_score(y_train, pipe.predict(x_train)),7)\n",
    "  model_metrics_df.loc[model_name, 'Train R2'] = r2\n",
    "  print(f'{model_name} Train Scores')\n",
    "  print(f'MAE: {mae:,.2f} \\nMSE: {mse:,.2f} \\nRMSE: {rmse:,.2f} \\nR2: {r2:.4f}\\n')\n",
    "\n",
    "  # Test\n",
    "  mae = round(mean_absolute_error(y_test, pipe.predict(x_test)),2)\n",
    "  model_metrics_df.loc[model_name, 'Test MAE'] = round(mae, 2)\n",
    "  mse = round(mean_squared_error(y_test, pipe.predict(x_test)),2)\n",
    "  model_metrics_df.loc[model_name, 'Test MSE'] = round(mse, 2)\n",
    "  rmse = round(np.sqrt(mean_squared_error(y_test, pipe.predict(x_test))),2)\n",
    "  model_metrics_df.loc[model_name, 'Test RMSE'] = round(rmse, 2)\n",
    "  r2 = round(r2_score(y_test, pipe.predict(x_test)),7)\n",
    "  model_metrics_df.loc[model_name, 'Test R2'] = r2\n",
    "  print(f'{model_name} Test Scores')\n",
    "  print(f'MAE: {mae:,.2f} \\nMSE: {mse:,.2f} \\nRMSE: {rmse:,.2f} \\nR2: {r2:.4f}\\n')"
   ]
  },
  {
   "cell_type": "markdown",
   "metadata": {
    "id": "lGkBis0IkH5T"
   },
   "source": [
    "### **Baseline Model**"
   ]
  },
  {
   "cell_type": "code",
   "execution_count": null,
   "metadata": {
    "colab": {
     "base_uri": "https://localhost:8080/",
     "height": 228
    },
    "id": "kSJlsADm-gHG",
    "outputId": "5360c4d4-735f-4539-c52c-1c653077ea90"
   },
   "outputs": [],
   "source": [
    "# Make an instance of the model\n",
    "dummy = DummyRegressor(strategy='mean')\n",
    "# Make a model pipeline\n",
    "dummy_pipe = make_pipeline(preprocessor, dummy)\n",
    "# Fit the model\n",
    "dummy_pipe.fit(X_train, y_train)"
   ]
  },
  {
   "cell_type": "code",
   "execution_count": null,
   "metadata": {
    "colab": {
     "base_uri": "https://localhost:8080/"
    },
    "id": "UOXydYWGzSzq",
    "outputId": "1ee53600-a5e1-44b6-9141-fa3651859393"
   },
   "outputs": [],
   "source": [
    "# Display model performance metrics\n",
    "evaluation_model(pipe=dummy_pipe, model_name='Dummy Model',\n",
    "                 x_train=X_train, x_test=X_test)"
   ]
  },
  {
   "cell_type": "markdown",
   "metadata": {},
   "source": [
    "### **Linear Regression Model**"
   ]
  },
  {
   "cell_type": "markdown",
   "metadata": {},
   "source": [
    "#### **Version 1**"
   ]
  },
  {
   "cell_type": "code",
   "execution_count": null,
   "metadata": {},
   "outputs": [],
   "source": [
    "# Make an instance of the model\n",
    "lin_reg = LinearRegression(positive=True)\n",
    "# Make a model pipeline\n",
    "lin_reg_pipe = make_pipeline(preprocessor, lin_reg)\n",
    "# Fit the model\n",
    "lin_reg_pipe.fit(X_2_train, y_train)"
   ]
  },
  {
   "cell_type": "code",
   "execution_count": null,
   "metadata": {},
   "outputs": [],
   "source": [
    "# Display model performance metrics\n",
    "evaluation_model(pipe=lin_reg_pipe, \n",
    "                 model_name='Linear Regression', \n",
    "                 x_train=X_2_train,\n",
    "                 x_test=X_2_test)"
   ]
  },
  {
   "cell_type": "markdown",
   "metadata": {},
   "source": [
    "#### **Version 2**"
   ]
  },
  {
   "cell_type": "markdown",
   "metadata": {},
   "source": [
    "##### **Assumption of Normality**"
   ]
  },
  {
   "cell_type": "code",
   "execution_count": null,
   "metadata": {},
   "outputs": [],
   "source": [
    "# Calculate the residual errors\n",
    "train_residuals = y_test - lin_reg_pipe.predict(X_2_test)\n",
    "test_residuals = y_test - lin_reg_pipe.predict(X_2_test)"
   ]
  },
  {
   "cell_type": "code",
   "execution_count": null,
   "metadata": {
    "scrolled": true
   },
   "outputs": [],
   "source": [
    "# Display the first 10 residuals for \n",
    "test_residuals[0:10]"
   ]
  },
  {
   "cell_type": "code",
   "execution_count": null,
   "metadata": {
    "scrolled": false
   },
   "outputs": [],
   "source": [
    "# Display a QQ Plot\n",
    "sm.graphics.qqplot(test_residuals, line='45', fit=True);"
   ]
  },
  {
   "cell_type": "markdown",
   "metadata": {},
   "source": [
    "In the qqplot above: the distribution of the residuals is plotted on the y-axis and a perfect normal distribution is plotting on the x-axis.\n",
    "\n",
    "- If it was a perfect normal distribution, the residuals would be equal to the theoretical values.\n",
    "- The red diagonal line shows the expected values if when the residuals are normal.\n",
    "- The further the markers deviate from the red line, the more they are violating the assumption of normality."
   ]
  },
  {
   "cell_type": "markdown",
   "metadata": {},
   "source": [
    "##### **Assumption of Homoscedasticity**"
   ]
  },
  {
   "cell_type": "code",
   "execution_count": null,
   "metadata": {
    "scrolled": false
   },
   "outputs": [],
   "source": [
    "fig, ax = plt.subplots()\n",
    "ax.scatter(lin_reg_pipe.predict(X_2_test), test_residuals, ec='white', lw=1)\n",
    "ax.axhline(0)\n",
    "ax.set(ylabel='Residuals',xlabel='Predicted Value');"
   ]
  },
  {
   "cell_type": "markdown",
   "metadata": {},
   "source": [
    "If we are meeting the assumption of homoscedasticity, we should see no clear pattern to the residuals. They should be approximately equally spread out.\n",
    "- Its okay if there is some variability at various points along the X-axis.\n",
    "- What we really DON'T want to see is a clear cone-shape to the residuals.\n",
    "- Looking at our residual plot above, we can clearly see a cone-shape, with tightly clustered residuals on the left that continue to spread out as we move towards the right."
   ]
  },
  {
   "cell_type": "markdown",
   "metadata": {},
   "source": [
    "##### **Remove Outliers**"
   ]
  },
  {
   "cell_type": "code",
   "execution_count": null,
   "metadata": {},
   "outputs": [],
   "source": [
    "# Convert y_train to z-scores with StandardScaler()\n",
    "z_scores = scaler.fit_transform(y_train.values.reshape(-1,1))"
   ]
  },
  {
   "cell_type": "code",
   "execution_count": null,
   "metadata": {},
   "outputs": [],
   "source": [
    "# Convert the sz-scores back to a pd.Series\n",
    "# with the same index that it had originally\n",
    "z_scores = pd.Series(z_scores.flatten(), \n",
    "                    index=y_train.index )"
   ]
  },
  {
   "cell_type": "code",
   "execution_count": null,
   "metadata": {},
   "outputs": [],
   "source": [
    "# Create an outlier filter\n",
    "idx_outliers = z_scores > 3"
   ]
  },
  {
   "cell_type": "code",
   "execution_count": null,
   "metadata": {},
   "outputs": [],
   "source": [
    "# Display the number of outliers\n",
    "idx_outliers.sum()"
   ]
  },
  {
   "cell_type": "code",
   "execution_count": null,
   "metadata": {},
   "outputs": [],
   "source": [
    "# Create a cleaned version of y_train and X_train with outliers removed\n",
    "y_train_cln = y_train[~idx_outliers]\n",
    "X_train_cln = X_2_train_df.loc[y_train_cln.index]"
   ]
  },
  {
   "cell_type": "code",
   "execution_count": null,
   "metadata": {},
   "outputs": [],
   "source": [
    "y_train_cln.head()"
   ]
  },
  {
   "cell_type": "code",
   "execution_count": null,
   "metadata": {
    "scrolled": false
   },
   "outputs": [],
   "source": [
    "X_train_cln.head()"
   ]
  },
  {
   "cell_type": "markdown",
   "metadata": {},
   "source": [
    "##### **Remove Columns with Insignificant P-Values**"
   ]
  },
  {
   "cell_type": "markdown",
   "metadata": {},
   "source": [
    "- Check the p-values for each coefficient (the |P|>t column) and remove any features that have insignificant p-values."
   ]
  },
  {
   "cell_type": "markdown",
   "metadata": {
    "id": "Z4vyLNDsSfuL"
   },
   "source": [
    "### **Linear Regression with Elastic Net Model**"
   ]
  },
  {
   "cell_type": "code",
   "execution_count": null,
   "metadata": {
    "colab": {
     "base_uri": "https://localhost:8080/",
     "height": 228
    },
    "id": "tINpbWn_SfuL",
    "outputId": "70309dd9-f909-4266-a8fb-0583640d3ebf"
   },
   "outputs": [],
   "source": [
    "# Make an instance of the model\n",
    "el_net_reg = ElasticNet(positive=True, random_state=42)\n",
    "# Make a model pipeline\n",
    "el_net_reg_pipe = make_pipeline(preprocessor, el_net_reg)\n",
    "# Fit the model\n",
    "el_net_reg_pipe.fit(X_2_train, y_train)"
   ]
  },
  {
   "cell_type": "code",
   "execution_count": null,
   "metadata": {
    "colab": {
     "base_uri": "https://localhost:8080/"
    },
    "id": "qplcNvgHSfuM",
    "outputId": "aa4b9249-a1f1-47db-d1fc-efa02267636e",
    "scrolled": true
   },
   "outputs": [],
   "source": [
    "# Display model performance metrics\n",
    "evaluation_model(pipe=el_net_reg_pipe, \n",
    "                 model_name='Elastic Net', \n",
    "                 x_train=X_2_train,\n",
    "                 x_test=X_2_test)"
   ]
  },
  {
   "cell_type": "code",
   "execution_count": null,
   "metadata": {
    "colab": {
     "base_uri": "https://localhost:8080/"
    },
    "id": "85GR-eotSfuM",
    "outputId": "049af624-1fd3-42d5-c161-eaf2747b4f76"
   },
   "outputs": [],
   "source": [
    "# Looking at options for tuning this model\n",
    "el_net_reg.get_params()"
   ]
  },
  {
   "cell_type": "code",
   "execution_count": null,
   "metadata": {
    "id": "Kg1nY9_DSfuM"
   },
   "outputs": [],
   "source": [
    "# Create dictionary of hyperparamters to test\n",
    "param_grid = {'elasticnet__alpha': [2.0, 2.25, 2.5, 2.75, 3],\n",
    "              'elasticnet__l1_ratio': [0.98, 0.99, 1],\n",
    "              'elasticnet__max_iter': [100000]}        "
   ]
  },
  {
   "cell_type": "code",
   "execution_count": null,
   "metadata": {
    "id": "J1xh_f0dSfuN"
   },
   "outputs": [],
   "source": [
    "# Make an instance of the model\n",
    "grid_pipe = GridSearchCV(el_net_reg_pipe, param_grid)"
   ]
  },
  {
   "cell_type": "code",
   "execution_count": null,
   "metadata": {
    "colab": {
     "base_uri": "https://localhost:8080/",
     "height": 229
    },
    "id": "2lzrs-SeSfuN",
    "outputId": "85a9e04c-bd56-4842-9e53-8a8e6121c439",
    "scrolled": true
   },
   "outputs": [],
   "source": [
    "# Fit the model\n",
    "grid_pipe.fit(X_2_train, y_train)"
   ]
  },
  {
   "cell_type": "code",
   "execution_count": null,
   "metadata": {
    "colab": {
     "base_uri": "https://localhost:8080/"
    },
    "id": "TRIl0TgjSfuN",
    "outputId": "e8a3726d-70e1-446e-a541-f8c78ef8c187"
   },
   "outputs": [],
   "source": [
    "grid_pipe.best_params_"
   ]
  },
  {
   "cell_type": "code",
   "execution_count": null,
   "metadata": {
    "id": "Y4UfcD98SfuO"
   },
   "outputs": [],
   "source": [
    "el_net_reg_pipe = grid_pipe.best_estimator_"
   ]
  },
  {
   "cell_type": "code",
   "execution_count": null,
   "metadata": {
    "colab": {
     "base_uri": "https://localhost:8080/"
    },
    "id": "mGBtLu-4SfuO",
    "outputId": "7596ae27-ab19-4b6e-f285-6ee36871ade6",
    "scrolled": false
   },
   "outputs": [],
   "source": [
    "# Display model performance metrics\n",
    "evaluation_model(pipe=el_net_reg_pipe, \n",
    "                 model_name='Elastic Net', \n",
    "                 x_train=X_2_train,\n",
    "                 x_test=X_2_test)"
   ]
  },
  {
   "cell_type": "markdown",
   "metadata": {
    "id": "tHh_-Q090jHq"
   },
   "source": [
    "### **K Nearest Neighbors Model**"
   ]
  },
  {
   "cell_type": "code",
   "execution_count": null,
   "metadata": {
    "colab": {
     "base_uri": "https://localhost:8080/",
     "height": 228
    },
    "id": "NTu__-qW0jHr",
    "outputId": "3f8f6600-0246-4850-87eb-9c119f1fa61a"
   },
   "outputs": [],
   "source": [
    "# Make an instance of the model\n",
    "knn = KNeighborsRegressor()\n",
    "# Make a model pipeline\n",
    "knn_pipe = make_pipeline(preprocessor, knn)\n",
    "# Fit the model\n",
    "knn_pipe.fit(X_train, y_train)"
   ]
  },
  {
   "cell_type": "code",
   "execution_count": null,
   "metadata": {
    "colab": {
     "base_uri": "https://localhost:8080/"
    },
    "id": "LjIdSAj10jHr",
    "outputId": "a2f0cba3-e732-4c16-9220-83e758f13fe6"
   },
   "outputs": [],
   "source": [
    "# Display model performance metrics\n",
    "evaluation_model(pipe=knn_pipe, model_name='K Nearest Neighbors',\n",
    "                 x_train=X_train, x_test=X_test)"
   ]
  },
  {
   "cell_type": "code",
   "execution_count": null,
   "metadata": {
    "colab": {
     "base_uri": "https://localhost:8080/"
    },
    "id": "HxE-Sag20jHs",
    "outputId": "2af85402-3c64-4a5b-dbad-3e555dd2c6e6",
    "scrolled": false
   },
   "outputs": [],
   "source": [
    "# Look at the hyperparameters\n",
    "knn.get_params()"
   ]
  },
  {
   "cell_type": "code",
   "execution_count": null,
   "metadata": {
    "id": "kDR0mhWQ0jHu"
   },
   "outputs": [],
   "source": [
    "# Create dictionary of hyperparamters to test\n",
    "param_grid = {'kneighborsregressor__n_neighbors': range(25,40),\n",
    "              'kneighborsregressor__leaf_size': range(2,5)}"
   ]
  },
  {
   "cell_type": "code",
   "execution_count": null,
   "metadata": {
    "id": "D2dRpiKp0jHu"
   },
   "outputs": [],
   "source": [
    "# Make an instance of the model\n",
    "grid_pipe = GridSearchCV(knn_pipe, param_grid)"
   ]
  },
  {
   "cell_type": "code",
   "execution_count": null,
   "metadata": {
    "colab": {
     "base_uri": "https://localhost:8080/",
     "height": 229
    },
    "id": "HIv97YNQ0jHv",
    "outputId": "5767d7d1-0a8d-4c14-c1a9-084d8febd2a6"
   },
   "outputs": [],
   "source": [
    "# Fit the model\n",
    "grid_pipe.fit(X_train, y_train)"
   ]
  },
  {
   "cell_type": "code",
   "execution_count": null,
   "metadata": {
    "colab": {
     "base_uri": "https://localhost:8080/"
    },
    "id": "dt8AU57p0jHw",
    "outputId": "9f7879dc-4225-459d-91ad-17af502e8125"
   },
   "outputs": [],
   "source": [
    "grid_pipe.best_params_"
   ]
  },
  {
   "cell_type": "code",
   "execution_count": null,
   "metadata": {
    "id": "49BLRgvn0jHw"
   },
   "outputs": [],
   "source": [
    "knn_pipe = grid_pipe.best_estimator_"
   ]
  },
  {
   "cell_type": "code",
   "execution_count": null,
   "metadata": {
    "colab": {
     "base_uri": "https://localhost:8080/"
    },
    "id": "CdLXvuhq0jHx",
    "outputId": "86f36e11-5a27-467c-bf61-8f671c775f00",
    "scrolled": true
   },
   "outputs": [],
   "source": [
    "# Display model performance metrics\n",
    "evaluation_model(pipe=knn_pipe, model_name='K Nearest Neighbors',\n",
    "                 x_train=X_train, x_test=X_test)"
   ]
  },
  {
   "cell_type": "markdown",
   "metadata": {
    "id": "yRMec7Nb3Wnx"
   },
   "source": [
    "### **Decision Tree Model**"
   ]
  },
  {
   "cell_type": "code",
   "execution_count": null,
   "metadata": {
    "colab": {
     "base_uri": "https://localhost:8080/",
     "height": 228
    },
    "id": "3Dz1BsjV09bD",
    "outputId": "d6958f6d-0266-4187-dae7-045e53567473"
   },
   "outputs": [],
   "source": [
    "# Make an instance of the model\n",
    "dec_tree = DecisionTreeRegressor(random_state = 42)\n",
    "# Make a model pipeline\n",
    "dec_tree_pipe = make_pipeline(no_scaling_preprocessor, dec_tree)\n",
    "# Fit the model\n",
    "dec_tree_pipe.fit(X_train, y_train)"
   ]
  },
  {
   "cell_type": "code",
   "execution_count": null,
   "metadata": {
    "colab": {
     "base_uri": "https://localhost:8080/"
    },
    "id": "-WKHzu3O1VCN",
    "outputId": "abdb2e4a-3eeb-40d6-8802-e6f2b449019e",
    "scrolled": true
   },
   "outputs": [],
   "source": [
    "# Display model performance metrics\n",
    "evaluation_model(pipe=dec_tree_pipe, model_name='Decision Tree',\n",
    "                 x_train=X_train, x_test=X_test)"
   ]
  },
  {
   "cell_type": "markdown",
   "metadata": {
    "id": "69YQb_TV36_W"
   },
   "source": [
    "- The default decision tree had a much higher R2 score on the training data than it did on the test data.  \n",
    "- This is an indication that there is extremely high variance and the model is overfit.  "
   ]
  },
  {
   "cell_type": "code",
   "execution_count": null,
   "metadata": {
    "colab": {
     "base_uri": "https://localhost:8080/"
    },
    "id": "eIA6pgXB4Dtk",
    "outputId": "f49991be-75cd-4fe3-878c-a39ed211d726"
   },
   "outputs": [],
   "source": [
    "# Looking at options for tuning this model\n",
    "dec_tree.get_params()"
   ]
  },
  {
   "cell_type": "code",
   "execution_count": null,
   "metadata": {
    "colab": {
     "base_uri": "https://localhost:8080/"
    },
    "id": "OjweRkBT4JPl",
    "outputId": "baafea89-eec2-4812-ace1-f0b73dd63c2e"
   },
   "outputs": [],
   "source": [
    "# Display the default model depth\n",
    "dec_tree.get_depth()"
   ]
  },
  {
   "cell_type": "code",
   "execution_count": null,
   "metadata": {
    "colab": {
     "base_uri": "https://localhost:8080/"
    },
    "id": "Q3zitIXi4O8t",
    "outputId": "c36ecb4b-9135-448e-8c3f-e4772acbbf7a"
   },
   "outputs": [],
   "source": [
    "# Display the default model number of leaves\n",
    "dec_tree.get_n_leaves()"
   ]
  },
  {
   "cell_type": "code",
   "execution_count": null,
   "metadata": {
    "id": "F1-s013S4jlt"
   },
   "outputs": [],
   "source": [
    "# List of values to try for max_depth:\n",
    "max_depth_range = list(range(2, 20)) # will try every value between 2 and 20\n",
    "# List to store the score for each value of max_depth:\n",
    "train_r2 = []\n",
    "test_r2 = []\n",
    "for depth in max_depth_range:\n",
    "    dec_tree = DecisionTreeRegressor(max_depth = depth, \n",
    "                             random_state = 42)\n",
    "    dec_tree_pipe = make_pipeline(no_scaling_preprocessor, dec_tree)\n",
    "    dec_tree_pipe.fit(X_train, y_train)\n",
    "    train_score = dec_tree_pipe.score(X_train, y_train)\n",
    "    test_score = dec_tree_pipe.score(X_test, y_test)\n",
    "    train_r2.append(train_score)\n",
    "    test_r2.append(test_score)"
   ]
  },
  {
   "cell_type": "code",
   "execution_count": null,
   "metadata": {
    "colab": {
     "base_uri": "https://localhost:8080/",
     "height": 280
    },
    "id": "z9VoOWE94nxa",
    "outputId": "a357cc0b-4a48-46b7-f201-197d51e87bf3",
    "scrolled": true
   },
   "outputs": [],
   "source": [
    "# Visualize the max_depths to display which achieves the highest R2 score\n",
    "plt.plot(max_depth_range, train_r2)\n",
    "plt.plot(max_depth_range, test_r2)\n",
    "plt.xlabel('max_depth')\n",
    "plt.ylabel('R2');"
   ]
  },
  {
   "cell_type": "markdown",
   "metadata": {
    "id": "CuCBAoKC4p7G"
   },
   "source": [
    "- From the image above, it appears the highest R2 score for the model is achieved when the hyperparameter max_depth equals 5.  "
   ]
  },
  {
   "cell_type": "code",
   "execution_count": null,
   "metadata": {
    "colab": {
     "base_uri": "https://localhost:8080/",
     "height": 228
    },
    "id": "TP4z00dv4uNj",
    "outputId": "20318b02-bc6c-47b5-b0f5-56bca8068546"
   },
   "outputs": [],
   "source": [
    "# Make an instance of the model\n",
    "dec_tree = DecisionTreeRegressor(max_depth=5, random_state = 42)\n",
    "# Make a model pipeline\n",
    "dec_tree_pipe = make_pipeline(no_scaling_preprocessor, dec_tree)\n",
    "# Fit the model\n",
    "dec_tree_pipe.fit(X_train, y_train)"
   ]
  },
  {
   "cell_type": "code",
   "execution_count": null,
   "metadata": {
    "colab": {
     "base_uri": "https://localhost:8080/"
    },
    "id": "Wp8gDhBrdc46",
    "outputId": "ffe262bd-43af-474f-eaf8-7a2f28666a10"
   },
   "outputs": [],
   "source": [
    "# Display model performance metrics\n",
    "evaluation_model(pipe=dec_tree_pipe, model_name='Decision Tree',\n",
    "                 x_train=X_train, x_test=X_test)"
   ]
  },
  {
   "cell_type": "code",
   "execution_count": null,
   "metadata": {
    "colab": {
     "base_uri": "https://localhost:8080/",
     "height": 228
    },
    "id": "TKBE1LH4EKJg",
    "outputId": "854eb4bb-950d-4a62-f16d-7e039b6a48ed"
   },
   "outputs": [],
   "source": [
    "# Make an instance of the model\n",
    "dec_tree = DecisionTreeRegressor(random_state = 42)\n",
    "# Make a model pipeline\n",
    "dec_tree_pipe = make_pipeline(no_scaling_preprocessor, dec_tree)\n",
    "# Fit the model\n",
    "dec_tree_pipe.fit(X_train, y_train)"
   ]
  },
  {
   "cell_type": "code",
   "execution_count": null,
   "metadata": {
    "id": "f5o2c3LNA1jI"
   },
   "outputs": [],
   "source": [
    "# Create dictionary of hyperparamters to test\n",
    "param_grid = {'decisiontreeregressor__max_depth': range(4,8),\n",
    "              'decisiontreeregressor__min_samples_leaf': range(45,60),\n",
    "              'decisiontreeregressor__min_samples_split': range(2,4)}       "
   ]
  },
  {
   "cell_type": "code",
   "execution_count": null,
   "metadata": {
    "id": "FH9IyU6sCK3Y"
   },
   "outputs": [],
   "source": [
    "# Make an instance of the model\n",
    "grid_pipe = GridSearchCV(dec_tree_pipe, param_grid)"
   ]
  },
  {
   "cell_type": "code",
   "execution_count": null,
   "metadata": {
    "colab": {
     "base_uri": "https://localhost:8080/",
     "height": 229
    },
    "id": "H3DoO784Csvh",
    "outputId": "7df7c47f-bba3-4770-977b-9792891bf281",
    "scrolled": false
   },
   "outputs": [],
   "source": [
    "# Fit the model\n",
    "grid_pipe.fit(X_train, y_train)"
   ]
  },
  {
   "cell_type": "code",
   "execution_count": null,
   "metadata": {
    "colab": {
     "base_uri": "https://localhost:8080/"
    },
    "id": "vNEw2osmGwxJ",
    "outputId": "a14cbeb7-da06-4f3d-e8b4-1c476afe893e",
    "scrolled": true
   },
   "outputs": [],
   "source": [
    "grid_pipe.best_params_"
   ]
  },
  {
   "cell_type": "code",
   "execution_count": null,
   "metadata": {
    "id": "4nbl9myBI0KG"
   },
   "outputs": [],
   "source": [
    "dec_tree_pipe = grid_pipe.best_estimator_"
   ]
  },
  {
   "cell_type": "code",
   "execution_count": null,
   "metadata": {
    "colab": {
     "base_uri": "https://localhost:8080/"
    },
    "id": "e9rHv4XdJN-_",
    "outputId": "42f49612-05c3-4211-a695-146b31b4d955",
    "scrolled": false
   },
   "outputs": [],
   "source": [
    "# Display model performance metrics\n",
    "evaluation_model(pipe=dec_tree_pipe, model_name='Decision Tree',\n",
    "                 x_train=X_train, x_test=X_test)"
   ]
  },
  {
   "cell_type": "code",
   "execution_count": null,
   "metadata": {
    "scrolled": true
   },
   "outputs": [],
   "source": [
    "# Plot the Decision Tree\n",
    "# Make an instance of the model\n",
    "dec_tree = DecisionTreeRegressor(max_depth=6, min_samples_leaf=51,\n",
    "                                 min_samples_split=2, random_state=42)\n",
    "# Fit the model\n",
    "dec_tree.fit(X_2_train_df, y_train)\n",
    "# Display the plot\n",
    "plt.figure(figsize=(100,10))\n",
    "a = tree.plot_tree(dec_tree, feature_names=feature_names_2,\n",
    "                   filled=True, \n",
    "                   rounded=True, \n",
    "                   fontsize=10)"
   ]
  },
  {
   "cell_type": "markdown",
   "metadata": {
    "id": "UNFbjf5EEj8B"
   },
   "source": [
    "### **Random Forest Model**"
   ]
  },
  {
   "cell_type": "code",
   "execution_count": null,
   "metadata": {
    "colab": {
     "base_uri": "https://localhost:8080/",
     "height": 228
    },
    "id": "N_kuZz2FEtWY",
    "outputId": "77ec9a2f-4590-41c2-cebb-b806f1da8e19",
    "scrolled": true
   },
   "outputs": [],
   "source": [
    "# Make an instance of the model\n",
    "ran_for = RandomForestRegressor(random_state=42)\n",
    "# Make a model pipeline\n",
    "ran_for_pipe = make_pipeline(no_scaling_preprocessor, ran_for)\n",
    "# Fit the model\n",
    "ran_for_pipe.fit(X_train, y_train)"
   ]
  },
  {
   "cell_type": "code",
   "execution_count": null,
   "metadata": {
    "colab": {
     "base_uri": "https://localhost:8080/"
    },
    "id": "-OW2iBv3EtWZ",
    "outputId": "b8358373-7be6-470d-9be2-8a71e8b2e4ef"
   },
   "outputs": [],
   "source": [
    "# Display model performance metrics\n",
    "evaluation_model(pipe=ran_for_pipe, model_name='Random Forest',\n",
    "                 x_train=X_train, x_test=X_test)"
   ]
  },
  {
   "cell_type": "code",
   "execution_count": null,
   "metadata": {
    "colab": {
     "base_uri": "https://localhost:8080/"
    },
    "id": "A0wo3oUWFRpi",
    "outputId": "d7e6bc76-8fe8-4d58-feda-8afc2129f886"
   },
   "outputs": [],
   "source": [
    "# Looking at some hyperparameters that seem tunable\n",
    "ran_for.get_params()"
   ]
  },
  {
   "cell_type": "code",
   "execution_count": null,
   "metadata": {
    "colab": {
     "base_uri": "https://localhost:8080/"
    },
    "id": "M1rlZfDAG7Hm",
    "outputId": "2753fdfb-ce08-431e-eb71-9533bab4c2c5"
   },
   "outputs": [],
   "source": [
    "est_depths = [estimator.get_depth() for estimator in ran_for.estimators_]\n",
    "max(est_depths)"
   ]
  },
  {
   "cell_type": "code",
   "execution_count": null,
   "metadata": {
    "id": "eGks4cZEHE4X"
   },
   "outputs": [],
   "source": [
    "depths = range(1, max(est_depths))\n",
    "scores = pd.DataFrame(index=depths, columns=['Test Score'])\n",
    "for depth in depths:    \n",
    "   ran_for = RandomForestRegressor(max_depth=depth, random_state=42)\n",
    "   ran_for_pipe = make_pipeline(no_scaling_preprocessor, ran_for)\n",
    "   ran_for_pipe.fit(X_train, y_train)\n",
    "   scores.loc[depth, 'Train Score'] = ran_for_pipe.score(X_train, y_train)\n",
    "   scores.loc[depth, 'Test Score'] = ran_for_pipe.score(X_test, y_test)"
   ]
  },
  {
   "cell_type": "code",
   "execution_count": null,
   "metadata": {
    "colab": {
     "base_uri": "https://localhost:8080/",
     "height": 265
    },
    "id": "FI94tdVLI2ft",
    "outputId": "960e444a-5f21-4149-99a6-a363b69ebfad",
    "scrolled": true
   },
   "outputs": [],
   "source": [
    "# Plot the scores\n",
    "plt.plot(scores['Test Score'])\n",
    "plt.plot(scores['Train Score'])\n",
    "plt.show()"
   ]
  },
  {
   "cell_type": "code",
   "execution_count": null,
   "metadata": {
    "colab": {
     "base_uri": "https://localhost:8080/",
     "height": 228
    },
    "id": "fzWjZMV_WkkS",
    "outputId": "97c9672a-4646-4763-e4d0-98b3e2639f9b"
   },
   "outputs": [],
   "source": [
    "# Make an instance of the model\n",
    "ran_for = RandomForestRegressor(max_depth=5, random_state=42)\n",
    "# Make a model pipeline\n",
    "ran_for_pipe = make_pipeline(no_scaling_preprocessor, ran_for)\n",
    "# Fit the model\n",
    "ran_for_pipe.fit(X_train, y_train)"
   ]
  },
  {
   "cell_type": "code",
   "execution_count": null,
   "metadata": {
    "colab": {
     "base_uri": "https://localhost:8080/"
    },
    "id": "LRI0JqS-WuWm",
    "outputId": "d4ae06f4-ce68-4497-d9d2-3f027d50adac"
   },
   "outputs": [],
   "source": [
    "# Display model performance metrics\n",
    "evaluation_model(pipe=ran_for_pipe, model_name='Random Forest',\n",
    "                 x_train=X_train, x_test=X_test)"
   ]
  },
  {
   "cell_type": "code",
   "execution_count": null,
   "metadata": {
    "colab": {
     "base_uri": "https://localhost:8080/"
    },
    "id": "pO_DW1iNB4KL",
    "outputId": "2b12bcb7-7b65-4644-c103-7d3aac2a0839",
    "scrolled": true
   },
   "outputs": [],
   "source": [
    "# Looking at some hyperparameters that seem tunable\n",
    "ran_for.get_params()"
   ]
  },
  {
   "cell_type": "code",
   "execution_count": null,
   "metadata": {
    "id": "d6gKgbuZlULG"
   },
   "outputs": [],
   "source": [
    "# Create dictionary of hyperparamters to test\n",
    "param_grid = {'randomforestregressor__n_estimators': range(80,95),\n",
    "               'randomforestregressor__max_depth': [4, 5, 6],\n",
    "               'randomforestregressor__min_samples_split': [2, 3]}"
   ]
  },
  {
   "cell_type": "code",
   "execution_count": null,
   "metadata": {
    "id": "9dNR8OP6lULG"
   },
   "outputs": [],
   "source": [
    "# Make an instance of the model\n",
    "grid_pipe = GridSearchCV(ran_for_pipe, param_grid)"
   ]
  },
  {
   "cell_type": "code",
   "execution_count": null,
   "metadata": {
    "colab": {
     "base_uri": "https://localhost:8080/",
     "height": 229
    },
    "id": "5svghnaNlULH",
    "outputId": "4aa24048-ba00-45b8-899a-81f165e17f8e",
    "scrolled": false
   },
   "outputs": [],
   "source": [
    "# Fit the model\n",
    "grid_pipe.fit(X_train, y_train)"
   ]
  },
  {
   "cell_type": "code",
   "execution_count": null,
   "metadata": {
    "colab": {
     "base_uri": "https://localhost:8080/"
    },
    "id": "l-kjpfFSlULH",
    "outputId": "20083337-6b53-4241-f889-def9aa185496"
   },
   "outputs": [],
   "source": [
    "grid_pipe.best_params_"
   ]
  },
  {
   "cell_type": "code",
   "execution_count": null,
   "metadata": {
    "id": "wwg_fDx4lULH"
   },
   "outputs": [],
   "source": [
    "ran_for_pipe = grid_pipe.best_estimator_"
   ]
  },
  {
   "cell_type": "code",
   "execution_count": null,
   "metadata": {
    "colab": {
     "base_uri": "https://localhost:8080/"
    },
    "id": "KNTjIg2ylULI",
    "outputId": "3ced7eaf-f504-4cb7-ef2f-acae0f04e11e"
   },
   "outputs": [],
   "source": [
    "# Display model performance metrics\n",
    "evaluation_model(pipe=ran_for_pipe, model_name='Random Forest',\n",
    "                 x_train=X_train, x_test=X_test)"
   ]
  },
  {
   "cell_type": "markdown",
   "metadata": {
    "id": "8ZyH4wu4VcV0"
   },
   "source": [
    "### **Extreme Gradient Boosted Machine Model**"
   ]
  },
  {
   "cell_type": "code",
   "execution_count": null,
   "metadata": {
    "colab": {
     "base_uri": "https://localhost:8080/",
     "height": 246
    },
    "id": "US4qYvDfVcV1",
    "outputId": "b3129ac4-790d-4981-e61b-d380a08fc4cc",
    "scrolled": false
   },
   "outputs": [],
   "source": [
    "# Make an instance of the model\n",
    "xgb_reg = XGBRegressor()\n",
    "# Make a model pipeline\n",
    "xgb_reg_pipe = make_pipeline(preprocessor, xgb_reg)\n",
    "# Fit the model\n",
    "xgb_reg_pipe.fit(X_train, y_train)"
   ]
  },
  {
   "cell_type": "code",
   "execution_count": null,
   "metadata": {
    "colab": {
     "base_uri": "https://localhost:8080/"
    },
    "id": "5aWlZtbKVcV2",
    "outputId": "11b771e7-b23a-4add-aa26-1d2493e59326",
    "scrolled": true
   },
   "outputs": [],
   "source": [
    "# Display model performance metrics\n",
    "evaluation_model(pipe=xgb_reg, \n",
    "                 model_name='XGBoost',\n",
    "                 x_train=X_train_processed, x_test=X_test_processed)"
   ]
  },
  {
   "cell_type": "code",
   "execution_count": null,
   "metadata": {
    "scrolled": false
   },
   "outputs": [],
   "source": [
    "# Display the model's hyperparameters available for tuning\n",
    "xgb_reg.get_params()"
   ]
  },
  {
   "cell_type": "code",
   "execution_count": null,
   "metadata": {
    "id": "f5o2c3LNA1jI"
   },
   "outputs": [],
   "source": [
    "# Create a dictionary of hyperparamters to test\n",
    "param_grid ={'gamma': [0],\n",
    "             'learning_rate': [.0045], \n",
    "             'max_depth': [3],\n",
    "             'min_child_weight': [0],\n",
    "             'subsample': [.77],\n",
    "             'colsample_bytree': [.85],\n",
    "             'n_estimators': [980]}"
   ]
  },
  {
   "cell_type": "code",
   "execution_count": null,
   "metadata": {
    "id": "FH9IyU6sCK3Y"
   },
   "outputs": [],
   "source": [
    "# Make an instance of the model\n",
    "grid_pipe = GridSearchCV(xgb_reg, param_grid,\n",
    "                        cv = 2, n_jobs = 5,\n",
    "                        verbose=True)"
   ]
  },
  {
   "cell_type": "code",
   "execution_count": null,
   "metadata": {
    "colab": {
     "base_uri": "https://localhost:8080/",
     "height": 229
    },
    "id": "H3DoO784Csvh",
    "outputId": "7df7c47f-bba3-4770-977b-9792891bf281",
    "scrolled": true
   },
   "outputs": [],
   "source": [
    "# Fit the model\n",
    "grid_pipe.fit(X_train_processed, y_train)"
   ]
  },
  {
   "cell_type": "code",
   "execution_count": null,
   "metadata": {
    "colab": {
     "base_uri": "https://localhost:8080/"
    },
    "id": "vNEw2osmGwxJ",
    "outputId": "a14cbeb7-da06-4f3d-e8b4-1c476afe893e",
    "scrolled": false
   },
   "outputs": [],
   "source": [
    "# Display the best hyperparameters\n",
    "grid_pipe.best_params_"
   ]
  },
  {
   "cell_type": "code",
   "execution_count": null,
   "metadata": {
    "id": "4nbl9myBI0KG"
   },
   "outputs": [],
   "source": [
    "xgb_reg_pipe = grid_pipe.best_estimator_"
   ]
  },
  {
   "cell_type": "code",
   "execution_count": null,
   "metadata": {
    "colab": {
     "base_uri": "https://localhost:8080/"
    },
    "id": "e9rHv4XdJN-_",
    "outputId": "42f49612-05c3-4211-a695-146b31b4d955",
    "scrolled": true
   },
   "outputs": [],
   "source": [
    "# Display model performance metrics\n",
    "evaluation_model(pipe=xgb_reg_pipe, model_name='XGBoost',\n",
    "                 x_train=X_train_processed, x_test=X_test_processed)"
   ]
  },
  {
   "cell_type": "markdown",
   "metadata": {
    "id": "REloxSTNUcuY"
   },
   "source": [
    "### **Light Gradient Boosted Machine Model**"
   ]
  },
  {
   "cell_type": "code",
   "execution_count": null,
   "metadata": {
    "colab": {
     "base_uri": "https://localhost:8080/",
     "height": 228
    },
    "id": "7Sqoes61UcuY",
    "outputId": "222b1099-2995-4ec8-c2ab-35a0b224b2ca"
   },
   "outputs": [],
   "source": [
    "# Make an instance of the model\n",
    "lgb_reg = LGBMRegressor()\n",
    "# Make a model pipeline\n",
    "lgb_reg_pipe = make_pipeline(preprocessor, lgb_reg)\n",
    "# Fit the model\n",
    "lgb_reg_pipe.fit(X_train, y_train)"
   ]
  },
  {
   "cell_type": "code",
   "execution_count": null,
   "metadata": {
    "colab": {
     "base_uri": "https://localhost:8080/"
    },
    "id": "17b_mQY5UcuZ",
    "outputId": "e8d052a7-c100-452c-f2d8-ad7c31bca89c"
   },
   "outputs": [],
   "source": [
    "# Display model performance metrics\n",
    "evaluation_model(pipe=lgb_reg, \n",
    "                 model_name='LGBoost',\n",
    "                 x_train=X_train_processed, x_test=X_test_processed)"
   ]
  },
  {
   "cell_type": "code",
   "execution_count": null,
   "metadata": {
    "scrolled": false
   },
   "outputs": [],
   "source": [
    "# Display the model's hyperparameters available for tuning\n",
    "lgb_reg.get_params()"
   ]
  },
  {
   "cell_type": "code",
   "execution_count": null,
   "metadata": {
    "id": "f5o2c3LNA1jI"
   },
   "outputs": [],
   "source": [
    "# Create a dictionary of hyperparamters to test\n",
    "param_grid ={#'objective':['reg:squarederror'],\n",
    "             'gamma': [0],\n",
    "             'learning_rate': [.015], \n",
    "             'max_depth': [3],\n",
    "             'min_child_weight': [0],\n",
    "             'colsample_bytree': [1],\n",
    "             'n_estimators': [300]}"
   ]
  },
  {
   "cell_type": "code",
   "execution_count": null,
   "metadata": {
    "id": "FH9IyU6sCK3Y"
   },
   "outputs": [],
   "source": [
    "# Make an instance of the model\n",
    "grid_pipe = GridSearchCV(lgb_reg, param_grid,\n",
    "                        cv = 2, n_jobs = 5,\n",
    "                        verbose=True)"
   ]
  },
  {
   "cell_type": "code",
   "execution_count": null,
   "metadata": {
    "colab": {
     "base_uri": "https://localhost:8080/",
     "height": 229
    },
    "id": "H3DoO784Csvh",
    "outputId": "7df7c47f-bba3-4770-977b-9792891bf281",
    "scrolled": true
   },
   "outputs": [],
   "source": [
    "# Fit the model\n",
    "grid_pipe.fit(X_train_processed, y_train)"
   ]
  },
  {
   "cell_type": "code",
   "execution_count": null,
   "metadata": {
    "colab": {
     "base_uri": "https://localhost:8080/"
    },
    "id": "vNEw2osmGwxJ",
    "outputId": "a14cbeb7-da06-4f3d-e8b4-1c476afe893e",
    "scrolled": false
   },
   "outputs": [],
   "source": [
    "# Display the best hyperparameters\n",
    "grid_pipe.best_params_"
   ]
  },
  {
   "cell_type": "code",
   "execution_count": null,
   "metadata": {
    "id": "4nbl9myBI0KG"
   },
   "outputs": [],
   "source": [
    "# Make an i\n",
    "lgb_reg_pipe = grid_pipe.best_estimator_"
   ]
  },
  {
   "cell_type": "code",
   "execution_count": null,
   "metadata": {
    "colab": {
     "base_uri": "https://localhost:8080/"
    },
    "id": "e9rHv4XdJN-_",
    "outputId": "42f49612-05c3-4211-a695-146b31b4d955",
    "scrolled": true
   },
   "outputs": [],
   "source": [
    "# Display model performance metrics\n",
    "evaluation_model(pipe=lgb_reg_pipe, model_name='LGBoost',\n",
    "                 x_train=X_train_processed, x_test=X_test_processed)"
   ]
  },
  {
   "cell_type": "markdown",
   "metadata": {
    "id": "mDbXyTxNSMQX"
   },
   "source": [
    "## **Model Performance Comparison**"
   ]
  },
  {
   "cell_type": "code",
   "execution_count": null,
   "metadata": {},
   "outputs": [],
   "source": [
    "model_metrics_df = model_metrics_df.drop(index=['Dummy Model'])"
   ]
  },
  {
   "cell_type": "code",
   "execution_count": null,
   "metadata": {
    "scrolled": true
   },
   "outputs": [],
   "source": [
    "model_metrics_df.sort_values(by='Test R2', ascending=False)\\\n",
    "                .style.format({\"Train MAE\":  \"${:20,.2f}\", \n",
    "                               \"Train MSE\":  \"${:20,.2f}\", \n",
    "                               \"Train RMSE\": \"${:20,.2f}\",\n",
    "                               \"Train R2\":   \"{:.4%}\",\n",
    "                               \"Test MAE\":   \"${:20,.2f}\",\n",
    "                               \"Test MSE\":   \"${:20,.2f}\",\n",
    "                               \"Test RMSE\":  \"${:20,.2f}\",\n",
    "                               \"Test R2\":    \"{:.4%}\"})\\\n",
    "                .background_gradient(cmap='Blues_r', \n",
    "                subset=['Test RMSE'])\\\n",
    "                .background_gradient(cmap='Blues', \n",
    "                subset=['Test R2'])"
   ]
  },
  {
   "cell_type": "markdown",
   "metadata": {},
   "source": [
    "### **Mean Absolute Error (MAE)**"
   ]
  },
  {
   "cell_type": "markdown",
   "metadata": {},
   "source": [
    "$$ \\Large MAE = \\frac{\\sum_{i=1}^{n}|y_{i} - \\hat y_{i}|}{n}$$\n",
    "- To prevent a + error and - error from cancelling each other out, we take the absolute value of the erorrs before we sum them.\n",
    "\n",
    "- MAE will still be in the same units as the original target.\n",
    "- On average, how off is your model's prediction from the true value?"
   ]
  },
  {
   "cell_type": "code",
   "execution_count": null,
   "metadata": {},
   "outputs": [],
   "source": [
    "line_plot(model_metrics_df, column_1='Train MAE', column_2='Test MAE',\n",
    "             fs=(10,5), file_name='Model Performance MAE Scores.png',\n",
    "             tit_lab='Model Performance', x_lab='', y_lab='MAE', \n",
    "             fmt=price_0_fmt,\n",
    "             hza='center', rot=20)"
   ]
  },
  {
   "cell_type": "markdown",
   "metadata": {},
   "source": [
    "### **Mean Squared Error (MSE)**"
   ]
  },
  {
   "cell_type": "markdown",
   "metadata": {},
   "source": [
    "- To prevent a + error and - error from cancelling each other out, we could also square the erorr (since a negative number squared becomes a positive number).\n",
    "\n",
    "$$ \\Large MSE = \\frac{\\sum_{i=1}^{n}(y_{i} - \\hat y_{i})^2}{n}$$\n",
    "\n",
    "\n",
    "- Statisticians like MSE over MAE because it punishes larger errors more severely, we can square $y_{i} - \\hat y_{i} $ instead of taking the absolute value.\n",
    "\n",
    "- Unlike MAE, MSE is no longer in the same units as the data, it is in units-squared. \n"
   ]
  },
  {
   "cell_type": "code",
   "execution_count": null,
   "metadata": {
    "scrolled": false
   },
   "outputs": [],
   "source": [
    "line_plot(model_metrics_df, column_1='Train MSE', column_2='Test MSE',\n",
    "             fs=(10,5), file_name='Model Performance MSE Scores.png',\n",
    "             tit_lab='Model Performance', x_lab='', y_lab='MSE', \n",
    "             fmt=price_0_fmt,\n",
    "             hza='center', rot=20)"
   ]
  },
  {
   "cell_type": "markdown",
   "metadata": {},
   "source": [
    "### **Root-Mean Squared Error (RMSE)**"
   ]
  },
  {
   "cell_type": "markdown",
   "metadata": {},
   "source": [
    "- To convert MSE back to the same units as the original taret, we can take the square-root of the MSE to get RMSE.\n",
    "\n",
    "$$ \\Large RMSE = \\sqrt{\\frac{\\sum_{i=1}^{n}(y_{i} - \\hat y_{i})^2}{n}}$$\n",
    "\n",
    ">- RMSE is probably the best/most-useful metric out of MAE, MSE, and RMSE."
   ]
  },
  {
   "cell_type": "code",
   "execution_count": null,
   "metadata": {},
   "outputs": [],
   "source": [
    "line_plot(model_metrics_df, column_1='Train RMSE', column_2='Test RMSE',\n",
    "             fs=(10,5), file_name='Model Performance RMSE Scores.png',\n",
    "             tit_lab='Model Performance', x_lab='', y_lab='RMSE', \n",
    "             fmt=price_0_fmt,\n",
    "             hza='center', rot=20)"
   ]
  },
  {
   "cell_type": "markdown",
   "metadata": {},
   "source": [
    "### **Coefficient of Determination (R2)**"
   ]
  },
  {
   "cell_type": "markdown",
   "metadata": {},
   "source": [
    "\n",
    "> **The $R^2$ or Coefficient of determination is a statistical measure that is used to assess the goodness of fit of a regression model**\n",
    "\n",
    ">- Value should be between 0 and 1.\n",
    "    - $R^2$ is the proportion (%) of the variance in our target that our model could explain.\n",
    "    - $R^2$=0.8 means our model can explain 80% of the variance in our target.\n",
    "    - If we have a REALLY BAD model, we may get a negative $R^2$\n",
    "\n",
    "\n",
    "\n",
    "- The **Sum of Squared Errors (SSE)** for our Models **Predicted Values ($\\hat{y}$) vs the true values ($y_i$)**: \n",
    "$$\\text{SSE of our Predictions } = \\sum_i(y_i - \\hat y_i)^2$$\n",
    "\n",
    "- The **SSE if we use the Mean as Our Prediction ($\\bar{y}$) vs the true values  ($y_i$)**\n",
    "\n",
    " $$\\text{SSE of the Mean } = \\sum_i(y_i - \\overline y_i)^2$$\n",
    "\n",
    "\n",
    "- $R^2$ (R-Square) calculates how much better our model's predictions are vs if we just used the mean instead. \n",
    "\n",
    "\n",
    "$$ \\large R^2 = 1 - \\dfrac{\\text{SSE of our Predictions}}{ \\text{SSE of the Mean }}  $$\n",
    "\n",
    "\n",
    "<br>\n",
    "\n",
    "$$ \\large R^2  = 1 - \\dfrac{\\sum_i(y_i - \\hat y_i)^2}{\\sum_i(y_i - \\overline y_i)^2} $$\n",
    "\n"
   ]
  },
  {
   "cell_type": "code",
   "execution_count": null,
   "metadata": {
    "scrolled": false
   },
   "outputs": [],
   "source": [
    "line_plot(model_metrics_df, column_1='Train R2', column_2='Test R2',\n",
    "             fs=(10,5), file_name='Model Performance R2 Scores.png',\n",
    "             tit_lab='Model Performance', x_lab='', y_lab='R2', \n",
    "             fmt=perc_0_fmt,\n",
    "             hza='center', rot=20)"
   ]
  },
  {
   "cell_type": "markdown",
   "metadata": {},
   "source": [
    "## **Feature Importances**"
   ]
  },
  {
   "cell_type": "code",
   "execution_count": null,
   "metadata": {
    "scrolled": true
   },
   "outputs": [],
   "source": [
    "feature_importance_df = pd.DataFrame(ran_for_pipe.named_steps['randomforestregressor']\n",
    "                                     .feature_importances_,\n",
    "                                     index = feature_names,  \n",
    "                                     columns=['Feature Importance'])\\\n",
    "                                     .sort_values('Feature Importance', \n",
    "                                     ascending=False)"
   ]
  },
  {
   "cell_type": "code",
   "execution_count": null,
   "metadata": {},
   "outputs": [],
   "source": [
    "# Create Feature column from index\n",
    "feature_importance_df.insert(loc = 0,\n",
    "          column = 'Feature',\n",
    "          value = feature_importance_df.index)"
   ]
  },
  {
   "cell_type": "code",
   "execution_count": null,
   "metadata": {},
   "outputs": [],
   "source": [
    "# Reset index\n",
    "feature_importance_df.reset_index(drop=True, inplace=True)"
   ]
  },
  {
   "cell_type": "code",
   "execution_count": null,
   "metadata": {},
   "outputs": [],
   "source": [
    "# Display the first (5) rows of the dataframe\n",
    "feature_importance_df.head(5).style.format({\"Feature Importance\":  \"{:.4%}\"})"
   ]
  },
  {
   "cell_type": "code",
   "execution_count": null,
   "metadata": {},
   "outputs": [],
   "source": [
    "# Utilize function to display bar plot\n",
    "bar_plot(df=feature_importance_df, \n",
    "         x_column_name='Feature', \n",
    "         y_column_name='Feature Importance', \n",
    "         fs=(10,5), file_name='Feature Importance.png',\n",
    "         tit_lab='Top 5 Features by Importance',\n",
    "         label_order=feature_importance_df.Feature.head(5),\n",
    "         fmt=perc_0_fmt,\n",
    "         hza='right', rot=20)"
   ]
  },
  {
   "cell_type": "markdown",
   "metadata": {},
   "source": [
    "## **Summary**"
   ]
  },
  {
   "cell_type": "markdown",
   "metadata": {},
   "source": [
    "## **Reccomendations**"
   ]
  },
  {
   "cell_type": "markdown",
   "metadata": {},
   "source": [
    "---"
   ]
  },
  {
   "cell_type": "markdown",
   "metadata": {},
   "source": [
    "## **To do List**"
   ]
  },
  {
   "cell_type": "markdown",
   "metadata": {},
   "source": [
    "- EDA\n",
    "  - Groupby objects to dataframes\n",
    "\n",
    "\n",
    "- Writeup: Summary/Recommendation/ReadMe\n",
    "  - Statistical Equations and explanations\n",
    "  - DataFrames to images\n",
    "   - Jupyter NB Download Menu - Dataframe as Image (PDF or MD)\n",
    "   - df to png: [link](https://pypi.org/project/dataframe-image/)\n",
    "     - import dataframe_image as dfi\n",
    "     - dfi.export(styled_df, 'filename.png')\n",
    "     \n",
    "###########################################\n",
    "\n",
    "- Feature Importance\n",
    "  - Stack 5\n",
    "  - SKLearn Permutation\n",
    "\n",
    "\n",
    "- Model Stacking \n",
    "\n",
    "\n",
    "- Linear Regression Statsmodels \n",
    " - Linear Regression Model Assumptions\n",
    "\n",
    "\n",
    "- Functions \n",
    "  - utilize **args **kwargs\n"
   ]
  }
 ],
 "metadata": {
  "colab": {
   "collapsed_sections": [],
   "machine_shape": "hm",
   "name": "Regression – Prediction of Grocery Sales .ipynb",
   "provenance": [],
   "toc_visible": true
  },
  "gpuClass": "standard",
  "kernelspec": {
   "display_name": "Python (dojo-env-Jul22)",
   "language": "python",
   "name": "dojo-env-jul22"
  },
  "language_info": {
   "codemirror_mode": {
    "name": "ipython",
    "version": 3
   },
   "file_extension": ".py",
   "mimetype": "text/x-python",
   "name": "python",
   "nbconvert_exporter": "python",
   "pygments_lexer": "ipython3",
   "version": "3.8.13"
  },
  "toc": {
   "base_numbering": 1,
   "nav_menu": {
    "height": "306px",
    "width": "160px"
   },
   "number_sections": true,
   "sideBar": true,
   "skip_h1_title": true,
   "title_cell": "Table of Contents",
   "title_sidebar": "Contents",
   "toc_cell": false,
   "toc_position": {
    "height": "445px",
    "left": "48px",
    "top": "111.125px",
    "width": "303.993px"
   },
   "toc_section_display": true,
   "toc_window_display": true
  }
 },
 "nbformat": 4,
 "nbformat_minor": 1
}
